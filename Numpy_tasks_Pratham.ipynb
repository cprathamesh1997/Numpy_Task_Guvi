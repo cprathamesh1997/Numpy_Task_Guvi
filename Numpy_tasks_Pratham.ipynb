{
  "cells": [
    {
      "cell_type": "markdown",
      "metadata": {
        "id": "4EwKzDCsXGSU"
      },
      "source": [
        "# Numpy\n",
        "\n"
      ]
    },
    {
      "cell_type": "markdown",
      "metadata": {
        "id": "qj4-dUJ9XGSb"
      },
      "source": [
        "#### 1. Import the numpy package under the name `np` (★☆☆) \n",
        "(**hint**: import … as …)"
      ]
    },
    {
      "cell_type": "code",
      "execution_count": 1,
      "metadata": {
        "collapsed": true,
        "id": "UNHX9x6JXGSc"
      },
      "outputs": [],
      "source": [
        "import numpy as np"
      ]
    },
    {
      "cell_type": "markdown",
      "metadata": {
        "id": "4Rj4AVeEXGSd"
      },
      "source": [
        "#### 2. Print the numpy version and the configuration (★☆☆) \n",
        "(**hint**: np.\\_\\_version\\_\\_, np.show\\_config)"
      ]
    },
    {
      "cell_type": "code",
      "execution_count": 2,
      "metadata": {
        "id": "kbUBdLZNXGSe",
        "colab": {
          "base_uri": "https://localhost:8080/"
        },
        "outputId": "21b3a3b5-6d06-4a0c-cfcd-91cb5e0a8f3f"
      },
      "outputs": [
        {
          "output_type": "stream",
          "name": "stdout",
          "text": [
            "1.22.4\n",
            "openblas64__info:\n",
            "    libraries = ['openblas64_', 'openblas64_']\n",
            "    library_dirs = ['/usr/local/lib']\n",
            "    language = c\n",
            "    define_macros = [('HAVE_CBLAS', None), ('BLAS_SYMBOL_SUFFIX', '64_'), ('HAVE_BLAS_ILP64', None)]\n",
            "    runtime_library_dirs = ['/usr/local/lib']\n",
            "blas_ilp64_opt_info:\n",
            "    libraries = ['openblas64_', 'openblas64_']\n",
            "    library_dirs = ['/usr/local/lib']\n",
            "    language = c\n",
            "    define_macros = [('HAVE_CBLAS', None), ('BLAS_SYMBOL_SUFFIX', '64_'), ('HAVE_BLAS_ILP64', None)]\n",
            "    runtime_library_dirs = ['/usr/local/lib']\n",
            "openblas64__lapack_info:\n",
            "    libraries = ['openblas64_', 'openblas64_']\n",
            "    library_dirs = ['/usr/local/lib']\n",
            "    language = c\n",
            "    define_macros = [('HAVE_CBLAS', None), ('BLAS_SYMBOL_SUFFIX', '64_'), ('HAVE_BLAS_ILP64', None), ('HAVE_LAPACKE', None)]\n",
            "    runtime_library_dirs = ['/usr/local/lib']\n",
            "lapack_ilp64_opt_info:\n",
            "    libraries = ['openblas64_', 'openblas64_']\n",
            "    library_dirs = ['/usr/local/lib']\n",
            "    language = c\n",
            "    define_macros = [('HAVE_CBLAS', None), ('BLAS_SYMBOL_SUFFIX', '64_'), ('HAVE_BLAS_ILP64', None), ('HAVE_LAPACKE', None)]\n",
            "    runtime_library_dirs = ['/usr/local/lib']\n",
            "Supported SIMD extensions in this NumPy install:\n",
            "    baseline = SSE,SSE2,SSE3\n",
            "    found = SSSE3,SSE41,POPCNT,SSE42,AVX,F16C,FMA3,AVX2\n",
            "    not found = AVX512F,AVX512CD,AVX512_KNL,AVX512_KNM,AVX512_SKX,AVX512_CLX,AVX512_CNL,AVX512_ICL\n",
            "None\n"
          ]
        }
      ],
      "source": [
        "print(np.__version__)\n",
        "print(np.show_config())"
      ]
    },
    {
      "cell_type": "markdown",
      "metadata": {
        "id": "ecYzwsgUXGSf"
      },
      "source": [
        "#### 3. Create a null vector of size 10 (★☆☆) \n",
        "(**hint**: np.zeros)"
      ]
    },
    {
      "cell_type": "code",
      "execution_count": 3,
      "metadata": {
        "id": "XbA9Aal-XGSf",
        "colab": {
          "base_uri": "https://localhost:8080/"
        },
        "outputId": "73f31781-1427-4e64-f884-b71f37afe661"
      },
      "outputs": [
        {
          "output_type": "stream",
          "name": "stdout",
          "text": [
            "10\n",
            "[0. 0. 0. 0. 0. 0. 0. 0. 0. 0.]\n"
          ]
        }
      ],
      "source": [
        "import numpy as np\n",
        "x = np.zeros(10)\n",
        "print(x.size)\n",
        "print(x)"
      ]
    },
    {
      "cell_type": "markdown",
      "metadata": {
        "id": "3gD0hlKwXGSg"
      },
      "source": [
        "#### 4.  How to find the memory size of any array (★☆☆) \n",
        "(**hint**: size, itemsize)"
      ]
    },
    {
      "cell_type": "code",
      "execution_count": 4,
      "metadata": {
        "id": "1hh82yp2XGSh",
        "colab": {
          "base_uri": "https://localhost:8080/"
        },
        "outputId": "f55534e7-452f-4ace-f4ec-414ced84a7fc"
      },
      "outputs": [
        {
          "output_type": "stream",
          "name": "stdout",
          "text": [
            "Memory size of the array  [1 2 3 4 5 6] is:  48\n"
          ]
        }
      ],
      "source": [
        "import numpy as np\n",
        "arr = np.array([1, 2, 3, 4, 5,6])  # 1D\n",
        "a=arr.size\n",
        "a1=arr.itemsize\n",
        "print(\"Memory size of the array \", arr ,\"is: \",a*a1)"
      ]
    },
    {
      "cell_type": "markdown",
      "metadata": {
        "id": "9l6LWNktXGSh"
      },
      "source": [
        "#### 5.  How to get the documentation of the numpy add function from the command line? (★☆☆) \n",
        "(**hint**: np.info)"
      ]
    },
    {
      "cell_type": "code",
      "execution_count": 5,
      "metadata": {
        "collapsed": true,
        "id": "kAtCIvbaXGSh",
        "colab": {
          "base_uri": "https://localhost:8080/"
        },
        "outputId": "6d59b5cc-d10c-4f34-b2ed-98819b3b7a7e"
      },
      "outputs": [
        {
          "output_type": "stream",
          "name": "stdout",
          "text": [
            "add(x1, x2, /, out=None, *, where=True, casting='same_kind', order='K', dtype=None, subok=True[, signature, extobj])\n",
            "\n",
            "Add arguments element-wise.\n",
            "\n",
            "Parameters\n",
            "----------\n",
            "x1, x2 : array_like\n",
            "    The arrays to be added.\n",
            "    If ``x1.shape != x2.shape``, they must be broadcastable to a common\n",
            "    shape (which becomes the shape of the output).\n",
            "out : ndarray, None, or tuple of ndarray and None, optional\n",
            "    A location into which the result is stored. If provided, it must have\n",
            "    a shape that the inputs broadcast to. If not provided or None,\n",
            "    a freshly-allocated array is returned. A tuple (possible only as a\n",
            "    keyword argument) must have length equal to the number of outputs.\n",
            "where : array_like, optional\n",
            "    This condition is broadcast over the input. At locations where the\n",
            "    condition is True, the `out` array will be set to the ufunc result.\n",
            "    Elsewhere, the `out` array will retain its original value.\n",
            "    Note that if an uninitialized `out` array is created via the default\n",
            "    ``out=None``, locations within it where the condition is False will\n",
            "    remain uninitialized.\n",
            "**kwargs\n",
            "    For other keyword-only arguments, see the\n",
            "    :ref:`ufunc docs <ufuncs.kwargs>`.\n",
            "\n",
            "Returns\n",
            "-------\n",
            "add : ndarray or scalar\n",
            "    The sum of `x1` and `x2`, element-wise.\n",
            "    This is a scalar if both `x1` and `x2` are scalars.\n",
            "\n",
            "Notes\n",
            "-----\n",
            "Equivalent to `x1` + `x2` in terms of array broadcasting.\n",
            "\n",
            "Examples\n",
            "--------\n",
            ">>> np.add(1.0, 4.0)\n",
            "5.0\n",
            ">>> x1 = np.arange(9.0).reshape((3, 3))\n",
            ">>> x2 = np.arange(3.0)\n",
            ">>> np.add(x1, x2)\n",
            "array([[  0.,   2.,   4.],\n",
            "       [  3.,   5.,   7.],\n",
            "       [  6.,   8.,  10.]])\n",
            "\n",
            "The ``+`` operator can be used as a shorthand for ``np.add`` on ndarrays.\n",
            "\n",
            ">>> x1 = np.arange(9.0).reshape((3, 3))\n",
            ">>> x2 = np.arange(3.0)\n",
            ">>> x1 + x2\n",
            "array([[ 0.,  2.,  4.],\n",
            "       [ 3.,  5.,  7.],\n",
            "       [ 6.,  8., 10.]])\n"
          ]
        }
      ],
      "source": [
        "np.info(np.add)"
      ]
    },
    {
      "cell_type": "markdown",
      "metadata": {
        "id": "ZO3zty0YXGSi"
      },
      "source": [
        "#### 6.  Create a null vector of size 10 but the fifth value which is 1 (★☆☆) \n",
        "(**hint**: array\\[4\\])"
      ]
    },
    {
      "cell_type": "code",
      "execution_count": 6,
      "metadata": {
        "id": "_e7Emnx-XGSj",
        "colab": {
          "base_uri": "https://localhost:8080/"
        },
        "outputId": "46314d3b-a116-4abf-eaaa-b124973f1210"
      },
      "outputs": [
        {
          "output_type": "stream",
          "name": "stdout",
          "text": [
            "[0. 0. 0. 0. 1. 0. 0. 0. 0. 0.]\n"
          ]
        }
      ],
      "source": [
        "x = np.zeros(10)\n",
        "x[4]=1\n",
        "print(x)"
      ]
    },
    {
      "cell_type": "markdown",
      "metadata": {
        "id": "g9k90c41XGSn"
      },
      "source": [
        "#### 7.  Create a vector with values ranging from 10 to 49 (★☆☆) \n",
        "(**hint**: np.arange)"
      ]
    },
    {
      "cell_type": "code",
      "execution_count": 7,
      "metadata": {
        "id": "lATPDjfzXGSn",
        "colab": {
          "base_uri": "https://localhost:8080/"
        },
        "outputId": "defd74c9-8673-4804-e308-c770f6f6eca5"
      },
      "outputs": [
        {
          "output_type": "stream",
          "name": "stdout",
          "text": [
            "[10 11 12 13 14 15 16 17 18 19 20 21 22 23 24 25 26 27 28 29 30 31 32 33\n",
            " 34 35 36 37 38 39 40 41 42 43 44 45 46 47 48 49]\n"
          ]
        }
      ],
      "source": [
        "arr=np.arange(10,50)\n",
        "print(arr)"
      ]
    },
    {
      "cell_type": "markdown",
      "metadata": {
        "id": "tBWxl0nEXGSo"
      },
      "source": [
        "#### 8.  Reverse a vector (first element becomes last) (★☆☆) \n",
        "(**hint**: array\\[::-1\\])"
      ]
    },
    {
      "cell_type": "code",
      "execution_count": 8,
      "metadata": {
        "id": "gPUn7xzYXGSp",
        "colab": {
          "base_uri": "https://localhost:8080/"
        },
        "outputId": "b9a70327-77cd-47b0-cdb5-4c4a52d8d693"
      },
      "outputs": [
        {
          "output_type": "stream",
          "name": "stdout",
          "text": [
            "Array:  [ 0  1  2  3  4  5  6  7  8  9 10]\n",
            "Reverse Array:  [10  9  8  7  6  5  4  3  2  1  0]\n"
          ]
        }
      ],
      "source": [
        "arr=np.arange(0,11)\n",
        "print( \"Array: \",arr)\n",
        "print(\"Reverse Array: \",arr[::-1])"
      ]
    },
    {
      "cell_type": "markdown",
      "metadata": {
        "id": "T5mYHbIoXGSp"
      },
      "source": [
        "#### 9.  Create a 3x3 matrix with values ranging from 0 to 8 (★☆☆) \n",
        "(**hint**: reshape)"
      ]
    },
    {
      "cell_type": "code",
      "execution_count": 9,
      "metadata": {
        "id": "1YsFmBsWXGSq",
        "colab": {
          "base_uri": "https://localhost:8080/"
        },
        "outputId": "f3f4d907-c801-492f-a897-dab7a9c23a71"
      },
      "outputs": [
        {
          "output_type": "stream",
          "name": "stdout",
          "text": [
            "[[0 1 2]\n",
            " [3 4 5]\n",
            " [6 7 8]]\n"
          ]
        }
      ],
      "source": [
        "arr=np.arange(0,9)\n",
        "arr=arr.reshape(3,3)\n",
        "print(arr)"
      ]
    },
    {
      "cell_type": "markdown",
      "metadata": {
        "id": "Dss1wJJoXGSq"
      },
      "source": [
        "#### 10. Find indices of non-zero elements from \\[1,2,0,0,4,0\\] (★☆☆) \n",
        "(**hint**: np.nonzero)"
      ]
    },
    {
      "cell_type": "code",
      "execution_count": 10,
      "metadata": {
        "id": "R6Mup_b3XGSr",
        "colab": {
          "base_uri": "https://localhost:8080/"
        },
        "outputId": "71e69ebb-0564-4e21-c05e-040285a60b8d"
      },
      "outputs": [
        {
          "output_type": "stream",
          "name": "stdout",
          "text": [
            "(array([0, 1, 4]),)\n"
          ]
        }
      ],
      "source": [
        "a = np.array([1,2,0,0,4,0])  \n",
        "print(np.nonzero(a))"
      ]
    },
    {
      "cell_type": "markdown",
      "metadata": {
        "id": "ert5IXe1XGSr"
      },
      "source": [
        "#### 11. Create a 3x3 identity matrix (★☆☆) \n",
        "(**hint**: np.eye)"
      ]
    },
    {
      "cell_type": "code",
      "execution_count": 11,
      "metadata": {
        "id": "03T0lYhNXGSr",
        "colab": {
          "base_uri": "https://localhost:8080/"
        },
        "outputId": "6e2c59b8-7fe5-4645-96e1-d7cc81be1e76"
      },
      "outputs": [
        {
          "output_type": "execute_result",
          "data": {
            "text/plain": [
              "array([[1., 0., 0.],\n",
              "       [0., 1., 0.],\n",
              "       [0., 0., 1.]])"
            ]
          },
          "metadata": {},
          "execution_count": 11
        }
      ],
      "source": [
        "np.eye(3)"
      ]
    },
    {
      "cell_type": "markdown",
      "metadata": {
        "id": "GNjV4ZNHXGSs"
      },
      "source": [
        "#### 12. Create a 3x3x3 array with random values (★☆☆) \n",
        "(**hint**: np.random.random)"
      ]
    },
    {
      "cell_type": "code",
      "execution_count": 12,
      "metadata": {
        "collapsed": true,
        "id": "k1WdCllCXGSs",
        "colab": {
          "base_uri": "https://localhost:8080/"
        },
        "outputId": "9c739e8d-6ae6-4112-ec6c-722b67df8b51"
      },
      "outputs": [
        {
          "output_type": "execute_result",
          "data": {
            "text/plain": [
              "array([[[0.3595529 , 0.12747235, 0.60457622],\n",
              "        [0.81072859, 0.35839153, 0.80884891],\n",
              "        [0.45843012, 0.49715511, 0.52606318]],\n",
              "\n",
              "       [[0.95780793, 0.28565749, 0.59440989],\n",
              "        [0.76542691, 0.86901505, 0.52628127],\n",
              "        [0.30351032, 0.53099036, 0.05640572]],\n",
              "\n",
              "       [[0.51779958, 0.61001496, 0.25798579],\n",
              "        [0.1666729 , 0.21687343, 0.57816331],\n",
              "        [0.35814641, 0.16133797, 0.0054283 ]]])"
            ]
          },
          "metadata": {},
          "execution_count": 12
        }
      ],
      "source": [
        "a=np.random.random(27)\n",
        "a.reshape(3,3,3)"
      ]
    },
    {
      "cell_type": "markdown",
      "metadata": {
        "id": "qcgE9SFnXGSs"
      },
      "source": [
        "#### 13. Create a 10x10 array with random values and find the minimum and maximum values (★☆☆) \n",
        "(**hint**: min, max)"
      ]
    },
    {
      "cell_type": "code",
      "execution_count": 13,
      "metadata": {
        "id": "Rqf53IgXXGSt",
        "colab": {
          "base_uri": "https://localhost:8080/"
        },
        "outputId": "05b1466f-9f22-427e-8f1a-b5f88c206056"
      },
      "outputs": [
        {
          "output_type": "stream",
          "name": "stdout",
          "text": [
            "0.006140657917794612\n",
            "0.997065291867646\n"
          ]
        }
      ],
      "source": [
        "a=np.random.random(100)\n",
        "a.reshape(10,10)\n",
        "print(a.min())\n",
        "print(a.max())"
      ]
    },
    {
      "cell_type": "markdown",
      "metadata": {
        "id": "FRQ7M8ozXGSt"
      },
      "source": [
        "#### 14. Create a random vector of size 30 and find the mean value (★☆☆) \n",
        "(**hint**: mean)"
      ]
    },
    {
      "cell_type": "code",
      "execution_count": 15,
      "metadata": {
        "id": "KKE3A_EuXGSt",
        "colab": {
          "base_uri": "https://localhost:8080/"
        },
        "outputId": "d96c9cdd-9b3b-4bae-8d20-5fe743362e7b"
      },
      "outputs": [
        {
          "output_type": "stream",
          "name": "stdout",
          "text": [
            "0.46674887301820395\n"
          ]
        }
      ],
      "source": [
        "import numpy as np\n",
        "x = np.random.random(30)\n",
        "print(x.mean())"
      ]
    },
    {
      "cell_type": "markdown",
      "metadata": {
        "id": "aLuHmpZgXGSt"
      },
      "source": [
        "#### 15. Create a 2d array with 1 on the border and 0 inside (★☆☆) \n",
        "(**hint**: array\\[1:-1, 1:-1\\])"
      ]
    },
    {
      "cell_type": "code",
      "execution_count": 16,
      "metadata": {
        "id": "oRoM6y6_XGSu",
        "colab": {
          "base_uri": "https://localhost:8080/"
        },
        "outputId": "e6be3f80-b46e-4b60-b576-9d777b3d9d2c"
      },
      "outputs": [
        {
          "output_type": "stream",
          "name": "stdout",
          "text": [
            "[[1. 1. 1. 1. 1. 1.]\n",
            " [1. 0. 0. 0. 0. 1.]\n",
            " [1. 0. 0. 0. 0. 1.]\n",
            " [1. 0. 0. 0. 0. 1.]\n",
            " [1. 0. 0. 0. 0. 1.]\n",
            " [1. 1. 1. 1. 1. 1.]]\n"
          ]
        }
      ],
      "source": [
        "import numpy as np\n",
        "x = np.ones((6,6))\n",
        "x[1:-1,1:-1] = 0\n",
        "print(x)"
      ]
    },
    {
      "cell_type": "markdown",
      "metadata": {
        "id": "UcGpxxDdXGSu"
      },
      "source": [
        "#### 16. How to add a border (filled with 0's) around an existing array? (★☆☆) \n",
        "(**hint**: np.pad)"
      ]
    },
    {
      "cell_type": "code",
      "execution_count": 18,
      "metadata": {
        "id": "ppvfYzjEXGSu",
        "colab": {
          "base_uri": "https://localhost:8080/"
        },
        "outputId": "c36b38e5-84b5-4c6a-f2cf-ecb391da86e6"
      },
      "outputs": [
        {
          "output_type": "stream",
          "name": "stdout",
          "text": [
            "[[1. 1. 1. 1. 1. 1.]\n",
            " [1. 0. 0. 0. 0. 1.]\n",
            " [1. 0. 0. 0. 0. 1.]\n",
            " [1. 0. 0. 0. 0. 1.]\n",
            " [1. 0. 0. 0. 0. 1.]\n",
            " [1. 1. 1. 1. 1. 1.]]\n",
            "[[0. 0. 0. 0. 0. 0. 0. 0.]\n",
            " [0. 1. 1. 1. 1. 1. 1. 0.]\n",
            " [0. 1. 0. 0. 0. 0. 1. 0.]\n",
            " [0. 1. 0. 0. 0. 0. 1. 0.]\n",
            " [0. 1. 0. 0. 0. 0. 1. 0.]\n",
            " [0. 1. 0. 0. 0. 0. 1. 0.]\n",
            " [0. 1. 1. 1. 1. 1. 1. 0.]\n",
            " [0. 0. 0. 0. 0. 0. 0. 0.]]\n"
          ]
        }
      ],
      "source": [
        "import numpy as np\n",
        "x = np.ones((6,6))\n",
        "x[1:-1,1:-1] = 0\n",
        "print(x)\n",
        "b = np.pad(x, 1)\n",
        "print(b)"
      ]
    },
    {
      "cell_type": "markdown",
      "metadata": {
        "id": "lDv4TNnPXGSu"
      },
      "source": [
        "#### 17. What is the result of the following expression? (★☆☆) \n",
        "(**hint**: NaN = not a number, inf = infinity)"
      ]
    },
    {
      "cell_type": "markdown",
      "metadata": {
        "id": "IxW7NXVgXGSv"
      },
      "source": [
        "```python\n",
        "0 * np.nan\n",
        "np.nan == np.nan\n",
        "np.inf > np.nan\n",
        "np.nan - np.nan\n",
        "0.3 == 3 * 0.1\n",
        "```"
      ]
    },
    {
      "cell_type": "code",
      "execution_count": 19,
      "metadata": {
        "id": "_G3kAQbfXGSv",
        "colab": {
          "base_uri": "https://localhost:8080/"
        },
        "outputId": "20deecd5-3a09-40f7-e22c-43040a971023"
      },
      "outputs": [
        {
          "output_type": "stream",
          "name": "stdout",
          "text": [
            "nan\n",
            "False\n",
            "False\n",
            "nan\n",
            "False\n"
          ]
        }
      ],
      "source": [
        "print(0 * np.nan)\n",
        "print(np.nan == np.nan)\n",
        "print(np.inf > np.nan)\n",
        "print(np.nan - np.nan)\n",
        "print(0.3 == 3 * 0.1)"
      ]
    },
    {
      "cell_type": "markdown",
      "metadata": {
        "id": "2OD6uTAwXGSw"
      },
      "source": [
        "#### 18. Create a 5x5 matrix with values 1,2,3,4 just below the diagonal (★☆☆) \n",
        "(**hint**: np.diag)"
      ]
    },
    {
      "cell_type": "code",
      "execution_count": 20,
      "metadata": {
        "id": "WrBfb5VfXGSw",
        "colab": {
          "base_uri": "https://localhost:8080/"
        },
        "outputId": "cedbe49e-3803-49b0-8350-1c5fe281e37a"
      },
      "outputs": [
        {
          "output_type": "stream",
          "name": "stdout",
          "text": [
            "[0, 0, 0, 0, 0]\n",
            "[1, 0, 0, 0, 0]\n",
            "[2, 1, 0, 0, 0]\n",
            "[3, 2, 1, 0, 0]\n",
            "[4, 3, 2, 1, 0]\n"
          ]
        }
      ],
      "source": [
        "matrix = [[0 if j >= i else i - j for j in range(5)] for i in range(5)]\n",
        "for row in matrix:\n",
        "    print(row)"
      ]
    },
    {
      "cell_type": "markdown",
      "metadata": {
        "id": "l60znn9JXGSw"
      },
      "source": [
        "#### 19. Create a 8x8 matrix and fill it with a checkerboard pattern (★☆☆) \n",
        "(**hint**: array\\[::2\\])"
      ]
    },
    {
      "cell_type": "code",
      "execution_count": 21,
      "metadata": {
        "id": "7OZAHJEJXGSw",
        "colab": {
          "base_uri": "https://localhost:8080/"
        },
        "outputId": "581b0b82-1580-4b64-d855-3ed404b63309"
      },
      "outputs": [
        {
          "output_type": "stream",
          "name": "stdout",
          "text": [
            "Checkerboard pattern:\n",
            "[[0 1 0 1 0 1 0 1]\n",
            " [1 0 1 0 1 0 1 0]\n",
            " [0 1 0 1 0 1 0 1]\n",
            " [1 0 1 0 1 0 1 0]\n",
            " [0 1 0 1 0 1 0 1]\n",
            " [1 0 1 0 1 0 1 0]\n",
            " [0 1 0 1 0 1 0 1]\n",
            " [1 0 1 0 1 0 1 0]]\n"
          ]
        }
      ],
      "source": [
        "import numpy as np\n",
        "x = np.ones((3,3))\n",
        "print(\"Checkerboard pattern:\")\n",
        "x = np.zeros((8,8),dtype=int)\n",
        "x[1::2,::2] = 1\n",
        "x[::2,1::2] = 1\n",
        "print(x)"
      ]
    },
    {
      "cell_type": "markdown",
      "metadata": {
        "id": "w0mUrPoUXGSx"
      },
      "source": [
        "#### 20. Consider a (6,7,8) shape array, what is the index (x,y,z) of the 100th element? \n",
        "(**hint**: np.unravel_index)"
      ]
    },
    {
      "cell_type": "code",
      "execution_count": 22,
      "metadata": {
        "id": "nv2yMyKeXGSx",
        "colab": {
          "base_uri": "https://localhost:8080/"
        },
        "outputId": "429e6a05-8c95-42c8-f611-dc1c6986b6e6"
      },
      "outputs": [
        {
          "output_type": "stream",
          "name": "stdout",
          "text": [
            "(1, 5, 3)\n"
          ]
        }
      ],
      "source": [
        "print(np.unravel_index(99,(6,7,8)))"
      ]
    },
    {
      "cell_type": "markdown",
      "metadata": {
        "id": "0yROOt5sXGSx"
      },
      "source": [
        "#### 21. Create a checkerboard 8x8 matrix using the tile function (★☆☆) \n",
        "(**hint**: np.tile)"
      ]
    },
    {
      "cell_type": "code",
      "execution_count": 23,
      "metadata": {
        "id": "NS8yEqmSXGSx",
        "colab": {
          "base_uri": "https://localhost:8080/"
        },
        "outputId": "3d23bace-913c-475a-9c1a-c338b40367b9"
      },
      "outputs": [
        {
          "output_type": "stream",
          "name": "stdout",
          "text": [
            "[[0 1 0 1 0 1 0 1]\n",
            " [1 0 1 0 1 0 1 0]\n",
            " [0 1 0 1 0 1 0 1]\n",
            " [1 0 1 0 1 0 1 0]\n",
            " [0 1 0 1 0 1 0 1]\n",
            " [1 0 1 0 1 0 1 0]\n",
            " [0 1 0 1 0 1 0 1]\n",
            " [1 0 1 0 1 0 1 0]]\n"
          ]
        }
      ],
      "source": [
        "a= np.tile( np.array([[0,1],[1,0]]), (4,4))\n",
        "print(a)"
      ]
    },
    {
      "cell_type": "markdown",
      "metadata": {
        "id": "ulVIMTqwXGSy"
      },
      "source": [
        "#### 22. Normalize a 5x5 random matrix (★☆☆) \n",
        "(**hint**: (x - min) / (max - min))"
      ]
    },
    {
      "cell_type": "code",
      "execution_count": 24,
      "metadata": {
        "id": "r_4JUAMMXGSy",
        "colab": {
          "base_uri": "https://localhost:8080/"
        },
        "outputId": "a8f78f1c-4b17-4ba6-92cb-e37dc51fe6a0"
      },
      "outputs": [
        {
          "output_type": "stream",
          "name": "stdout",
          "text": [
            "[[ 0.06480196 -0.8832677   0.53901625  0.42792746 -1.29893252]\n",
            " [-1.35077509 -1.61390442  0.8579292   1.10580068  0.81661136]\n",
            " [ 0.6595028  -1.20823323 -1.14117696  0.0504222   0.85286012]\n",
            " [-0.50691068  0.79082803 -0.03564242 -1.07082497  1.61406827]\n",
            " [-0.82092608  1.60879249 -0.38246918  1.60276049 -0.67825803]]\n"
          ]
        }
      ],
      "source": [
        "Z = np.random.random((5,5))\n",
        "Z = (Z - np.mean (Z)) / (np.std (Z))\n",
        "print(Z)"
      ]
    },
    {
      "cell_type": "markdown",
      "metadata": {
        "id": "wzYqjGAYXGSy"
      },
      "source": [
        "#### 23. Create a custom dtype that describes a color as four unsigned bytes (RGBA) (★☆☆) \n",
        "(**hint**: np.dtype)"
      ]
    },
    {
      "cell_type": "code",
      "execution_count": 26,
      "metadata": {
        "collapsed": true,
        "id": "GCYJMo9sXGSy",
        "colab": {
          "base_uri": "https://localhost:8080/"
        },
        "outputId": "db6659c1-66ff-4d0e-fae6-b30b4d14ff3b"
      },
      "outputs": [
        {
          "output_type": "stream",
          "name": "stdout",
          "text": [
            "[('R', 'u1'), ('G', 'u1'), ('B', 'u1'), ('A', 'u1')]\n"
          ]
        }
      ],
      "source": [
        "import numpy as np\n",
        "c= np.dtype([(\"R\", np.ubyte),\n",
        "                  (\"G\", np.ubyte),\n",
        "                  (\"B\", np.ubyte),\n",
        "                  (\"A\", np.ubyte)]) \n",
        "print(c)"
      ]
    },
    {
      "cell_type": "markdown",
      "metadata": {
        "id": "9gld9INeXGSz"
      },
      "source": [
        "#### 24. Multiply a 5x3 matrix by a 3x2 matrix (real matrix product) (★☆☆) \n",
        "(**hint**: np.dot | @)"
      ]
    },
    {
      "cell_type": "code",
      "execution_count": 27,
      "metadata": {
        "id": "uIXz4mA9XGSz",
        "colab": {
          "base_uri": "https://localhost:8080/"
        },
        "outputId": "a20dc445-de85-4beb-f49f-6bad688165f2"
      },
      "outputs": [
        {
          "output_type": "stream",
          "name": "stdout",
          "text": [
            "[[3. 3.]\n",
            " [3. 3.]\n",
            " [3. 3.]\n",
            " [3. 3.]\n",
            " [3. 3.]]\n"
          ]
        }
      ],
      "source": [
        "p = np.dot(np.ones((5,3)), np.ones((3,2)))\n",
        "print(p)"
      ]
    },
    {
      "cell_type": "markdown",
      "metadata": {
        "id": "BYz1BVXoXGSz"
      },
      "source": [
        "#### 25. Given a 1D array, negate all elements which are between 3 and 8, in place. (★☆☆) \n",
        "(**hint**: >, <=)"
      ]
    },
    {
      "cell_type": "code",
      "execution_count": 28,
      "metadata": {
        "id": "kQ10SHA_XGSz",
        "colab": {
          "base_uri": "https://localhost:8080/"
        },
        "outputId": "779d995a-4710-4c67-b916-409710e16a97"
      },
      "outputs": [
        {
          "output_type": "stream",
          "name": "stdout",
          "text": [
            "[ 0  1  2  3 -4 -5 -6 -7  8  9 10]\n"
          ]
        }
      ],
      "source": [
        "a = np.arange(11)\n",
        "a[(3 < a) & (a < 8)] *= -1\n",
        "print(a)"
      ]
    },
    {
      "cell_type": "markdown",
      "metadata": {
        "id": "N2szparyXGS0"
      },
      "source": [
        "#### 26. What is the output of the following script? (★☆☆) \n",
        "(**hint**: np.sum)"
      ]
    },
    {
      "cell_type": "markdown",
      "metadata": {
        "id": "PkGdM3RbXGS0"
      },
      "source": [
        "```python\n",
        "# Author: Jake VanderPlas\n",
        "\n",
        "print(sum(range(5),-1))\n",
        "from numpy import *\n",
        "print(sum(range(5),-1))\n",
        "```"
      ]
    },
    {
      "cell_type": "code",
      "execution_count": 29,
      "metadata": {
        "id": "hrGB3fG_XGS0",
        "colab": {
          "base_uri": "https://localhost:8080/"
        },
        "outputId": "c01c1095-9fdf-408f-fb76-1f745cd7abbe"
      },
      "outputs": [
        {
          "output_type": "stream",
          "name": "stdout",
          "text": [
            "9\n",
            "10\n"
          ]
        }
      ],
      "source": [
        "print(sum(range(5),-1))\n",
        "from numpy import *\n",
        "print(sum(range(5),-1))"
      ]
    },
    {
      "cell_type": "markdown",
      "metadata": {
        "id": "x3eiacpPXGS0"
      },
      "source": [
        "#### 27. Consider an integer vector Z, which of these expressions are legal? (★☆☆)"
      ]
    },
    {
      "cell_type": "markdown",
      "metadata": {
        "id": "Eb0KDDzwXGS2"
      },
      "source": [
        "```python\n",
        "Z**Z\n",
        "2 << Z >> 2\n",
        "Z <- Z\n",
        "1j*Z\n",
        "Z/1/1\n",
        "Z<Z>Z\n",
        "```"
      ]
    },
    {
      "cell_type": "code",
      "execution_count": 30,
      "metadata": {
        "id": "-FPUVYUcXGS3",
        "colab": {
          "base_uri": "https://localhost:8080/"
        },
        "outputId": "6e7c3007-8ab4-4db0-c020-4d5936bae06c"
      },
      "outputs": [
        {
          "output_type": "stream",
          "name": "stdout",
          "text": [
            "<IntegerArray>\n",
            "[1, <NA>, 27]\n",
            "Length: 3, dtype: Int32\n",
            "<BooleanArray>\n",
            "[False, <NA>, False]\n",
            "Length: 3, dtype: boolean\n",
            "<FloatingArray>\n",
            "[1.0, <NA>, 3.0]\n",
            "Length: 3, dtype: Float64\n",
            "<BooleanArray>\n",
            "[False, <NA>, False]\n",
            "Length: 3, dtype: boolean\n"
          ]
        }
      ],
      "source": [
        "import pandas as pd\n",
        "Z = pd.array([1, None, 3], dtype=pd.Int32Dtype())\n",
        "\n",
        "print(Z**Z)\n",
        "print(Z <- Z)\n",
        "print(Z/1/1)\n",
        "print(Z<Z>Z)"
      ]
    },
    {
      "cell_type": "markdown",
      "metadata": {
        "id": "NLd2_qftXGS3"
      },
      "source": [
        "#### 28. What are the result of the following expressions?"
      ]
    },
    {
      "cell_type": "markdown",
      "metadata": {
        "id": "uMBc_SSjXGS3"
      },
      "source": [
        "```python\n",
        "np.array(0) / np.array(0)\n",
        "np.array(0) // np.array(0)\n",
        "np.array([np.nan]).astype(int).astype(float)\n",
        "```"
      ]
    },
    {
      "cell_type": "code",
      "execution_count": 31,
      "metadata": {
        "id": "xnDSmLOHXGS4",
        "colab": {
          "base_uri": "https://localhost:8080/"
        },
        "outputId": "7956b0b3-5443-4cbd-ade1-7898608346ca"
      },
      "outputs": [
        {
          "output_type": "stream",
          "name": "stdout",
          "text": [
            "nan\n",
            "0\n",
            "[-9.22337204e+18]\n"
          ]
        },
        {
          "output_type": "stream",
          "name": "stderr",
          "text": [
            "<ipython-input-31-2a10de0ee61b>:1: RuntimeWarning: invalid value encountered in true_divide\n",
            "  print(np.array(0) / np.array(0))\n",
            "<ipython-input-31-2a10de0ee61b>:2: RuntimeWarning: divide by zero encountered in floor_divide\n",
            "  print(np.array(0) // np.array(0))\n"
          ]
        }
      ],
      "source": [
        "print(np.array(0) / np.array(0))\n",
        "print(np.array(0) // np.array(0))\n",
        "print(np.array([np.nan]).astype(int).astype(float))"
      ]
    },
    {
      "cell_type": "markdown",
      "metadata": {
        "id": "Es2ZEuz4XGS4"
      },
      "source": [
        "#### 29. How to round away from zero a float array ? (★☆☆) \n",
        "(**hint**: np.uniform, np.copysign, np.ceil, np.abs)"
      ]
    },
    {
      "cell_type": "code",
      "execution_count": 33,
      "metadata": {
        "id": "WkimIpbPXGS4",
        "colab": {
          "base_uri": "https://localhost:8080/"
        },
        "outputId": "d3841ec7-9107-4e7f-96b1-6a1f8e67c788"
      },
      "outputs": [
        {
          "output_type": "stream",
          "name": "stdout",
          "text": [
            "[ 16.  19.  -4.   4. -13.  -4.  18.   5. -20.   2. -12.   3.   3.  -5.\n",
            "   5.  -6.   8. -13. -19.  10.]\n"
          ]
        }
      ],
      "source": [
        "Z = np.random.uniform(-20,+20,20)\n",
        "print(np.copysign(np.ceil(np.abs(Z)), Z))"
      ]
    },
    {
      "cell_type": "markdown",
      "metadata": {
        "id": "gsdVb5XeXGS4"
      },
      "source": [
        "#### 30. How to find common values between two arrays? (★☆☆) \n",
        "(**hint**: np.intersect1d)"
      ]
    },
    {
      "cell_type": "code",
      "execution_count": 34,
      "metadata": {
        "id": "JHTuRhBzXGS5",
        "colab": {
          "base_uri": "https://localhost:8080/"
        },
        "outputId": "88f627bd-b9b9-4cd2-afd7-579d11815fc6"
      },
      "outputs": [
        {
          "output_type": "stream",
          "name": "stdout",
          "text": [
            "[3 4 5]\n"
          ]
        }
      ],
      "source": [
        "import numpy as np\n",
        "\n",
        "arr1 = np.array([1, 2, 3, 4, 5])\n",
        "arr2 = np.array([3, 4, 5, 6, 7])\n",
        "common = np.intersect1d(arr1, arr2)\n",
        "print(common)\n"
      ]
    },
    {
      "cell_type": "markdown",
      "metadata": {
        "id": "OqvjL5_rXGS5"
      },
      "source": [
        "#### 31. How to ignore all numpy warnings (not recommended)? (★☆☆) \n",
        "(**hint**: np.seterr, np.errstate)"
      ]
    },
    {
      "cell_type": "code",
      "execution_count": 37,
      "metadata": {
        "id": "0DK-0M53XGS5"
      },
      "outputs": [],
      "source": [
        "with np.errstate(all=\"ignore\"):\n",
        "    np.arange(6) / 0"
      ]
    },
    {
      "cell_type": "markdown",
      "metadata": {
        "id": "tOqmgoe4XGS5"
      },
      "source": [
        "#### 32. Is the following expressions true? (★☆☆) \n",
        "(**hint**: imaginary number)"
      ]
    },
    {
      "cell_type": "markdown",
      "metadata": {
        "id": "EtRAxsuPXGS6"
      },
      "source": [
        "```python\n",
        "np.sqrt(-1) == np.emath.sqrt(-1)\n",
        "```"
      ]
    },
    {
      "cell_type": "code",
      "execution_count": 38,
      "metadata": {
        "id": "Z3dwNlEzXGS6",
        "colab": {
          "base_uri": "https://localhost:8080/"
        },
        "outputId": "908234a6-7d70-43ee-d829-5bb0d2081c8d"
      },
      "outputs": [
        {
          "output_type": "stream",
          "name": "stderr",
          "text": [
            "<ipython-input-38-16339fbc685e>:1: RuntimeWarning: invalid value encountered in sqrt\n",
            "  np.sqrt(-1) == np.emath.sqrt(-1)\n"
          ]
        },
        {
          "output_type": "execute_result",
          "data": {
            "text/plain": [
              "False"
            ]
          },
          "metadata": {},
          "execution_count": 38
        }
      ],
      "source": [
        "np.sqrt(-1) == np.emath.sqrt(-1)"
      ]
    },
    {
      "cell_type": "markdown",
      "metadata": {
        "id": "6p0nvK11XGS6"
      },
      "source": [
        "#### 33. How to get the dates of yesterday, today and tomorrow? (★☆☆) \n",
        "(**hint**: np.datetime64, np.timedelta64)"
      ]
    },
    {
      "cell_type": "code",
      "execution_count": 39,
      "metadata": {
        "collapsed": true,
        "id": "cqwG-cxLXGS6",
        "colab": {
          "base_uri": "https://localhost:8080/"
        },
        "outputId": "a8cb4216-8c3e-4d98-d038-fea5c14f3956"
      },
      "outputs": [
        {
          "output_type": "stream",
          "name": "stdout",
          "text": [
            "2023-02-25\n",
            "2023-02-26\n",
            "2023-02-27\n"
          ]
        }
      ],
      "source": [
        "yesterday = np.datetime64('today') - np.timedelta64(1)\n",
        "today     = np.datetime64('today')\n",
        "tomorrow  = np.datetime64('today') + np.timedelta64(1)\n",
        "print(yesterday)\n",
        "print(today)\n",
        "print(tomorrow)"
      ]
    },
    {
      "cell_type": "markdown",
      "metadata": {
        "id": "7xSLFhSJXGS6"
      },
      "source": [
        "#### 34. How to get all the dates corresponding to the month of July 2016? (★★☆) \n",
        "(**hint**: np.arange(dtype=datetime64\\['D'\\]))"
      ]
    },
    {
      "cell_type": "code",
      "execution_count": 40,
      "metadata": {
        "id": "dApW5sXJXGS7",
        "colab": {
          "base_uri": "https://localhost:8080/"
        },
        "outputId": "aa00d8a4-e8b1-4285-a978-82b6119b72b3"
      },
      "outputs": [
        {
          "output_type": "stream",
          "name": "stdout",
          "text": [
            "['2016-07-01' '2016-07-02' '2016-07-03' '2016-07-04' '2016-07-05'\n",
            " '2016-07-06' '2016-07-07' '2016-07-08' '2016-07-09' '2016-07-10'\n",
            " '2016-07-11' '2016-07-12' '2016-07-13' '2016-07-14' '2016-07-15'\n",
            " '2016-07-16' '2016-07-17' '2016-07-18' '2016-07-19' '2016-07-20'\n",
            " '2016-07-21' '2016-07-22' '2016-07-23' '2016-07-24' '2016-07-25'\n",
            " '2016-07-26' '2016-07-27' '2016-07-28' '2016-07-29' '2016-07-30'\n",
            " '2016-07-31']\n"
          ]
        }
      ],
      "source": [
        "july = np.arange('2016-07', '2016-08', dtype='datetime64[D]')\n",
        "print(july)"
      ]
    },
    {
      "cell_type": "markdown",
      "metadata": {
        "id": "s-_4suzBXGS7"
      },
      "source": [
        "#### 35. How to compute ((A+B)\\*(-A/2)) in place (without copy)? (★★☆) \n",
        "(**hint**: np.add(out=), np.negative(out=), np.multiply(out=), np.divide(out=))"
      ]
    },
    {
      "cell_type": "code",
      "execution_count": 42,
      "metadata": {
        "id": "mNeR43u3XGS7",
        "colab": {
          "base_uri": "https://localhost:8080/"
        },
        "outputId": "555c5076-1a60-4279-852a-5f167db9b757"
      },
      "outputs": [
        {
          "output_type": "execute_result",
          "data": {
            "text/plain": [
              "array([-1.5, -1.5, -1.5, -1.5])"
            ]
          },
          "metadata": {},
          "execution_count": 42
        }
      ],
      "source": [
        "A = np.ones(4)*1\n",
        "B = np.ones(4)*2\n",
        "np.add(A,B,out=B)\n",
        "np.divide(A,2,out=A)\n",
        "np.negative(A,out=A)\n",
        "np.multiply(A,B,out=A)"
      ]
    },
    {
      "cell_type": "markdown",
      "metadata": {
        "id": "md5eVhWSXGS7"
      },
      "source": [
        "#### 36. Extract the integer part of a random array using 5 different methods (★★☆) \n",
        "(**hint**: %, np.floor, np.ceil, astype, np.trunc)"
      ]
    },
    {
      "cell_type": "code",
      "execution_count": 43,
      "metadata": {
        "id": "QdPpWMKFXGS8",
        "colab": {
          "base_uri": "https://localhost:8080/"
        },
        "outputId": "1ca9e5b6-5f71-4f8f-80f8-e2e78ef6de93"
      },
      "outputs": [
        {
          "output_type": "stream",
          "name": "stdout",
          "text": [
            "[9. 6. 3. 8. 8. 2. 8. 9. 9. 4.]\n",
            "[9. 6. 3. 8. 8. 2. 8. 9. 9. 4.]\n",
            "[9. 6. 3. 8. 8. 2. 8. 9. 9. 4.]\n",
            "[9 6 3 8 8 2 8 9 9 4]\n",
            "[9. 6. 3. 8. 8. 2. 8. 9. 9. 4.]\n"
          ]
        }
      ],
      "source": [
        "Z = np.random.uniform(0,10,10)\n",
        "\n",
        "print(Z - Z%1)\n",
        "print(Z // 1)\n",
        "print(np.floor(Z))\n",
        "print(Z.astype(int))\n",
        "print(np.trunc(Z))"
      ]
    },
    {
      "cell_type": "markdown",
      "metadata": {
        "id": "srxcnne9XGS8"
      },
      "source": [
        "#### 37. Create a 5x5 matrix with row values ranging from 0 to 4 (★★☆) \n",
        "(**hint**: np.arange)"
      ]
    },
    {
      "cell_type": "code",
      "execution_count": 44,
      "metadata": {
        "id": "zbS5tuQcXGS8",
        "colab": {
          "base_uri": "https://localhost:8080/"
        },
        "outputId": "97738f92-c2af-4fe5-d7cb-362b145b873f"
      },
      "outputs": [
        {
          "output_type": "stream",
          "name": "stdout",
          "text": [
            "[[0. 1. 2. 3. 4.]\n",
            " [0. 1. 2. 3. 4.]\n",
            " [0. 1. 2. 3. 4.]\n",
            " [0. 1. 2. 3. 4.]\n",
            " [0. 1. 2. 3. 4.]]\n"
          ]
        }
      ],
      "source": [
        "a = np.zeros((5,5))\n",
        "a += np.arange(5)\n",
        "print(a)"
      ]
    },
    {
      "cell_type": "markdown",
      "metadata": {
        "id": "i26bnHSYXGS9"
      },
      "source": [
        "#### 38. Consider a generator function that generates 10 integers and use it to build an array (★☆☆) \n",
        "(**hint**: np.fromiter)"
      ]
    },
    {
      "cell_type": "code",
      "execution_count": 45,
      "metadata": {
        "id": "6_Gqe3gKXGS9",
        "colab": {
          "base_uri": "https://localhost:8080/"
        },
        "outputId": "349425ca-f382-4497-ec57-6b22e3d68b67"
      },
      "outputs": [
        {
          "output_type": "stream",
          "name": "stdout",
          "text": [
            "[0. 1. 2. 3. 4. 5. 6. 7. 8. 9.]\n"
          ]
        }
      ],
      "source": [
        "def generate():\n",
        "    for x in range(10):\n",
        "        yield x\n",
        "Z = np.fromiter(generate(),dtype=float,count=-1)\n",
        "print(Z)"
      ]
    },
    {
      "cell_type": "markdown",
      "metadata": {
        "id": "eYyWmcwtXGS9"
      },
      "source": [
        "#### 39. Create a vector of size 10 with values ranging from 0 to 1, both excluded (★★☆) \n",
        "(**hint**: np.linspace)"
      ]
    },
    {
      "cell_type": "code",
      "execution_count": 46,
      "metadata": {
        "id": "xq4fAywDXGS9",
        "colab": {
          "base_uri": "https://localhost:8080/"
        },
        "outputId": "28b91bd6-0e59-46de-9f45-450444199c2c"
      },
      "outputs": [
        {
          "output_type": "stream",
          "name": "stdout",
          "text": [
            "[0.09090909 0.18181818 0.27272727 0.36363636 0.45454545 0.54545455\n",
            " 0.63636364 0.72727273 0.81818182 0.90909091]\n"
          ]
        }
      ],
      "source": [
        "v = np.linspace(0,1,11,endpoint=False)[1:]\n",
        "print(v)"
      ]
    },
    {
      "cell_type": "markdown",
      "metadata": {
        "id": "ka4OcHN7XGS-"
      },
      "source": [
        "#### 40. Create a random vector of size 10 and sort it (★★☆) \n",
        "(**hint**: sort)"
      ]
    },
    {
      "cell_type": "code",
      "execution_count": 47,
      "metadata": {
        "id": "9_9olAgHXGS-",
        "colab": {
          "base_uri": "https://localhost:8080/"
        },
        "outputId": "6088bc98-771c-43a8-951a-96399bffd9c3"
      },
      "outputs": [
        {
          "output_type": "stream",
          "name": "stdout",
          "text": [
            "[0.07607517 0.17762526 0.47712057 0.65035535 0.72051658 0.73063594\n",
            " 0.83730803 0.86377782 0.95372087 0.99094565]\n"
          ]
        }
      ],
      "source": [
        "v = np.random.random(10)\n",
        "v.sort()\n",
        "print(v)"
      ]
    },
    {
      "cell_type": "markdown",
      "metadata": {
        "id": "XGSwF7LfXGS-"
      },
      "source": [
        "#### 41. How to sum a small array faster than np.sum? (★★☆) \n",
        "(**hint**: np.add.reduce)"
      ]
    },
    {
      "cell_type": "code",
      "execution_count": 49,
      "metadata": {
        "id": "Apd7g9VmXGS-",
        "colab": {
          "base_uri": "https://localhost:8080/"
        },
        "outputId": "1fad68fb-598e-4521-c951-88a0cff3a1ee"
      },
      "outputs": [
        {
          "output_type": "execute_result",
          "data": {
            "text/plain": [
              "190"
            ]
          },
          "metadata": {},
          "execution_count": 49
        }
      ],
      "source": [
        "s = np.arange(20)\n",
        "np.add.reduce(s)"
      ]
    },
    {
      "cell_type": "markdown",
      "metadata": {
        "id": "BJMwz7oFXGS_"
      },
      "source": [
        "#### 42. Consider two random array A and B, check if they are equal (★★☆) \n",
        "(**hint**: np.allclose, np.array\\_equal)"
      ]
    },
    {
      "cell_type": "code",
      "execution_count": 50,
      "metadata": {
        "id": "kjBMkhTWXGS_",
        "colab": {
          "base_uri": "https://localhost:8080/"
        },
        "outputId": "62fd7ba0-7475-4906-f247-88f5676f66e8"
      },
      "outputs": [
        {
          "output_type": "stream",
          "name": "stdout",
          "text": [
            "False\n",
            "False\n"
          ]
        }
      ],
      "source": [
        "A = np.random.randint(0,4,5)\n",
        "B = np.random.randint(0,4,5)\n",
        "print(np.array_equal(A,B))\n",
        "print(np.allclose(A,B))"
      ]
    },
    {
      "cell_type": "markdown",
      "metadata": {
        "id": "PzdbhV_LXGS_"
      },
      "source": [
        "#### 43. Make an array immutable (read-only) (★★☆) \n",
        "(**hint**: flags.writeable)"
      ]
    },
    {
      "cell_type": "code",
      "execution_count": 52,
      "metadata": {
        "id": "CGV3zH-TXGS_",
        "colab": {
          "base_uri": "https://localhost:8080/",
          "height": 201
        },
        "outputId": "cdc476a2-4c21-4412-b3c6-a348ecf20bda"
      },
      "outputs": [
        {
          "output_type": "error",
          "ename": "ValueError",
          "evalue": "ignored",
          "traceback": [
            "\u001b[0;31m---------------------------------------------------------------------------\u001b[0m",
            "\u001b[0;31mValueError\u001b[0m                                Traceback (most recent call last)",
            "\u001b[0;32m<ipython-input-52-98d90be63b1d>\u001b[0m in \u001b[0;36m<module>\u001b[0;34m\u001b[0m\n\u001b[1;32m      1\u001b[0m \u001b[0mK\u001b[0m \u001b[0;34m=\u001b[0m \u001b[0mnp\u001b[0m\u001b[0;34m.\u001b[0m\u001b[0mzeros\u001b[0m\u001b[0;34m(\u001b[0m\u001b[0;36m10\u001b[0m\u001b[0;34m)\u001b[0m\u001b[0;34m\u001b[0m\u001b[0;34m\u001b[0m\u001b[0m\n\u001b[1;32m      2\u001b[0m \u001b[0mK\u001b[0m\u001b[0;34m.\u001b[0m\u001b[0mflags\u001b[0m\u001b[0;34m.\u001b[0m\u001b[0mwriteable\u001b[0m \u001b[0;34m=\u001b[0m \u001b[0;32mFalse\u001b[0m\u001b[0;34m\u001b[0m\u001b[0;34m\u001b[0m\u001b[0m\n\u001b[0;32m----> 3\u001b[0;31m \u001b[0mK\u001b[0m\u001b[0;34m[\u001b[0m\u001b[0;36m3\u001b[0m\u001b[0;34m]\u001b[0m \u001b[0;34m=\u001b[0m \u001b[0;36m1\u001b[0m\u001b[0;34m\u001b[0m\u001b[0;34m\u001b[0m\u001b[0m\n\u001b[0m",
            "\u001b[0;31mValueError\u001b[0m: assignment destination is read-only"
          ]
        }
      ],
      "source": [
        "K = np.zeros(10)\n",
        "K.flags.writeable = False\n",
        "K[3] = 1"
      ]
    },
    {
      "cell_type": "markdown",
      "metadata": {
        "id": "3F1xAEazXGS_"
      },
      "source": [
        "#### 44. Consider a random 10x2 matrix representing cartesian coordinates, convert them to polar coordinates (★★☆) \n",
        "(**hint**: np.sqrt, np.arctan2)"
      ]
    },
    {
      "cell_type": "code",
      "execution_count": 53,
      "metadata": {
        "id": "v2vCezSZXGTA",
        "colab": {
          "base_uri": "https://localhost:8080/"
        },
        "outputId": "a9c941c4-4a5b-42ef-99a3-e2c1276e35e5"
      },
      "outputs": [
        {
          "output_type": "stream",
          "name": "stdout",
          "text": [
            "[0.6079311  0.65615964 0.62767747 1.02148653 0.82113135 0.97119504\n",
            " 1.04824478 0.41191061 0.94456324 1.00059457]\n",
            "[1.22026777 1.10721477 0.04363891 0.41021753 1.2768293  0.2695066\n",
            " 0.84724744 1.18382287 1.21153431 1.52429459]\n"
          ]
        }
      ],
      "source": [
        "Z = np.random.random((10,2))\n",
        "X,Y = Z[:,0], Z[:,1]\n",
        "C = np.sqrt(X**2+Y**2)\n",
        "P = np.arctan2(Y,X)\n",
        "print(C)\n",
        "print(P)"
      ]
    },
    {
      "cell_type": "markdown",
      "metadata": {
        "id": "jgcv_ya7XGTA"
      },
      "source": [
        "#### 45. Create random vector of size 10 and replace the maximum value by 0 (★★☆) \n",
        "(**hint**: argmax)"
      ]
    },
    {
      "cell_type": "code",
      "execution_count": 54,
      "metadata": {
        "id": "9T5abM4QXGTA",
        "colab": {
          "base_uri": "https://localhost:8080/"
        },
        "outputId": "ef79bd48-8fb7-4f75-ad4c-e06666f4a2dd"
      },
      "outputs": [
        {
          "output_type": "stream",
          "name": "stdout",
          "text": [
            "[0.84672145 0.29426886 0.86204764 0.         0.35741603 0.26647324\n",
            " 0.69143974 0.6085294  0.20308976 0.3146639 ]\n"
          ]
        }
      ],
      "source": [
        "R = np.random.random(10)\n",
        "R[R.argmax()] = 0\n",
        "print(R)"
      ]
    },
    {
      "cell_type": "markdown",
      "metadata": {
        "id": "9YGWdTs5XGTA"
      },
      "source": [
        "#### 46. Create a structured array with `x` and `y` coordinates covering the \\[0,1\\]x\\[0,1\\] area (★★☆) \n",
        "(**hint**: np.meshgrid)"
      ]
    },
    {
      "cell_type": "code",
      "execution_count": null,
      "metadata": {
        "id": "bd6i84-8XGTA"
      },
      "outputs": [],
      "source": []
    },
    {
      "cell_type": "markdown",
      "metadata": {
        "id": "Jz0Pw-QcXGTB"
      },
      "source": [
        "####  47. Given two arrays, X and Y, construct the Cauchy matrix C (Cij =1/(xi - yj)) \n",
        "(**hint**: np.subtract.outer)"
      ]
    },
    {
      "cell_type": "code",
      "execution_count": 56,
      "metadata": {
        "id": "GWWOnI77XGTB",
        "colab": {
          "base_uri": "https://localhost:8080/"
        },
        "outputId": "8e3e9707-e601-4d6c-af33-828bea91e5fc"
      },
      "outputs": [
        {
          "output_type": "stream",
          "name": "stdout",
          "text": [
            "33961.93294480236\n"
          ]
        }
      ],
      "source": [
        "X = np.arange(10)\n",
        "Y = X + 0.5\n",
        "C = 1.0 / np.subtract.outer(X, Y)\n",
        "print(np.linalg.det(C))"
      ]
    },
    {
      "cell_type": "markdown",
      "metadata": {
        "id": "54tUuZpaXGTB"
      },
      "source": [
        "#### 48. Print the minimum and maximum representable value for each numpy scalar type (★★☆) \n",
        "(**hint**: np.iinfo, np.finfo, eps)"
      ]
    },
    {
      "cell_type": "code",
      "execution_count": 57,
      "metadata": {
        "id": "MkfyaHt7XGTB",
        "colab": {
          "base_uri": "https://localhost:8080/"
        },
        "outputId": "69518de7-d464-490a-ce21-98dfc6c66361"
      },
      "outputs": [
        {
          "output_type": "stream",
          "name": "stdout",
          "text": [
            "-128\n",
            "127\n",
            "-2147483648\n",
            "2147483647\n",
            "-9223372036854775808\n",
            "9223372036854775807\n",
            "-3.4028235e+38\n",
            "3.4028235e+38\n",
            "1.1920929e-07\n",
            "-1.7976931348623157e+308\n",
            "1.7976931348623157e+308\n",
            "2.220446049250313e-16\n"
          ]
        }
      ],
      "source": [
        "for dtype in [np.int8, np.int32, np.int64]:\n",
        "    print(np.iinfo(dtype).min)\n",
        "    print(np.iinfo(dtype).max)\n",
        "for dtype in [np.float32, np.float64]:\n",
        "    print(np.finfo(dtype).min)\n",
        "    print(np.finfo(dtype).max)\n",
        "    print(np.finfo(dtype).eps)"
      ]
    },
    {
      "cell_type": "markdown",
      "metadata": {
        "id": "MJMJ1HeMXGTB"
      },
      "source": [
        "#### 49. How to print all the values of an array? (★★☆) \n",
        "(**hint**: np.set\\_printoptions)"
      ]
    },
    {
      "cell_type": "code",
      "execution_count": 58,
      "metadata": {
        "id": "YRgteYs3XGTC",
        "colab": {
          "base_uri": "https://localhost:8080/"
        },
        "outputId": "e74ba41b-311c-41af-ebac-19959a36898f"
      },
      "outputs": [
        {
          "output_type": "stream",
          "name": "stdout",
          "text": [
            "[[0. 0. 0. 0. 0. 0. 0. 0. 0. 0. 0. 0. 0. 0. 0. 0. 0. 0. 0. 0.]\n",
            " [0. 0. 0. 0. 0. 0. 0. 0. 0. 0. 0. 0. 0. 0. 0. 0. 0. 0. 0. 0.]\n",
            " [0. 0. 0. 0. 0. 0. 0. 0. 0. 0. 0. 0. 0. 0. 0. 0. 0. 0. 0. 0.]\n",
            " [0. 0. 0. 0. 0. 0. 0. 0. 0. 0. 0. 0. 0. 0. 0. 0. 0. 0. 0. 0.]\n",
            " [0. 0. 0. 0. 0. 0. 0. 0. 0. 0. 0. 0. 0. 0. 0. 0. 0. 0. 0. 0.]\n",
            " [0. 0. 0. 0. 0. 0. 0. 0. 0. 0. 0. 0. 0. 0. 0. 0. 0. 0. 0. 0.]\n",
            " [0. 0. 0. 0. 0. 0. 0. 0. 0. 0. 0. 0. 0. 0. 0. 0. 0. 0. 0. 0.]\n",
            " [0. 0. 0. 0. 0. 0. 0. 0. 0. 0. 0. 0. 0. 0. 0. 0. 0. 0. 0. 0.]\n",
            " [0. 0. 0. 0. 0. 0. 0. 0. 0. 0. 0. 0. 0. 0. 0. 0. 0. 0. 0. 0.]\n",
            " [0. 0. 0. 0. 0. 0. 0. 0. 0. 0. 0. 0. 0. 0. 0. 0. 0. 0. 0. 0.]\n",
            " [0. 0. 0. 0. 0. 0. 0. 0. 0. 0. 0. 0. 0. 0. 0. 0. 0. 0. 0. 0.]\n",
            " [0. 0. 0. 0. 0. 0. 0. 0. 0. 0. 0. 0. 0. 0. 0. 0. 0. 0. 0. 0.]\n",
            " [0. 0. 0. 0. 0. 0. 0. 0. 0. 0. 0. 0. 0. 0. 0. 0. 0. 0. 0. 0.]\n",
            " [0. 0. 0. 0. 0. 0. 0. 0. 0. 0. 0. 0. 0. 0. 0. 0. 0. 0. 0. 0.]\n",
            " [0. 0. 0. 0. 0. 0. 0. 0. 0. 0. 0. 0. 0. 0. 0. 0. 0. 0. 0. 0.]\n",
            " [0. 0. 0. 0. 0. 0. 0. 0. 0. 0. 0. 0. 0. 0. 0. 0. 0. 0. 0. 0.]\n",
            " [0. 0. 0. 0. 0. 0. 0. 0. 0. 0. 0. 0. 0. 0. 0. 0. 0. 0. 0. 0.]\n",
            " [0. 0. 0. 0. 0. 0. 0. 0. 0. 0. 0. 0. 0. 0. 0. 0. 0. 0. 0. 0.]\n",
            " [0. 0. 0. 0. 0. 0. 0. 0. 0. 0. 0. 0. 0. 0. 0. 0. 0. 0. 0. 0.]\n",
            " [0. 0. 0. 0. 0. 0. 0. 0. 0. 0. 0. 0. 0. 0. 0. 0. 0. 0. 0. 0.]]\n"
          ]
        }
      ],
      "source": [
        "np.set_printoptions(threshold=float(\"inf\"))\n",
        "Z = np.zeros((20,20))\n",
        "print(Z)"
      ]
    },
    {
      "cell_type": "markdown",
      "metadata": {
        "id": "Bvmp9YU3XGTC"
      },
      "source": [
        "#### 50. How to find the closest value (to a given scalar) in a vector? (★★☆) \n",
        "(**hint**: argmin)"
      ]
    },
    {
      "cell_type": "code",
      "execution_count": 59,
      "metadata": {
        "id": "hf95Z-Q4XGTC",
        "colab": {
          "base_uri": "https://localhost:8080/"
        },
        "outputId": "dba51f6c-cc84-4d01-e913-cde6779af5aa"
      },
      "outputs": [
        {
          "output_type": "stream",
          "name": "stdout",
          "text": [
            "17\n"
          ]
        }
      ],
      "source": [
        "a = np.arange(50)\n",
        "b = np.random.uniform(0,50)\n",
        "index = (np.abs(a-b)).argmin()\n",
        "print(a[index])"
      ]
    },
    {
      "cell_type": "markdown",
      "metadata": {
        "id": "3M4Tfwt_XGTC"
      },
      "source": [
        "#### 51. Create a structured array representing a position (x,y) and a color (r,g,b) (★★☆) \n",
        "(**hint**: dtype)"
      ]
    },
    {
      "cell_type": "code",
      "execution_count": 60,
      "metadata": {
        "id": "ITddZKhyXGTC",
        "colab": {
          "base_uri": "https://localhost:8080/"
        },
        "outputId": "2a842f50-d255-4ab6-cf05-542df9898809"
      },
      "outputs": [
        {
          "output_type": "stream",
          "name": "stdout",
          "text": [
            "[((0., 0.), (0., 0., 0.)) ((0., 0.), (0., 0., 0.))\n",
            " ((0., 0.), (0., 0., 0.)) ((0., 0.), (0., 0., 0.))\n",
            " ((0., 0.), (0., 0., 0.)) ((0., 0.), (0., 0., 0.))\n",
            " ((0., 0.), (0., 0., 0.)) ((0., 0.), (0., 0., 0.))\n",
            " ((0., 0.), (0., 0., 0.)) ((0., 0.), (0., 0., 0.))]\n"
          ]
        },
        {
          "output_type": "stream",
          "name": "stderr",
          "text": [
            "<ipython-input-60-fc644878fe5a>:1: FutureWarning: Passing (type, 1) or '1type' as a synonym of type is deprecated; in a future version of numpy, it will be understood as (type, (1,)) / '(1,)type'.\n",
            "  ar = np.zeros(10, [ ('position', [ ('x', float, 1),\n"
          ]
        }
      ],
      "source": [
        "ar = np.zeros(10, [ ('position', [ ('x', float, 1),\n",
        "                                  ('y', float, 1)]),\n",
        "                   ('color',    [ ('r', float, 1),\n",
        "                                  ('g', float, 1),\n",
        "                                  ('b', float, 1)])])\n",
        "print(ar)"
      ]
    },
    {
      "cell_type": "markdown",
      "metadata": {
        "id": "oluWGVU2XGTC"
      },
      "source": [
        "#### 52. Consider a random vector with shape (100,2) representing coordinates, find point by point distances (★★☆) \n",
        "(**hint**: np.atleast\\_2d, T, np.sqrt)"
      ]
    },
    {
      "cell_type": "code",
      "execution_count": 62,
      "metadata": {
        "id": "e3aVTAx8XGTD",
        "colab": {
          "base_uri": "https://localhost:8080/"
        },
        "outputId": "bdddbea6-43a0-44c3-c34d-20d789040a32"
      },
      "outputs": [
        {
          "output_type": "stream",
          "name": "stdout",
          "text": [
            "[[0.         0.7139162  0.77869972 0.84845617 0.53293036 0.86897256\n",
            "  0.54088699 0.52178656 0.41336832 0.63661756 0.65843243 0.27165486\n",
            "  0.56401615 0.39961411 0.83864665 0.06955523 0.61789921 0.30378916\n",
            "  0.4686621  0.4843657  0.72454506 1.01673562 0.31485203 0.47572704\n",
            "  0.80141106 0.71709134 0.83917258 0.28303711 0.9525846  0.62035154\n",
            "  0.44369318 0.4908616  0.8422168  0.54079701 0.27149484 0.16256569\n",
            "  0.35857633 0.6155828  0.95257141 0.92615281 0.71717497 0.48281234\n",
            "  0.51533752 0.86149539 0.72054282 0.75978523 0.08827982 0.68677195\n",
            "  0.79846043 0.51942222 0.72979944 0.32762125 0.68892054 0.64230906\n",
            "  0.83942568 0.42142611 0.57567878 0.82998106 0.54172842 0.11893459\n",
            "  0.8220598  0.34108407 0.83470236 0.5617939  0.35574845 0.64024436\n",
            "  0.30411858 0.61626577 0.35903844 0.58943088 0.68599118 0.92361174\n",
            "  0.27211731 0.73086907 0.43659176 0.3190246  0.20898088 0.46616766\n",
            "  0.5232853  0.85803107 0.59892503 0.28028861 0.66506831 0.64630392\n",
            "  0.1491511  0.80694676 0.34288659 0.35927241 0.50351834 0.5419406\n",
            "  0.80477371 0.72322793 0.66890897 0.33601318 0.11322012 0.71559166\n",
            "  0.84743665 0.50038264 0.75818929 0.23611352]\n",
            " [0.7139162  0.         0.09276491 0.45764474 0.19167961 0.15515409\n",
            "  0.26258986 0.27534496 0.6085168  0.09361702 0.3720152  0.67570746\n",
            "  0.57030772 0.31518383 0.36026657 0.65568133 0.40001302 0.51034877\n",
            "  0.58583658 0.75135354 0.06266487 0.32661947 0.63423455 0.68171596\n",
            "  0.58100737 0.49145627 0.41013479 0.59929091 0.29491824 0.47430619\n",
            "  0.66816434 0.46831737 0.12963259 0.26829004 0.70934889 0.69556094\n",
            "  0.69348823 0.38694935 0.2631962  0.25725195 0.36622431 0.50128904\n",
            "  0.3740734  0.31957998 0.64695401 0.14277095 0.77715399 0.28027648\n",
            "  0.67298101 0.30751803 0.47979252 0.46039999 0.31279114 0.49562328\n",
            "  0.19024387 0.3144917  0.46529128 0.36230619 0.64522744 0.60744255\n",
            "  0.1766249  0.61772116 0.41076672 0.23924549 0.65896058 0.19415371\n",
            "  0.4188697  0.57912664 0.38507032 0.66221931 0.60674703 0.21671098\n",
            "  0.73521785 0.11047029 0.71910883 0.67888752 0.66961909 0.44313405\n",
            "  0.42944589 0.80083781 0.59402822 0.8086556  0.3963077  0.27411119\n",
            "  0.77781176 0.40749459 0.37133284 0.46887145 0.42778427 0.17298422\n",
            "  0.68924308 0.15308337 0.39258401 0.64239204 0.80926695 0.48005775\n",
            "  0.16525582 0.43451743 0.33473347 0.75534067]\n",
            " [0.77869972 0.09276491 0.         0.39315661 0.24591889 0.11272258\n",
            "  0.28064822 0.36680245 0.62566518 0.18453387 0.46118538 0.71186039\n",
            "  0.66300874 0.37991449 0.28870455 0.71711645 0.38161331 0.59463432\n",
            "  0.59455924 0.76216339 0.05420749 0.24296067 0.72100297 0.77357579\n",
            "  0.53468498 0.57853665 0.34318339 0.6353848  0.20286227 0.4555571\n",
            "  0.75941851 0.56076505 0.11134379 0.36049102 0.79356304 0.74433743\n",
            "  0.71885339 0.36929984 0.25925706 0.16605062 0.45063669 0.59364905\n",
            "  0.38171232 0.23882772 0.73679828 0.07527174 0.83620794 0.24512605\n",
            "  0.63391987 0.39960178 0.56575376 0.50095269 0.39912715 0.58646775\n",
            "  0.22905172 0.36403634 0.45537493 0.29282796 0.73795785 0.67754728\n",
            "  0.08641562 0.7057094  0.34477217 0.33168268 0.74745712 0.18660161\n",
            "  0.47693408 0.67121681 0.43368108 0.75492205 0.69723566 0.19638471\n",
            "  0.81913287 0.06699241 0.73495986 0.76569545 0.75041306 0.53497791\n",
            "  0.52218184 0.76314884 0.58207247 0.84734312 0.48524664 0.3640405\n",
            "  0.85288502 0.34694755 0.43686899 0.55593604 0.52033649 0.23984985\n",
            "  0.65044072 0.23258459 0.48125054 0.7301271  0.86836349 0.44277271\n",
            "  0.18689212 0.52704111 0.28026622 0.83689174]\n",
            " [0.84845617 0.45764474 0.39315661 0.         0.44330489 0.47726907\n",
            "  0.35106167 0.66166007 0.50833171 0.51371058 0.81208819 0.65705877\n",
            "  0.96874507 0.54128235 0.10947976 0.77891369 0.23119043 0.80114588\n",
            "  0.45029715 0.58864351 0.39555656 0.42715376 0.93180544 1.03630898\n",
            "  0.17850033 0.9351688  0.05115866 0.59703316 0.33768075 0.25087065\n",
            "  1.01328835 0.84978741 0.49450172 0.66533854 0.97797541 0.74094459\n",
            "  0.61537654 0.23288099 0.62891285 0.35278695 0.81757077 0.87806492\n",
            "  0.33421565 0.17651197 1.07667285 0.32041134 0.86917254 0.20657323\n",
            "  0.28796611 0.69759044 0.92647787 0.52139422 0.7620372  0.92315466\n",
            "  0.6219336  0.47733861 0.28929738 0.10237192 1.02742863 0.7897982\n",
            "  0.32240953 0.92823376 0.04865798 0.64435337 0.97110041 0.30482014\n",
            "  0.57772166 0.9916488  0.51201353 1.05662989 1.03346669 0.55954303\n",
            "  0.99911844 0.34760371 0.58754973 0.97291532 0.91518661 0.81471882\n",
            "  0.82486034 0.4099046  0.35397906 0.78173438 0.83645388 0.71524423\n",
            "  0.97132729 0.05353732 0.58155603 0.78709834 0.81542055 0.47399668\n",
            "  0.30339448 0.61061281 0.83378962 0.94829395 0.89764645 0.16033518\n",
            "  0.57751648 0.82075963 0.12891606 0.99841479]\n",
            " [0.53293036 0.19167961 0.24591889 0.44330489 0.         0.34225112\n",
            "  0.11645542 0.22372363 0.43149528 0.14766417 0.3962136  0.48540437\n",
            "  0.52627672 0.13600116 0.37950918 0.47123649 0.29155729 0.37829949\n",
            "  0.41861295 0.5780905  0.19188866 0.48476374 0.51012664 0.59700671\n",
            "  0.51010713 0.51735871 0.40876883 0.40931467 0.4266545  0.35695176\n",
            "  0.57603094 0.40657518 0.32063642 0.23117923 0.5719259  0.5043326\n",
            "  0.50851703 0.27920183 0.45221169 0.39688922 0.41975213 0.43477875\n",
            "  0.22246487 0.37291666 0.64279719 0.23269617 0.5908     0.23680628\n",
            "  0.58049804 0.25869451 0.51323124 0.26966237 0.36455427 0.4913134\n",
            "  0.36141461 0.12281523 0.33293455 0.37555737 0.58424422 0.43417075\n",
            "  0.29395369 0.50097882 0.40676631 0.21666462 0.54417567 0.1438182\n",
            "  0.23129343 0.55182591 0.19342012 0.613458   0.59866081 0.40839018\n",
            "  0.59620497 0.20027488 0.541428   0.55388358 0.52063315 0.37142878\n",
            "  0.38346451 0.70000117 0.45590931 0.61744002 0.41912344 0.30962156\n",
            "  0.61301115 0.39001982 0.19252325 0.35299594 0.37294419 0.0399305\n",
            "  0.59538366 0.27248409 0.41787874 0.52341044 0.62296782 0.39896118\n",
            "  0.34960086 0.37806926 0.3169083  0.60768532]\n",
            " [0.86897256 0.15515409 0.11272258 0.47726907 0.34225112 0.\n",
            "  0.39126412 0.41222666 0.73761879 0.24086523 0.46172748 0.81935501\n",
            "  0.68330821 0.46986786 0.36831202 0.81027233 0.49234528 0.65879127\n",
            "  0.70720681 0.87478621 0.15740726 0.19580855 0.77860919 0.81028772\n",
            "  0.63191574 0.56805482 0.42613261 0.74274989 0.20284385 0.56574679\n",
            "  0.80019557 0.59436483 0.03760829 0.40123792 0.8569839  0.84614443\n",
            "  0.82948884 0.48026883 0.153537   0.16440492 0.43659697 0.62777976\n",
            "  0.49420909 0.30687569 0.73382446 0.18032172 0.93134812 0.35310894\n",
            "  0.73475729 0.44010155 0.55212379 0.60617977 0.3929384  0.59111513\n",
            "  0.166322   0.46421729 0.56723015 0.37489723 0.76383954 0.76249106\n",
            "  0.15543151 0.75994649 0.42875991 0.37128594 0.79985255 0.29928391\n",
            "  0.57230995 0.68287477 0.5347587  0.77413607 0.69796617 0.0861458\n",
            "  0.88311439 0.17963739 0.84717566 0.82297414 0.82061576 0.57445068\n",
            "  0.55096533 0.86395934 0.6932172  0.95407869 0.48403311 0.37216916\n",
            "  0.93166405 0.43647778 0.52624014 0.61386075 0.55321781 0.32741255\n",
            "  0.75130582 0.2270422  0.47914502 0.78497783 0.96349207 0.54640102\n",
            "  0.11544276 0.56021355 0.37716157 0.90551381]\n",
            " [0.54088699 0.26258986 0.28064822 0.35106167 0.11645542 0.39126412\n",
            "  0.         0.33668081 0.3476593  0.25075477 0.51251704 0.43350511\n",
            "  0.63149351 0.19029767 0.30872199 0.47346811 0.17574543 0.45029301\n",
            "  0.32326674 0.48895677 0.2344519  0.4932677  0.58141171 0.68688314\n",
            "  0.39732928 0.63325582 0.32474442 0.35756969 0.4190247  0.24057162\n",
            "  0.66307252 0.50988891 0.3793502  0.34569302 0.63145967 0.47706979\n",
            "  0.43831526 0.16369262 0.52327822 0.39781764 0.53590963 0.5357595\n",
            "  0.11335979 0.32202689 0.75473937 0.23545016 0.58376067 0.15417634\n",
            "  0.46437114 0.37054809 0.62947035 0.22995959 0.48048944 0.60465399\n",
            "  0.4495626  0.13013007 0.21820819 0.30199658 0.68338665 0.46033083\n",
            "  0.29555174 0.57724415 0.32162866 0.33268708 0.6201702  0.10408836\n",
            "  0.24281433 0.66052332 0.18212841 0.71587886 0.71036122 0.46926665\n",
            "  0.65372168 0.21729571 0.45796608 0.62308966 0.57196089 0.47297535\n",
            "  0.49151846 0.58355308 0.34380308 0.56965758 0.53529229 0.42584255\n",
            "  0.64414901 0.29982947 0.23361246 0.43667119 0.47921782 0.15604802\n",
            "  0.47914614 0.3761395  0.53413834 0.59752205 0.61529313 0.28586774\n",
            "  0.42784288 0.48376342 0.23400364 0.65736889]\n",
            " [0.52178656 0.27534496 0.36680245 0.66166007 0.22372363 0.41222666\n",
            "  0.33668081 0.         0.58757542 0.1822713  0.18715114 0.58616588\n",
            "  0.30916431 0.20724409 0.58668621 0.48023333 0.51219152 0.25621577\n",
            "  0.59314881 0.73349263 0.32236546 0.59936551 0.36775021 0.40684401\n",
            "  0.7333222  0.30095411 0.62327436 0.51957206 0.56966374 0.57310992\n",
            "  0.39281988 0.19653056 0.37696954 0.0193504  0.44945363 0.56140171\n",
            "  0.63672347 0.50031514 0.4510503  0.53245026 0.22818494 0.22854191\n",
            "  0.42925626 0.56562376 0.41907364 0.39614293 0.60111901 0.45582888\n",
            "  0.79975424 0.03605651 0.3002197  0.39187041 0.18284405 0.2680052\n",
            "  0.33078755 0.26771442 0.54364905 0.5846932  0.37635646 0.40360023\n",
            "  0.4451182  0.34798614 0.62194257 0.0435892  0.38762971 0.35690891\n",
            "  0.29649639 0.33000024 0.31051071 0.39944397 0.37495674 0.43951217\n",
            "  0.4758124  0.35839664 0.68911057 0.41174516 0.42204492 0.16834686\n",
            "  0.16439436 0.91545761 0.65795126 0.6988139  0.20697206 0.13080827\n",
            "  0.54634994 0.60812278 0.23303428 0.20527888 0.15785817 0.188641\n",
            "  0.81412724 0.21276179 0.20718241 0.37309564 0.63120713 0.62197586\n",
            "  0.35150347 0.16404574 0.5332187  0.50297366]\n",
            " [0.41336832 0.6085168  0.62566518 0.50833171 0.43149528 0.73761879\n",
            "  0.3476593  0.58757542 0.         0.57912611 0.77381905 0.15970689\n",
            "  0.80373673 0.38036043 0.54138032 0.35261512 0.29506293 0.53939302\n",
            "  0.06157476 0.14773597 0.58172867 0.81539232 0.63546419 0.78827064\n",
            "  0.41148027 0.87880589 0.5183233  0.13162672 0.73039826 0.2574637\n",
            "  0.75703991 0.68938896 0.72694604 0.60402074 0.63794947 0.26455719\n",
            "  0.10761203 0.30075253 0.87062844 0.71873947 0.81480412 0.70177686\n",
            "  0.24542338 0.58967727 0.95512263 0.57082328 0.39979104 0.42330175\n",
            "  0.38946263 0.61020121 0.88200463 0.1991416  0.76530965 0.82611\n",
            "  0.79088151 0.32756057 0.22130045 0.53026783 0.82251831 0.41502543\n",
            "  0.6248081  0.64830118 0.51285162 0.60554863 0.68228193 0.44021326\n",
            "  0.30636115 0.84777288 0.27715991 0.86633922 0.91202478 0.8168124\n",
            "  0.64959478 0.55998923 0.11060987 0.66225495 0.56584749 0.65162526\n",
            "  0.69446936 0.44522103 0.19130164 0.27381421 0.79189869 0.70958696\n",
            "  0.56025825 0.4826191  0.36357649 0.56416654 0.6759593  0.4666168\n",
            "  0.39426698 0.70305337 0.79285305 0.6575602  0.42227857 0.35172929\n",
            "  0.77336408 0.67730667 0.46416663 0.62786838]\n",
            " [0.63661756 0.09361702 0.18453387 0.51371058 0.14766417 0.24086523\n",
            "  0.25075477 0.1822713  0.57912611 0.         0.29904082 0.6259849\n",
            "  0.48240933 0.24491127 0.4257621  0.5818471  0.4138218  0.41869467\n",
            "  0.56552814 0.72574609 0.14194112 0.41988026 0.54121846 0.58905504\n",
            "  0.61618869 0.42176124 0.46982078 0.55092843 0.38739327 0.48515538\n",
            "  0.57497884 0.37682965 0.20942886 0.17636498 0.6174242  0.633247\n",
            "  0.65422074 0.4007324  0.31898243 0.35024773 0.30520479 0.40953057\n",
            "  0.36328248 0.39483013 0.56929185 0.21961609 0.70453634 0.3179626\n",
            "  0.69907322 0.21528128 0.41276953 0.41094119 0.24917237 0.41610272\n",
            "  0.21724824 0.26196486 0.46769169 0.42579821 0.55507768 0.5262243\n",
            "  0.264215   0.52432591 0.46951721 0.14817003 0.56544486 0.21909901\n",
            "  0.35219661 0.49475913 0.32979117 0.57414356 0.52756524 0.28711786\n",
            "  0.64342182 0.18250651 0.68894771 0.58583248 0.57978437 0.35046901\n",
            "  0.33965784 0.82367278 0.59441495 0.75484682 0.32349997 0.20161044\n",
            "  0.69175326 0.46115686 0.29808344 0.3758763  0.3367202  0.11406047\n",
            "  0.71480072 0.12586457 0.32058309 0.54905602 0.73640456 0.50894152\n",
            "  0.21361618 0.3433282  0.38575602 0.66486686]\n",
            " [0.65843243 0.3720152  0.46118538 0.81208819 0.3962136  0.46172748\n",
            "  0.51251704 0.18715114 0.77381905 0.29904082 0.         0.76280385\n",
            "  0.23430418 0.39390731 0.72453001 0.62958686 0.68772471 0.35875407\n",
            "  0.78029395 0.91900542 0.43245888 0.657331   0.42336832 0.38577518\n",
            "  0.90333739 0.12326607 0.76877789 0.69981539 0.65286619 0.75244439\n",
            "  0.38687288 0.1926199  0.42424197 0.17249199 0.51295423 0.72558468\n",
            "  0.81862619 0.6752884  0.43559005 0.61331502 0.06132733 0.21944529\n",
            "  0.6119265  0.69023034 0.27574541 0.51307849 0.74385926 0.61229898\n",
            "  0.97670196 0.16417058 0.11709443 0.57674026 0.07076628 0.12948532\n",
            "  0.32083513 0.45463186 0.72562404 0.72476802 0.3198228  0.54054\n",
            "  0.5473172  0.39507534 0.76839445 0.18011771 0.42241469 0.5117814\n",
            "  0.47693568 0.22360869 0.49667382 0.320048   0.23732067 0.45323941\n",
            "  0.53797982 0.47764822 0.87382547 0.45988788 0.51106342 0.20086058\n",
            "  0.14671076 1.09562359 0.84290004 0.8672633  0.02448399 0.09823824\n",
            "  0.6466169  0.75920237 0.41450529 0.30120582 0.16307472 0.35724754\n",
            "  0.99159601 0.23585852 0.02187691 0.41839142 0.77143094 0.793085\n",
            "  0.36299506 0.16834857 0.68360278 0.57674049]\n",
            " [0.27165486 0.67570746 0.71186039 0.65705877 0.48540437 0.81935501\n",
            "  0.43350511 0.58616588 0.15970689 0.6259849  0.76280385 0.\n",
            "  0.74540401 0.39176745 0.67730941 0.2222535  0.43262655 0.46875815\n",
            "  0.2210289  0.21423539 0.66222566 0.92406653 0.53925133 0.70019284\n",
            "  0.57064348 0.85329972 0.66142424 0.07661093 0.84466599 0.40837487\n",
            "  0.6678298  0.64262268 0.80237602 0.6047298  0.52334855 0.11133882\n",
            "  0.08716677 0.43542427 0.93759101 0.82758672 0.81211492 0.64771842\n",
            "  0.35609749 0.71806143 0.90267396 0.66857538 0.24369929 0.54352049\n",
            "  0.5474995  0.60053033 0.86029061 0.21578489 0.76900969 0.79041328\n",
            "  0.84322548 0.36444884 0.36784831 0.66677868 0.74830777 0.30617988\n",
            "  0.72751439 0.55782534 0.65617155 0.61400339 0.58548184 0.53606389\n",
            "  0.29023752 0.79397927 0.29638755 0.7947707  0.86205117 0.8916194\n",
            "  0.53038902 0.65038407 0.16537779 0.55804622 0.45259306 0.60790463\n",
            "  0.65848069 0.59296119 0.35070228 0.13631716 0.77713589 0.71601331\n",
            "  0.42079215 0.62617769 0.3537129  0.50713662 0.63855695 0.51270977\n",
            "  0.55141789 0.74143519 0.77924011 0.56186798 0.26411117 0.5049153\n",
            "  0.83478301 0.63824859 0.59712785 0.50139055]\n",
            " [0.56401615 0.57030772 0.66300874 0.96874507 0.52627672 0.68330821\n",
            "  0.63149351 0.30916431 0.80373673 0.48240933 0.23430418 0.74540401\n",
            "  0.         0.46077757 0.89583497 0.55978838 0.80238826 0.27738782\n",
            "  0.82752675 0.93614985 0.62428139 0.87861662 0.26252033 0.16204708\n",
            "  1.02720032 0.19719553 0.93164127 0.6995611  0.86325302 0.85489909\n",
            "  0.17360369 0.12226333 0.64576737 0.30906568 0.34372954 0.67702839\n",
            "  0.81847642 0.79161136 0.6695568  0.82445268 0.28456492 0.10246468\n",
            "  0.70684887 0.87374529 0.15847219 0.7014239  0.65203684 0.76225802\n",
            "  1.08239951 0.27316865 0.2174254  0.60846712 0.30411827 0.12210925\n",
            "  0.55305801 0.53242295 0.81943467 0.89375429 0.08587052 0.46137825\n",
            "  0.74591091 0.23218367 0.93014152 0.33501694 0.23952453 0.66473387\n",
            "  0.49989857 0.05242469 0.54562899 0.09191336 0.12197722 0.68388246\n",
            "  0.36400945 0.66390017 0.88671814 0.28330942 0.37095579 0.16049926\n",
            "  0.14477586 1.18916057 0.91863449 0.82022488 0.21874997 0.31173665\n",
            "  0.50288612 0.91526718 0.45121609 0.24060141 0.15336448 0.4947992\n",
            "  1.09553523 0.45694243 0.22461415 0.24739987 0.67339558 0.91603373\n",
            "  0.5925205  0.14822987 0.84092914 0.41022738]\n",
            " [0.39961411 0.31518383 0.37991449 0.54128235 0.13600116 0.46986786\n",
            "  0.19029767 0.20724409 0.38036043 0.24491127 0.39390731 0.39176745\n",
            "  0.46077757 0.         0.49465438 0.34049754 0.34680797 0.26001416\n",
            "  0.38720429 0.52659073 0.3257077  0.6203806  0.39137306 0.49969153\n",
            "  0.57158676 0.5027039  0.51450421 0.32036996 0.562394   0.39471547\n",
            "  0.47472809 0.33884157 0.44435745 0.22370935 0.44486919 0.38896156\n",
            "  0.43389396 0.33718485 0.56382376 0.53288744 0.4346293  0.36039655\n",
            "  0.24663428 0.49813991 0.59835583 0.36829468 0.46216025 0.34214055\n",
            "  0.6218099  0.23132084 0.50427708 0.18640867 0.38616146 0.45736131\n",
            "  0.45930109 0.07182989 0.35865871 0.48889485 0.50336755 0.29828473\n",
            "  0.42982013 0.38695964 0.51154332 0.22697534 0.42987269 0.26552377\n",
            "  0.10758242 0.49649582 0.10355585 0.5395145  0.5539406  0.52835187\n",
            "  0.46810738 0.3362739  0.48287225 0.43345508 0.38931368 0.30032798\n",
            "  0.33095549 0.7290665  0.46182315 0.51501501 0.41267334 0.33099077\n",
            "  0.47721637 0.49011792 0.05695659 0.24863308 0.31503391 0.14247815\n",
            "  0.63481882 0.35175838 0.41334842 0.40725955 0.49423676 0.46185841\n",
            "  0.458517   0.31814789 0.42306735 0.47604748]\n",
            " [0.83864665 0.36026657 0.28870455 0.10947976 0.37950918 0.36831202\n",
            "  0.30872199 0.58668621 0.54138032 0.4257621  0.72453001 0.67730941\n",
            "  0.89583497 0.49465438 0.         0.76955812 0.24664247 0.75274458\n",
            "  0.488875   0.64227943 0.29760202 0.32582636 0.88481856 0.97633131\n",
            "  0.27872548 0.8466962  0.05848236 0.61006803 0.2345502  0.29377366\n",
            "  0.9555394  0.78010894 0.38669666 0.58794771 0.93899407 0.74896014\n",
            "  0.6486587  0.24235201 0.51954977 0.24576469 0.72505642 0.81006369\n",
            "  0.32849127 0.06923201 0.99433007 0.21890135 0.87013175 0.1547719\n",
            "  0.38764433 0.62271244 0.83661971 0.51289782 0.67041628 0.84078512\n",
            "  0.51614268 0.4388287  0.3216414  0.01162795 0.95975896 0.7667215\n",
            "  0.21411466 0.87797412 0.06193009 0.56447831 0.92119134 0.23569835\n",
            "  0.54962445 0.91466587 0.48606645 0.98568094 0.95201412 0.45015352\n",
            "  0.9616859  0.24996823 0.63318893 0.92756502 0.88052846 0.74698883\n",
            "  0.75107778 0.51337543 0.41541766 0.80871102 0.74901164 0.62659022\n",
            "  0.95046532 0.079376   0.54170988 0.73178087 0.74356062 0.40435443\n",
            "  0.4037204  0.51301932 0.74592172 0.89954978 0.90023701 0.22553931\n",
            "  0.47058838 0.74935479 0.08128811 0.96607653]\n",
            " [0.06955523 0.65568133 0.71711645 0.77891369 0.47123649 0.81027233\n",
            "  0.47346811 0.48023333 0.35261512 0.5818471  0.62958686 0.2222535\n",
            "  0.55978838 0.34049754 0.76955812 0.         0.54841299 0.28711133\n",
            "  0.40564084 0.4364016  0.66312494 0.95327683 0.32742413 0.49033229\n",
            "  0.73381648 0.69845444 0.76968197 0.22106659 0.88733653 0.55182619\n",
            "  0.4578193  0.47436188 0.78476952 0.49952473 0.30207135 0.12402937\n",
            "  0.30901812 0.54604479 0.89983155 0.86173513 0.68642708 0.47098594\n",
            "  0.44580278 0.79327103 0.71808168 0.69532425 0.12300574 0.61808846\n",
            "  0.73389718 0.48199267 0.70948945 0.25809928 0.65394501 0.6267745\n",
            "  0.78927187 0.3566156  0.50708745 0.76081811 0.548079   0.09845383\n",
            "  0.75759701 0.34984098 0.7651994  0.51818815 0.37204383 0.57382543\n",
            "  0.24043107 0.61116812 0.29226059 0.5956456  0.68091682 0.867889\n",
            "  0.30823592 0.66735716 0.38708889 0.34067673 0.23249956 0.44567117\n",
            "  0.50173245 0.79780918 0.53473638 0.26211175 0.63850902 0.6081788\n",
            "  0.20822392 0.73741083 0.28467435 0.33802351 0.48154375 0.48287102\n",
            "  0.7407342  0.67474315 0.64189423 0.34977142 0.15463932 0.64672249\n",
            "  0.79440021 0.47928308 0.68899005 0.27967144]\n",
            " [0.61789921 0.40001302 0.38161331 0.23119043 0.29155729 0.49234528\n",
            "  0.17574543 0.51219152 0.29506293 0.4138218  0.68772471 0.43262655\n",
            "  0.80238826 0.34680797 0.24664247 0.54841299 0.         0.59870296\n",
            "  0.24472785 0.4052716  0.35241692 0.5328294  0.72521743 0.84547642\n",
            "  0.22512511 0.80884883 0.2292459  0.36853349 0.44412035 0.07456153\n",
            "  0.8194937  0.68021666 0.49230574 0.52142773 0.76255184 0.51113585\n",
            "  0.40212709 0.01316536 0.64063803 0.43800967 0.70904122 0.704379\n",
            "  0.10883431 0.29554346 0.92943158 0.31266751 0.63819536 0.14275826\n",
            "  0.28900136 0.54571193 0.80477019 0.2919528  0.6531845  0.78003723\n",
            "  0.58966342 0.27602414 0.08018805 0.23568626 0.84960807 0.56443765\n",
            "  0.35524286 0.72565683 0.2241163  0.50818192 0.76742279 0.20587621\n",
            "  0.35938235 0.83354074 0.29400151 0.88442266 0.88497158 0.57762411\n",
            "  0.78212624 0.31557258 0.39066621 0.76392302 0.69665324 0.64250382\n",
            "  0.66468748 0.41054325 0.20099547 0.56254167 0.7106803  0.59935235\n",
            "  0.74382796 0.19445245 0.37554384 0.59460279 0.65148347 0.33054236\n",
            "  0.30402982 0.53504117 0.70941408 0.74353585 0.66690555 0.1151211\n",
            "  0.55825165 0.65567868 0.16925021 0.7773966 ]\n",
            " [0.30378916 0.51034877 0.59463432 0.80114588 0.37829949 0.65879127\n",
            "  0.45029301 0.25621577 0.53939302 0.41869467 0.35875407 0.46875815\n",
            "  0.27738782 0.26001416 0.75274458 0.28711133 0.59870296 0.\n",
            "  0.57092949 0.66474254 0.54334384 0.83622227 0.13214429 0.25366595\n",
            "  0.82012814 0.41365856 0.77437174 0.42684002 0.79286398 0.63635441\n",
            "  0.22463239 0.18791805 0.62554701 0.27243242 0.19905868 0.40065572\n",
            "  0.54403992 0.59039824 0.70726488 0.75886215 0.41901583 0.18415172\n",
            "  0.49234284 0.75100079 0.4355555  0.603542   0.39129854 0.60160511\n",
            "  0.85700169 0.2408015  0.42605332 0.35400569 0.39756007 0.34021142\n",
            "  0.58685549 0.32533604 0.59550946 0.74748055 0.28360119 0.19042491\n",
            "  0.66125951 0.12737296 0.77147039 0.29979875 0.16999088 0.51952248\n",
            "  0.25084527 0.32726934 0.31016704 0.32852652 0.3964681  0.69371467\n",
            "  0.22486973 0.56752799 0.61470345 0.17559231 0.16587889 0.16249267\n",
            "  0.21970217 0.95158985 0.67623597 0.54445176 0.36331823 0.36279516\n",
            "  0.29416589 0.75012215 0.2231729  0.0578041  0.20013712 0.36462175\n",
            "  0.8682973  0.46895821 0.36747704 0.14725359 0.41689161 0.71333025\n",
            "  0.60710054 0.1967497  0.68272977 0.24761473]\n",
            " [0.4686621  0.58583658 0.59455924 0.45029715 0.41861295 0.70720681\n",
            "  0.32326674 0.59314881 0.06157476 0.56552814 0.78029395 0.2210289\n",
            "  0.82752675 0.38720429 0.488875   0.40564084 0.24472785 0.57092949\n",
            "  0.         0.16764196 0.55371937 0.77307521 0.67425692 0.82286409\n",
            "  0.34990873 0.88974363 0.46271648 0.18564617 0.68620553 0.19987348\n",
            "  0.792281   0.71022366 0.69929119 0.60846287 0.68287346 0.32405198\n",
            "  0.16553379 0.2519567  0.84523677 0.67694388 0.81764268 0.72509332\n",
            "  0.21340081 0.54024487 0.97556199 0.53534242 0.4593947  0.37957987\n",
            "  0.33069352 0.61850627 0.89147983 0.21927724 0.76621829 0.84134983\n",
            "  0.77213956 0.32677901 0.16723366 0.47756923 0.85189368 0.46101518\n",
            "  0.58648756 0.68501038 0.45717291 0.60695182 0.72080895 0.40796241\n",
            "  0.32766602 0.86951631 0.28735744 0.8944258  0.93184987 0.78860992\n",
            "  0.69596364 0.52794814 0.1462724  0.70348475 0.61100001 0.6718762\n",
            "  0.71129593 0.39439279 0.13136033 0.333799   0.79960218 0.71013471\n",
            "  0.61385578 0.42698588 0.37933353 0.59058283 0.69355783 0.4559946\n",
            "  0.33635117 0.69098725 0.80010857 0.69594782 0.48259862 0.29226018\n",
            "  0.75107462 0.69549332 0.41365891 0.67680615]\n",
            " [0.4843657  0.75135354 0.76216339 0.58864351 0.5780905  0.87478621\n",
            "  0.48895677 0.73349263 0.14773597 0.72574609 0.91900542 0.21423539\n",
            "  0.93614985 0.52659073 0.64227943 0.4364016  0.4052716  0.66474254\n",
            "  0.16764196 0.         0.72088361 0.93740135 0.74760512 0.9061356\n",
            "  0.45455476 1.0215587  0.60922624 0.23798386 0.84929852 0.34851585\n",
            "  0.87410672 0.82542643 0.86647116 0.75026667 0.73664494 0.3219556\n",
            "  0.12746327 0.41399661 1.01191556 0.84180328 0.9612179  0.83530967\n",
            "  0.38072899 0.69825078 1.09031519 0.70276716 0.44451014 0.54429576\n",
            "  0.3966     0.75499841 1.02557019 0.34234873 0.91227454 0.96616402\n",
            "  0.93589169 0.47525003 0.32526585 0.63072623 0.94799653 0.51686066\n",
            "  0.75316329 0.76407357 0.60356739 0.75257863 0.79427874 0.57557733\n",
            "  0.44625555 0.98210323 0.42307106 0.99326479 1.04795544 0.95593103\n",
            "  0.7443224  0.69558196 0.05045692 0.76908377 0.66540956 0.78842695\n",
            "  0.83385445 0.40757098 0.23537498 0.25713434 0.93651767 0.85667966\n",
            "  0.63308249 0.57402501 0.50612393 0.69554908 0.81483801 0.61377279\n",
            "  0.39523399 0.85013855 0.93767143 0.77015313 0.45828664 0.42856118\n",
            "  0.91657197 0.81570788 0.57127862 0.71561555]\n",
            " [0.72454506 0.06266487 0.05420749 0.39555656 0.19188866 0.15740726\n",
            "  0.2344519  0.32236546 0.58172867 0.14194112 0.43245888 0.66222566\n",
            "  0.62428139 0.3257077  0.29760202 0.66312494 0.35241692 0.54334384\n",
            "  0.55371937 0.72088361 0.         0.29638397 0.67082416 0.72884978\n",
            "  0.52325242 0.55281421 0.34772059 0.58564057 0.25039836 0.42697039\n",
            "  0.71353231 0.51815581 0.14558817 0.31780908 0.74201852 0.69196933\n",
            "  0.67234052 0.33961442 0.29229796 0.215549   0.42848578 0.55062568\n",
            "  0.34032195 0.25793878 0.70650342 0.08073517 0.78245704 0.22461012\n",
            "  0.61783779 0.35636017 0.54156077 0.44985266 0.37465939 0.55434101\n",
            "  0.23987463 0.31090139 0.42225533 0.29968655 0.69686036 0.62339569\n",
            "  0.12275275 0.65636749 0.34844279 0.29002102 0.69845823 0.1489787\n",
            "  0.42306044 0.63562288 0.38088098 0.71605027 0.66571993 0.23519297\n",
            "  0.76744507 0.04798133 0.69172679 0.71549255 0.69773074 0.49064143\n",
            "  0.48156985 0.74640266 0.55046043 0.79722876 0.45685328 0.33427621\n",
            "  0.79906883 0.34589014 0.38266188 0.50619986 0.4783137  0.18593349\n",
            "  0.63422347 0.21560122 0.45330221 0.68057184 0.81461919 0.42502488\n",
            "  0.20586344 0.48485753 0.27401462 0.78436906]\n",
            " [1.01673562 0.32661947 0.24296067 0.42715376 0.48476374 0.19580855\n",
            "  0.4932677  0.59936551 0.81539232 0.41988026 0.657331   0.92406653\n",
            "  0.87861662 0.6203806  0.32582636 0.95327683 0.5328294  0.83622227\n",
            "  0.77307521 0.93740135 0.29638397 0.         0.9608505  1.00240863\n",
            "  0.60344342 0.76159888 0.38043353 0.84915528 0.09176442 0.5971134\n",
            "  0.99090864 0.78684375 0.2334086  0.59020547 1.03527881 0.96969867\n",
            "  0.91714493 0.52355629 0.2805917  0.09682146 0.63023491 0.82021927\n",
            "  0.57280899 0.2572817  0.92829884 0.25934994 1.06993074 0.39350414\n",
            "  0.7128447  0.62948446 0.74498294 0.72279572 0.58817445 0.78677485\n",
            "  0.35048694 0.59693622 0.6130067  0.33646475 0.95848245 0.91863691\n",
            "  0.19787358 0.94420561 0.38506913 0.56039098 0.98523916 0.3892739\n",
            "  0.71300994 0.87868191 0.66410963 0.96964705 0.89309235 0.22446707\n",
            "  1.06100751 0.28593929 0.91901736 1.0055061  0.99322067 0.76496572\n",
            "  0.74451894 0.83691107 0.72568398 1.060346   0.67943944 0.56786009\n",
            "  1.09535677 0.40517009 0.67716728 0.79548919 0.74574225 0.48224252\n",
            "  0.72874957 0.42283377 0.67447767 0.96893062 1.10194622 0.54645411\n",
            "  0.30109845 0.7526848  0.37530851 1.07958238]\n",
            " [0.31485203 0.63423455 0.72100297 0.93180544 0.51012664 0.77860919\n",
            "  0.58141171 0.36775021 0.63546419 0.54121846 0.42336832 0.53925133\n",
            "  0.26252033 0.39137306 0.88481856 0.32742413 0.72521743 0.13214429\n",
            "  0.67425692 0.74760512 0.67082416 0.9608505  0.         0.16292563\n",
            "  0.94406312 0.44282751 0.90587558 0.51234652 0.92104924 0.75858239\n",
            "  0.13043093 0.23101417 0.74404032 0.38109394 0.08959261 0.45116194\n",
            "  0.62183416 0.71750535 0.81356054 0.88625722 0.48445441 0.20807163\n",
            "  0.61755578 0.88296441 0.41256775 0.73346054 0.40045869 0.73335895\n",
            "  0.97477725 0.34453219 0.45979644 0.46482346 0.47655047 0.36342071\n",
            "  0.69188484 0.45485261 0.71644146 0.87948899 0.22768149 0.2336286\n",
            "  0.79024383 0.03065581 0.90289673 0.41045685 0.0468649  0.6516475\n",
            "  0.3696856  0.31444816 0.43280883 0.27520712 0.38230322 0.80671997\n",
            "  0.11479302 0.69703283 0.6971617  0.04469295 0.1101045  0.22697074\n",
            "  0.27689034 1.06313027 0.78781472 0.58791442 0.42058327 0.45333464\n",
            "  0.24047357 0.88115084 0.35122276 0.16536508 0.26228908 0.49516959\n",
            "  0.98524981 0.57631901 0.4257942  0.02261665 0.41845822 0.83908311\n",
            "  0.71749315 0.25627302 0.81439559 0.15451297]\n",
            " [0.47572704 0.68171596 0.77357579 1.03630898 0.59700671 0.81028772\n",
            "  0.68688314 0.40684401 0.78827064 0.58905504 0.38577518 0.70019284\n",
            "  0.16204708 0.49969153 0.97633131 0.49033229 0.84547642 0.25366595\n",
            "  0.82286409 0.9061356  0.72884978 1.00240863 0.16292563 0.\n",
            "  1.06909421 0.35893765 1.00481991 0.66917101 0.97641171 0.88727201\n",
            "  0.03252588 0.21593792 0.7734161  0.41352377 0.21675489 0.61399164\n",
            "  0.78145909 0.83632951 0.81454554 0.93896764 0.44083832 0.18252837\n",
            "  0.74135445 0.96420545 0.27766951 0.80057618 0.55958938 0.83163595\n",
            "  1.10974204 0.37422984 0.37936516 0.60731815 0.45227498 0.28389547\n",
            "  0.69483452 0.56953059 0.84732717 0.97255033 0.08739966 0.39579044\n",
            "  0.85153552 0.14238166 1.00252065 0.44292995 0.11998089 0.74069216\n",
            "  0.50438356 0.20260317 0.56231673 0.12767937 0.25858892 0.82158713\n",
            "  0.23016851 0.76290849 0.85569323 0.15932564 0.26723706 0.23860523\n",
            "  0.26067544 1.20525578 0.92988385 0.75069041 0.37382945 0.44835235\n",
            "  0.38183793 0.98381858 0.47194799 0.25107284 0.25707883 0.57303599\n",
            "  1.12128319 0.58940757 0.37968715 0.14072165 0.5753472  0.96058002\n",
            "  0.72982202 0.2500772  0.91266813 0.27836941]\n",
            " [0.80141106 0.58100737 0.53468498 0.17850033 0.51010713 0.63191574\n",
            "  0.39732928 0.7333222  0.41148027 0.61618869 0.90333739 0.57064348\n",
            "  1.02720032 0.57158676 0.27872548 0.73381648 0.22512511 0.82012814\n",
            "  0.34990873 0.45455476 0.52325242 0.60344342 0.94406312 1.06909421\n",
            "  0.         1.02581688 0.22301605 0.52575077 0.51279041 0.18679185\n",
            "  1.04253285 0.90510178 0.64328129 0.74128592 0.97517776 0.66975081\n",
            "  0.51081439 0.23561113 0.7854324  0.52415908 0.91933768 0.92947024\n",
            "  0.32793347 0.34795711 1.15195878 0.45941388 0.80427254 0.30130079\n",
            "  0.10961019 0.76761955 1.02029759 0.49138239 0.86308939 1.0012594\n",
            "  0.76125015 0.50038951 0.23085381 0.2688446  1.07466729 0.76662058\n",
            "  0.47735536 0.94630538 0.21838792 0.72577003 0.98740192 0.39721181\n",
            "  0.57480568 1.05756962 0.51128858 1.10953793 1.1076191  0.71704186\n",
            "  0.99313286 0.47773968 0.46544833 0.9812108  0.90683549 0.86749467\n",
            "  0.88858408 0.23492697 0.22595112 0.67968982 0.92689802 0.81129588\n",
            "  0.9384176  0.20064677 0.59763905 0.81862668 0.87581325 0.54749132\n",
            "  0.12533373 0.72881366 0.92518662 0.96315758 0.82930072 0.11146187\n",
            "  0.72147849 0.8801421  0.25515377 0.98383104]\n",
            " [0.71709134 0.49145627 0.57853665 0.9351688  0.51735871 0.56805482\n",
            "  0.63325582 0.30095411 0.87880589 0.42176124 0.12326607 0.85329972\n",
            "  0.19719553 0.5027039  0.8466962  0.69845444 0.80884883 0.41365856\n",
            "  0.88974363 1.0215587  0.55281421 0.76159888 0.44282751 0.35893765\n",
            "  1.02581688 0.         0.8915814  0.79519674 0.7647706  0.87230216\n",
            "  0.37034956 0.22629752 0.53124323 0.28895874 0.52974155 0.80438784\n",
            "  0.9152795  0.79654976 0.51848931 0.72513632 0.13146541 0.23850291\n",
            "  0.72986382 0.81074592 0.16829812 0.63354886 0.80486638 0.73555256\n",
            "  1.09762425 0.27202842 0.02146999 0.6799352  0.17943455 0.0795431\n",
            "  0.41451192 0.56738246 0.84408508 0.84716451 0.27709809 0.6036024\n",
            "  0.66494349 0.4123328  0.89126801 0.3006945  0.42866842 0.63502297\n",
            "  0.57561132 0.16070441 0.60316104 0.25941696 0.13978288 0.54761709\n",
            "  0.55220849 0.59873397 0.97485057 0.47103743 0.54438016 0.25278513\n",
            "  0.19733297 1.21526623 0.95883594 0.94815204 0.09916522 0.2202175\n",
            "  0.68039305 0.8823449  0.51557713 0.36046203 0.21760928 0.4788718\n",
            "  1.11234574 0.34806562 0.10145345 0.43183402 0.82991385 0.91530923\n",
            "  0.46151773 0.21937097 0.80676431 0.59621821]\n",
            " [0.83917258 0.41013479 0.34318339 0.05115866 0.40876883 0.42613261\n",
            "  0.32474442 0.62327436 0.5183233  0.46982078 0.76877789 0.66142424\n",
            "  0.93164127 0.51450421 0.05848236 0.76968197 0.2292459  0.77437174\n",
            "  0.46271648 0.60922624 0.34772059 0.38043353 0.90587558 1.00481991\n",
            "  0.22301605 0.8915814  0.         0.59772478 0.28997004 0.26345196\n",
            "  0.98274415 0.81391923 0.44360934 0.62596715 0.95566632 0.7397305\n",
            "  0.62592494 0.22801921 0.57776135 0.30326339 0.77228927 0.84294513\n",
            "  0.32406871 0.12654561 1.03569042 0.27122617 0.8649378  0.17339705\n",
            "  0.33248852 0.65931202 0.88232562 0.51160275 0.71706543 0.88205472\n",
            "  0.57166109 0.45375534 0.29704221 0.0512561  0.99261176 0.77430578\n",
            "  0.27136693 0.90085791 0.00566734 0.6039305  0.94393738 0.26701032\n",
            "  0.55928125 0.9528479  0.49421079 1.02043632 0.99282769 0.50839748\n",
            "  0.97753117 0.29974693 0.60411394 0.94776693 0.89471612 0.7796273\n",
            "  0.78723091 0.45686483 0.37750437 0.78967676 0.79321123 0.67140028\n",
            "  0.95719047 0.03573453 0.55791189 0.75728251 0.77858564 0.437228\n",
            "  0.34833797 0.56321809 0.79037315 0.92161292 0.89423003 0.18327355\n",
            "  0.52688301 0.78412355 0.09217129 0.97911417]\n",
            " [0.28303711 0.59929091 0.6353848  0.59703316 0.40931467 0.74274989\n",
            "  0.35756969 0.51957206 0.13162672 0.55092843 0.69981539 0.07661093\n",
            "  0.6995611  0.32036996 0.61006803 0.22106659 0.36853349 0.42684002\n",
            "  0.18564617 0.23798386 0.58564057 0.84915528 0.51234652 0.66917101\n",
            "  0.52575077 0.79519674 0.59772478 0.         0.77075877 0.35308559\n",
            "  0.6373272  0.59131498 0.72580234 0.53772952 0.50905893 0.14519346\n",
            "  0.12031406 0.3700033  0.86139743 0.75285406 0.74701999 0.59948743\n",
            "  0.28476061 0.6479123  0.85489284 0.59287747 0.27861384 0.47209378\n",
            "  0.51591665 0.53625045 0.80096775 0.14005399 0.7021147  0.73562421\n",
            "  0.76807629 0.28904004 0.31022274 0.59984095 0.71001438 0.28623166\n",
            "  0.65219997 0.52751743 0.59262925 0.54522785 0.55918493 0.46055805\n",
            "  0.22329317 0.74637115 0.22215086 0.75533678 0.81310081 0.81508644\n",
            "  0.51970652 0.57416695 0.18786509 0.53645066 0.43699995 0.55514546\n",
            "  0.60311583 0.57675009 0.31631013 0.21216057 0.71531597 0.64823632\n",
            "  0.42896474 0.56297854 0.28657797 0.45912241 0.58358764 0.43732849\n",
            "  0.52191223 0.66774978 0.71708538 0.53475979 0.30446685 0.45023377\n",
            "  0.75884808 0.58389808 0.52922871 0.49674763]\n",
            " [0.9525846  0.29491824 0.20286227 0.33768075 0.4266545  0.20284385\n",
            "  0.4190247  0.56966374 0.73039826 0.38739327 0.65286619 0.84466599\n",
            "  0.86325302 0.562394   0.2345502  0.88733653 0.44412035 0.79286398\n",
            "  0.68620553 0.84929852 0.25039836 0.09176442 0.92104924 0.97641171\n",
            "  0.51279041 0.7647706  0.28997004 0.77075877 0.         0.50688682\n",
            "  0.96224844 0.76322269 0.23674892 0.56316275 0.99105367 0.89585734\n",
            "  0.83359823 0.43533138 0.32714852 0.03963623 0.63387141 0.79620723\n",
            "  0.49041526 0.16572426 0.92796109 0.19412637 1.0012598  0.30716778\n",
            "  0.62201258 0.6023397  0.74992437 0.64883724 0.58667834 0.78083384\n",
            "  0.36906468 0.53115864 0.52427637 0.24503919 0.93960165 0.85963141\n",
            "  0.13284393 0.9067651  0.29445537 0.53416294 0.94884395 0.31538821\n",
            "  0.64859597 0.86877288 0.59566405 0.95509366 0.89018346 0.2613812\n",
            "  1.01624882 0.22715051 0.83241351 0.96569691 0.94445566 0.73780768\n",
            "  0.72387329 0.74681564 0.63501556 0.9806329  0.67620944 0.55831638\n",
            "  1.0396012  0.31379706 0.61830634 0.75657467 0.72263513 0.4305794\n",
            "  0.63800496 0.41754356 0.67172099 0.93095378 1.0330408  0.45472012\n",
            "  0.31811941 0.72938906 0.28411662 1.03141078]\n",
            " [0.62035154 0.47430619 0.4555571  0.25087065 0.35695176 0.56574679\n",
            "  0.24057162 0.57310992 0.2574637  0.48515538 0.75244439 0.40837487\n",
            "  0.85489909 0.39471547 0.29377366 0.55182619 0.07456153 0.63635441\n",
            "  0.19987348 0.34851585 0.42697039 0.5971134  0.75858239 0.88727201\n",
            "  0.18679185 0.87230216 0.26345196 0.35308559 0.50688682 0.\n",
            "  0.85993214 0.73269271 0.56645369 0.58362603 0.78842597 0.49825706\n",
            "  0.3645633  0.08746949 0.71473013 0.50391142 0.77644968 0.7550564\n",
            "  0.14810765 0.35081274 0.98707556 0.38566402 0.63030641 0.21384527\n",
            "  0.22783554 0.60548575 0.869192   0.30495076 0.7209421  0.83975777\n",
            "  0.66409975 0.32288582 0.04481986 0.28223065 0.89737114 0.58048014\n",
            "  0.42573009 0.76174079 0.2578618  0.57236171 0.80239647 0.28024694\n",
            "  0.38894399 0.88857101 0.32640334 0.93418259 0.94252711 0.65127057\n",
            "  0.80634113 0.38978006 0.34082214 0.79516374 0.72004764 0.69442032\n",
            "  0.72053443 0.34318463 0.12954631 0.53099905 0.77493384 0.66640601\n",
            "  0.75423659 0.22778912 0.41537229 0.63811414 0.70624324 0.39661828\n",
            "  0.24158356 0.60758929 0.77396015 0.77800075 0.657174   0.09715615\n",
            "  0.63281084 0.71000482 0.22437651 0.79731439]\n",
            " [0.44369318 0.66816434 0.75941851 1.01328835 0.57603094 0.80019557\n",
            "  0.66307252 0.39281988 0.75703991 0.57497884 0.38687288 0.6678298\n",
            "  0.17360369 0.47472809 0.9555394  0.4578193  0.8194937  0.22463239\n",
            "  0.792281   0.87410672 0.71353231 0.99090864 0.13043093 0.03252588\n",
            "  1.04253285 0.37034956 0.98274415 0.6373272  0.96224844 0.85993214\n",
            "  0.         0.20786561 0.76364412 0.40081548 0.18756591 0.58146739\n",
            "  0.749267   0.81057487 0.81047114 0.92522401 0.44388483 0.17499404\n",
            "  0.71462748 0.94524457 0.30159263 0.78382128 0.52790714 0.80939382\n",
            "  1.0815198  0.3614909  0.39017005 0.57746648 0.45128845 0.29314114\n",
            "  0.68991854 0.54385516 0.81958335 0.95147573 0.10974448 0.36328647\n",
            "  0.83598657 0.1101119  0.9803212  0.43055282 0.08812227 0.71984741\n",
            "  0.47546164 0.21884284 0.53431753 0.15402006 0.27916592 0.81479047\n",
            "  0.20266796 0.74626827 0.82365751 0.1288145  0.23551021 0.22596545\n",
            "  0.25456588 1.17587518 0.9003888  0.71826554 0.37679095 0.44333891\n",
            "  0.35269569 0.96105587 0.44495299 0.22641795 0.2485238  0.5534971\n",
            "  1.09288723 0.58194031 0.38258282 0.1082923  0.5440782  0.93452537\n",
            "  0.72319876 0.2414887  0.89057387 0.25077647]\n",
            " [0.4908616  0.46831737 0.56076505 0.84978741 0.40657518 0.59436483\n",
            "  0.50988891 0.19653056 0.68938896 0.37682965 0.1926199  0.64262268\n",
            "  0.12226333 0.33884157 0.78010894 0.47436188 0.68021666 0.18791805\n",
            "  0.71022366 0.82542643 0.51815581 0.78684375 0.23101417 0.21593792\n",
            "  0.90510178 0.22629752 0.81391923 0.59131498 0.76322269 0.73269271\n",
            "  0.20786561 0.         0.55747827 0.20046637 0.32059526 0.58439925\n",
            "  0.71133441 0.6694954  0.60328887 0.7253019  0.25353161 0.03341506\n",
            "  0.58466878 0.76154942 0.26576056 0.59265139 0.5787367  0.64321831\n",
            "  0.96025256 0.16181785 0.23976542 0.4920417  0.24966163 0.15241938\n",
            "  0.48238421 0.41037705 0.69743859 0.7775009  0.18009716 0.37830323\n",
            "  0.64082406 0.20247399 0.81221549 0.22908954 0.23071188 0.54695044\n",
            "  0.38353674 0.15941554 0.42593782 0.20688686 0.22271396 0.60695782\n",
            "  0.34545573 0.55490913 0.77671146 0.26733166 0.3235115  0.03870002\n",
            "  0.04804756 1.06765303 0.79807341 0.72853849 0.18973319 0.23610939\n",
            "  0.45997427 0.79641904 0.33183165 0.13752433 0.04114791 0.37671639\n",
            "  0.97344624 0.37420937 0.19486992 0.22580469 0.60362619 0.7940003\n",
            "  0.51534121 0.03416786 0.72264164 0.38497044]\n",
            " [0.8422168  0.12963259 0.11134379 0.49450172 0.32063642 0.03760829\n",
            "  0.3793502  0.37696954 0.72694604 0.20942886 0.42424197 0.80237602\n",
            "  0.64576737 0.44435745 0.38669666 0.78476952 0.49230574 0.62554701\n",
            "  0.69929119 0.86647116 0.14558817 0.2334086  0.74404032 0.7734161\n",
            "  0.64328129 0.53124323 0.44360934 0.72580234 0.23674892 0.56645369\n",
            "  0.76364412 0.55747827 0.         0.36547928 0.82325367 0.82489603\n",
            "  0.81614715 0.47986016 0.14836506 0.19762583 0.39982575 0.59088947\n",
            "  0.48589051 0.32845351 0.6966869  0.18523225 0.90648899 0.35646238\n",
            "  0.74398306 0.40415487 0.51553184 0.58784718 0.35561174 0.55359923\n",
            "  0.13528989 0.443365   0.56496012 0.39242548 0.72642683 0.73409723\n",
            "  0.17265409 0.72491976 0.4458445  0.3355537  0.76452949 0.29316468\n",
            "  0.54848047 0.64527332 0.51400717 0.73655763 0.66063118 0.0899688\n",
            "  0.84944971 0.17674278 0.83708754 0.78829612 0.78825061 0.53805997\n",
            "  0.51383407 0.87326858 0.69230769 0.93621099 0.44662372 0.33456921\n",
            "  0.9011716  0.45128104 0.50017971 0.57965626 0.51633845 0.30247511\n",
            "  0.76052281 0.18943445 0.44176406 0.75000127 0.93858048 0.55352999\n",
            "  0.08575941 0.52334403 0.38816328 0.87269948]\n",
            " [0.54079701 0.26829004 0.36049102 0.66533854 0.23117923 0.40123792\n",
            "  0.34569302 0.0193504  0.60402074 0.17636498 0.17249199 0.6047298\n",
            "  0.30906568 0.22370935 0.58794771 0.49952473 0.52142773 0.27243242\n",
            "  0.60846287 0.75026667 0.31780908 0.59020547 0.38109394 0.41352377\n",
            "  0.74128592 0.28895874 0.62596715 0.53772952 0.56316275 0.58362603\n",
            "  0.40081548 0.20046637 0.36547928 0.         0.4639481  0.58065641\n",
            "  0.654538   0.50936831 0.43523041 0.52551741 0.2109819  0.23319723\n",
            "  0.44095673 0.56468247 0.41274824 0.39323212 0.62033007 0.46022907\n",
            "  0.80964381 0.03934069 0.28715094 0.40907235 0.16441076 0.26037964\n",
            "  0.31447623 0.28228189 0.55513062 0.58633269 0.37916972 0.42250462\n",
            "  0.44041118 0.36041695 0.62480503 0.02995408 0.39932953 0.360566\n",
            "  0.31483991 0.32695317 0.32719567 0.40015777 0.36896921 0.42562855\n",
            "  0.49032441 0.35556308 0.70620075 0.42477923 0.43830757 0.1750936\n",
            "  0.16471652 0.92641873 0.67086892 0.71789061 0.19326182 0.11173542\n",
            "  0.56369092 0.61182331 0.25132629 0.2202369  0.16051073 0.19457234\n",
            "  0.8241814  0.1968518  0.19307664 0.38559591 0.65037258 0.63010834\n",
            "  0.33678902 0.16704991 0.53660975 0.51845666]\n",
            " [0.27149484 0.70934889 0.79356304 0.97797541 0.5719259  0.8569839\n",
            "  0.63145967 0.44945363 0.63794947 0.6174242  0.51295423 0.52334855\n",
            "  0.34372954 0.44486919 0.93899407 0.30207135 0.76255184 0.19905868\n",
            "  0.68287346 0.73664494 0.74201852 1.03527881 0.08959261 0.21675489\n",
            "  0.97517776 0.52974155 0.95566632 0.50905893 0.99105367 0.78842597\n",
            "  0.18756591 0.32059526 0.82325367 0.4639481  0.         0.42445538\n",
            "  0.6092454  0.75605452 0.89838834 0.95743784 0.57404693 0.29713732\n",
            "  0.65376021 0.94239731 0.48653165 0.80052558 0.3498881  0.78534365\n",
            "  0.99652076 0.42867619 0.54724562 0.4860481  0.56562339 0.45020156\n",
            "  0.77694098 0.50191348 0.74483496 0.93286669 0.29584907 0.22298416\n",
            "  0.85903527 0.11871308 0.95231012 0.49274419 0.10474361 0.70978726\n",
            "  0.40317898 0.39441727 0.46875437 0.34138927 0.4600339  0.88893429\n",
            "  0.02637783 0.76499006 0.68673475 0.06071481 0.07210838 0.31584704\n",
            "  0.36643514 1.07648186 0.80356472 0.55165271 0.51010374 0.54099768\n",
            "  0.1651666  0.92891308 0.39786618 0.24426375 0.35161252 0.56140977\n",
            "  1.00582763 0.66038726 0.51533404 0.09790764 0.36255997 0.87407769\n",
            "  0.80071501 0.34567539 0.86545074 0.06665695]\n",
            " [0.16256569 0.69556094 0.74433743 0.74094459 0.5043326  0.84614443\n",
            "  0.47706979 0.56140171 0.26455719 0.633247   0.72558468 0.11133882\n",
            "  0.67702839 0.38896156 0.74896014 0.12402937 0.51113585 0.40065572\n",
            "  0.32405198 0.3219556  0.69196933 0.96969867 0.45116194 0.61399164\n",
            "  0.66975081 0.80438784 0.7397305  0.14519346 0.89585734 0.49825706\n",
            "  0.58146739 0.58439925 0.82489603 0.58065641 0.42445538 0.\n",
            "  0.19708334 0.51171593 0.95141217 0.87474742 0.77942825 0.5844335\n",
            "  0.42077373 0.78268781 0.83549144 0.71062222 0.13534375 0.60566688\n",
            "  0.65401087 0.56939039 0.81377592 0.24711077 0.74172322 0.73595498\n",
            "  0.84824344 0.38193159 0.45523665 0.73909661 0.66981635 0.2193225\n",
            "  0.77182795 0.47294372 0.73475244 0.5949524  0.4960008  0.58110665\n",
            "  0.28137946 0.7276245  0.31140218 0.71719306 0.7970243  0.91196186\n",
            "  0.42886484 0.68759024 0.27467734 0.46460412 0.35592703 0.55287104\n",
            "  0.60710408 0.70372258 0.4553196  0.1441393  0.73702255 0.69204717\n",
            "  0.31112899 0.70539683 0.33999759 0.44687531 0.58683568 0.52468747\n",
            "  0.65875405 0.73901566 0.73985857 0.47357497 0.15958439 0.59539614\n",
            "  0.84647692 0.58540515 0.66772879 0.39651594]\n",
            " [0.35857633 0.69348823 0.71885339 0.61537654 0.50851703 0.82948884\n",
            "  0.43831526 0.63672347 0.10761203 0.65422074 0.81862619 0.08716677\n",
            "  0.81847642 0.43389396 0.6486587  0.30901812 0.40212709 0.54403992\n",
            "  0.16553379 0.12746327 0.67234052 0.91714493 0.62183416 0.78145909\n",
            "  0.51081439 0.9152795  0.62592494 0.12031406 0.83359823 0.3645633\n",
            "  0.749267   0.71133441 0.81614715 0.654538   0.6092454  0.19708334\n",
            "  0.         0.40737909 0.95667978 0.8203355  0.86470855 0.71893964\n",
            "  0.3444849  0.69591294 0.97438892 0.66816976 0.32541964 0.52717846\n",
            "  0.47618371 0.65471361 0.92083497 0.24808187 0.81863817 0.85593798\n",
            "  0.86990126 0.39384147 0.32891148 0.63759479 0.82613291 0.39007803\n",
            "  0.72413325 0.63915593 0.62044903 0.66048653 0.66836689 0.53601584\n",
            "  0.34169187 0.86577619 0.33206211 0.87200035 0.93282556 0.90608513\n",
            "  0.61686131 0.65449266 0.07821478 0.64233767 0.53810401 0.6753219\n",
            "  0.72342981 0.51203542 0.28566084 0.16907562 0.83455639 0.76414004\n",
            "  0.50765186 0.59021654 0.40438217 0.57837096 0.70389853 0.54019599\n",
            "  0.47854802 0.77473967 0.83620598 0.6444249  0.34279797 0.45778625\n",
            "  0.85656134 0.70419216 0.57096031 0.5884165 ]\n",
            " [0.6155828  0.38694935 0.36929984 0.23288099 0.27920183 0.48026883\n",
            "  0.16369262 0.50031514 0.30075253 0.4007324  0.6752884  0.43542427\n",
            "  0.79161136 0.33718485 0.24235201 0.54604479 0.01316536 0.59039824\n",
            "  0.2519567  0.41399661 0.33961442 0.52355629 0.71750535 0.83632951\n",
            "  0.23561113 0.79654976 0.22801921 0.3700033  0.43533138 0.08746949\n",
            "  0.81057487 0.6694954  0.47986016 0.50936831 0.75605452 0.51171593\n",
            "  0.40737909 0.         0.62821223 0.42837878 0.69628887 0.69391891\n",
            "  0.10319923 0.28900615 0.91788292 0.30082609 0.63766711 0.13203894\n",
            "  0.30154339 0.53398161 0.79235179 0.28878071 0.64040097 0.76823455\n",
            "  0.57665582 0.26680177 0.08987466 0.23161412 0.83953041 0.5598423\n",
            "  0.34430264 0.71749844 0.22303796 0.49586102 0.7594165  0.19283176\n",
            "  0.35292199 0.82238476 0.28730661 0.87402963 0.87344424 0.56542577\n",
            "  0.77589165 0.30311741 0.39815087 0.75653224 0.69063147 0.63188734\n",
            "  0.65347139 0.42348443 0.21294965 0.56635911 0.69829755 0.5866544\n",
            "  0.73997693 0.19380092 0.36723794 0.58534462 0.64043384 0.31805894\n",
            "  0.31665905 0.5218835  0.69699529 0.73562936 0.66666422 0.1248373\n",
            "  0.5454206  0.64469162 0.16359934 0.77189013]\n",
            " [0.95257141 0.2631962  0.25925706 0.62891285 0.45221169 0.153537\n",
            "  0.52327822 0.4510503  0.87062844 0.31898243 0.43559005 0.93759101\n",
            "  0.6695568  0.56382376 0.51954977 0.89983155 0.64063803 0.70726488\n",
            "  0.84523677 1.01191556 0.29229796 0.2805917  0.81356054 0.81454554\n",
            "  0.7854324  0.51848931 0.57776135 0.86139743 0.32714852 0.71473013\n",
            "  0.81047114 0.60328887 0.14836506 0.43523041 0.89838834 0.95141217\n",
            "  0.95667978 0.62821223 0.         0.29462744 0.39286128 0.6356423\n",
            "  0.63201704 0.45578521 0.6864667  0.331619   1.02273198 0.50395892\n",
            "  0.88820494 0.46971311 0.49927715 0.72187343 0.36543853 0.56074619\n",
            "  0.12174671 0.57413293 0.7132294  0.52666466 0.75458205 0.83923661\n",
            "  0.3085     0.79061506 0.58062161 0.40746614 0.82665722 0.44089421\n",
            "  0.67088791 0.65735265 0.64407454 0.75536496 0.65699164 0.06944771\n",
            "  0.92475497 0.325098   0.98110401 0.85619561 0.87306673 0.59255531\n",
            "  0.55598578 1.01743158 0.84066638 1.06935977 0.45340884 0.36721355\n",
            "  0.99519513 0.58939292 0.61691808 0.65538999 0.56365759 0.42729804\n",
            "  0.90475457 0.23838648 0.44773394 0.81575643 1.05447066 0.69929517\n",
            "  0.10547375 0.57059971 0.53069186 0.9536833 ]\n",
            " [0.92615281 0.25725195 0.16605062 0.35278695 0.39688922 0.16440492\n",
            "  0.39781764 0.53245026 0.71873947 0.35024773 0.61331502 0.82758672\n",
            "  0.82445268 0.53288744 0.24576469 0.86173513 0.43800967 0.75886215\n",
            "  0.67694388 0.84180328 0.215549   0.09682146 0.88625722 0.93896764\n",
            "  0.52415908 0.72513632 0.30326339 0.75285406 0.03963623 0.50391142\n",
            "  0.92522401 0.7253019  0.19762583 0.52551741 0.95743784 0.87474742\n",
            "  0.8203355  0.42837878 0.29462744 0.         0.59425078 0.75836456\n",
            "  0.47598758 0.17675198 0.88835665 0.16641653 0.97713487 0.29755102\n",
            "  0.63252226 0.56476432 0.71030715 0.6276746  0.5470534  0.7413711\n",
            "  0.33072548 0.50512375 0.5180833  0.2553477  0.90119668 0.83087942\n",
            "  0.10413827 0.87141734 0.3072803  0.49635308 0.91329504 0.29372938\n",
            "  0.62204639 0.82954744 0.57112852 0.91625663 0.8506353  0.22732024\n",
            "  0.98279445 0.19661437 0.82273749 0.93093679 0.91212387 0.7003811\n",
            "  0.68554491 0.75900005 0.6330621  0.9638343  0.63663098 0.51892721\n",
            "  1.00969809 0.32363147 0.58924372 0.72143411 0.68461303 0.39843006\n",
            "  0.6487417  0.37793127 0.63213078 0.89574345 1.00905626 0.45867802\n",
            "  0.27984058 0.69139757 0.2851536  0.99895256]\n",
            " [0.71717497 0.36622431 0.45063669 0.81757077 0.41975213 0.43659697\n",
            "  0.53590963 0.22818494 0.81480412 0.30520479 0.06132733 0.81211492\n",
            "  0.28456492 0.4346293  0.72505642 0.68642708 0.70904122 0.41901583\n",
            "  0.81764268 0.9612179  0.42848578 0.63023491 0.48445441 0.44083832\n",
            "  0.91933768 0.13146541 0.77228927 0.74701999 0.63387141 0.77644968\n",
            "  0.44388483 0.25353161 0.39982575 0.2109819  0.57404693 0.77942825\n",
            "  0.86470855 0.69628887 0.39286128 0.59425078 0.         0.2795002\n",
            "  0.64013545 0.68567073 0.29845882 0.50898137 0.80200714 0.62301018\n",
            "  0.99758212 0.21168989 0.11607108 0.61998559 0.05625472 0.16889001\n",
            "  0.28448421 0.49086496 0.75236914 0.72627575 0.37040507 0.59887383\n",
            "  0.5369812  0.45599628 0.77235593 0.21081378 0.48261082 0.52345826\n",
            "  0.52372927 0.26584871 0.53815254 0.36533451 0.26552568 0.41785953\n",
            "  0.59898364 0.47543804 0.91716566 0.52058002 0.57232682 0.26210666\n",
            "  0.20798536 1.11909925 0.87299406 0.92002939 0.06711291 0.11015483\n",
            "  0.70778211 0.76548804 0.46051902 0.36132008 0.22438451 0.37992957\n",
            "  1.01286887 0.21853578 0.06130409 0.47913875 0.82996898 0.81047789\n",
            "  0.33060298 0.2296759  0.6903707  0.63797779]\n",
            " [0.48281234 0.50128904 0.59364905 0.87806492 0.43477875 0.62777976\n",
            "  0.5357595  0.22854191 0.70177686 0.40953057 0.21944529 0.64771842\n",
            "  0.10246468 0.36039655 0.81006369 0.47098594 0.704379   0.18415172\n",
            "  0.72509332 0.83530967 0.55062568 0.82021927 0.20807163 0.18252837\n",
            "  0.92947024 0.23850291 0.84294513 0.59948743 0.79620723 0.7550564\n",
            "  0.17499404 0.03341506 0.59088947 0.23319723 0.29713732 0.5844335\n",
            "  0.71893964 0.69391891 0.6356423  0.75836456 0.2795002  0.\n",
            "  0.60694978 0.79265435 0.25544929 0.6246325  0.57103994 0.67158376\n",
            "  0.98218786 0.1943023  0.25399867 0.50608624 0.27947986 0.16075321\n",
            "  0.51495352 0.43220522 0.71886116 0.80724164 0.14973621 0.37352765\n",
            "  0.6733432  0.17842471 0.84113298 0.26204523 0.20311077 0.57616659\n",
            "  0.39749526 0.14688636 0.4433903  0.18019833 0.21433276 0.64004082\n",
            "  0.32128731 0.58688249 0.78611117 0.2416941  0.3061276  0.06335108\n",
            "  0.07965899 1.08772608 0.81659069 0.72838994 0.21401255 0.2684395\n",
            "  0.44240732 0.82479854 0.34895266 0.14069551 0.07456286 0.40605511\n",
            "  0.99511836 0.40740138 0.21943653 0.2005405  0.59476787 0.81864408\n",
            "  0.54837938 0.06757661 0.75141368 0.36258454]\n",
            " [0.51533752 0.3740734  0.38171232 0.33421565 0.22246487 0.49420909\n",
            "  0.11335979 0.42925626 0.24542338 0.36328248 0.6119265  0.35609749\n",
            "  0.70684887 0.24663428 0.32849127 0.44580278 0.10883431 0.49234284\n",
            "  0.21340081 0.38072899 0.34032195 0.57280899 0.61755578 0.74135445\n",
            "  0.32793347 0.72986382 0.32406871 0.28476061 0.49041526 0.14810765\n",
            "  0.71462748 0.58466878 0.48589051 0.44095673 0.65376021 0.42077373\n",
            "  0.3444849  0.10319923 0.63201704 0.47598758 0.64013545 0.60694978\n",
            "  0.         0.36322749 0.84023109 0.32540005 0.54211493 0.187495\n",
            "  0.37560849 0.4605468  0.72789065 0.18772697 0.58563618 0.69419064\n",
            "  0.56231809 0.17480664 0.1145062  0.31886997 0.74958168 0.45674342\n",
            "  0.37994902 0.61883681 0.31950733 0.43215084 0.66026348 0.19537665\n",
            "  0.25062407 0.74091642 0.18542962 0.78613775 0.79567969 0.57523627\n",
            "  0.67329252 0.31543472 0.35360046 0.65579371 0.58783201 0.5463582\n",
            "  0.57324962 0.4867844  0.23348112 0.49123424 0.63372477 0.53008999\n",
            "  0.63734161 0.29160925 0.26970656 0.49130335 0.55864629 0.26222851\n",
            "  0.38896679 0.4889697  0.6331277  0.63620017 0.57197242 0.22153235\n",
            "  0.53902399 0.56229784 0.24720365 0.66877871]\n",
            " [0.86149539 0.31957998 0.23882772 0.17651197 0.37291666 0.30687569\n",
            "  0.32202689 0.56562376 0.58967727 0.39483013 0.69023034 0.71806143\n",
            "  0.87374529 0.49813991 0.06923201 0.79327103 0.29554346 0.75100079\n",
            "  0.54024487 0.69825078 0.25793878 0.2572817  0.88296441 0.96420545\n",
            "  0.34795711 0.81074592 0.12654561 0.6479123  0.16572426 0.35081274\n",
            "  0.94524457 0.76154942 0.32845351 0.56468247 0.94239731 0.78268781\n",
            "  0.69591294 0.28900615 0.45578521 0.17675198 0.68567073 0.79265435\n",
            "  0.36322749 0.         0.96348181 0.17721321 0.89899771 0.17710417\n",
            "  0.4568267  0.60126448 0.79934267 0.54062309 0.63235893 0.81068064\n",
            "  0.46105411 0.44952616 0.37401307 0.07938925 0.94164148 0.78204987\n",
            "  0.15706445 0.87379394 0.13052835 0.53923124 0.91696396 0.23266568\n",
            "  0.56468098 0.88896958 0.50384185 0.96473824 0.92216043 0.38635322\n",
            "  0.96600502 0.21284696 0.68598367 0.92658273 0.88729286 0.7303344\n",
            "  0.7292762  0.58258613 0.47616787 0.85174444 0.71465482 0.59200115\n",
            "  0.96573609 0.14815241 0.54902907 0.72510393 0.72347411 0.39185463\n",
            "  0.47292369 0.46959427 0.71116451 0.89631949 0.92982006 0.29062379\n",
            "  0.41367429 0.72960403 0.12700397 0.97380641]\n",
            " [0.72054282 0.64695401 0.73679828 1.07667285 0.64279719 0.73382446\n",
            "  0.75473937 0.41907364 0.95512263 0.56929185 0.27574541 0.90267396\n",
            "  0.15847219 0.59835583 0.99433007 0.71808168 0.92943158 0.4355555\n",
            "  0.97556199 1.09031519 0.70650342 0.92829884 0.41256775 0.27766951\n",
            "  1.15195878 0.16829812 1.03569042 0.85489284 0.92796109 0.98707556\n",
            "  0.30159263 0.26576056 0.6966869  0.41274824 0.48653165 0.83549144\n",
            "  0.97438892 0.91788292 0.6864667  0.88835665 0.29845882 0.25544929\n",
            "  0.84023109 0.96348181 0.         0.78677127 0.80824506 0.87257233\n",
            "  1.2148031  0.38438052 0.18719141 0.75772943 0.34149053 0.15364165\n",
            "  0.58255208 0.66853851 0.95436015 0.9937626  0.19185325 0.61964099\n",
            "  0.82280395 0.38330012 1.03486431 0.4323669  0.38225374 0.77245726\n",
            "  0.64927304 0.10870632 0.69004254 0.15084206 0.04455276 0.71577107\n",
            "  0.5036267  0.75063691 1.04128413 0.42603184 0.52255243 0.30380351\n",
            "  0.26747662 1.32636191 1.06001389 0.97869022 0.25196882 0.37291654\n",
            "  0.65011077 1.02326527 0.59651028 0.39607982 0.28352203 0.60716624\n",
            "  1.22865659 0.51043173 0.25630973 0.39481392 0.82863057 1.04052442\n",
            "  0.62906127 0.28087866 0.94776157 0.55145327]\n",
            " [0.75978523 0.14277095 0.07527174 0.32041134 0.23269617 0.18032172\n",
            "  0.23545016 0.39614293 0.57082328 0.21961609 0.51307849 0.66857538\n",
            "  0.7014239  0.36829468 0.21890135 0.69532425 0.31266751 0.603542\n",
            "  0.53534242 0.70276716 0.08073517 0.25934994 0.73346054 0.80057618\n",
            "  0.45941388 0.63354886 0.27122617 0.59287747 0.19412637 0.38566402\n",
            "  0.78382128 0.59265139 0.18523225 0.39323212 0.80052558 0.71062222\n",
            "  0.66816976 0.30082609 0.331619   0.16641653 0.50898137 0.6246325\n",
            "  0.32540005 0.17721321 0.78677127 0.         0.8110086  0.17279984\n",
            "  0.55894786 0.43103381 0.62226516 0.46397999 0.45533262 0.63430939\n",
            "  0.30348291 0.33871004 0.38885554 0.22185961 0.77221089 0.665568\n",
            "  0.06228295 0.7209733  0.27242978 0.36643769 0.76363513 0.13270765\n",
            "  0.45566826 0.71435802 0.4050252  0.79296258 0.74575258 0.2662492\n",
            "  0.82538631 0.03775035 0.67846064 0.77791307 0.7519747  0.56352868\n",
            "  0.55779604 0.68821151 0.5136625  0.80483628 0.53748997 0.41486554\n",
            "  0.84551087 0.27291231 0.42418337 0.57064446 0.5534573  0.23912894\n",
            "  0.57547869 0.29455361 0.53397319 0.74462822 0.84297266 0.36830724\n",
            "  0.26213303 0.55984178 0.20510408 0.83901919]\n",
            " [0.08827982 0.77715399 0.83620794 0.86917254 0.5908     0.93134812\n",
            "  0.58376067 0.60111901 0.39979104 0.70453634 0.74385926 0.24369929\n",
            "  0.65203684 0.46216025 0.87013175 0.12300574 0.63819536 0.39129854\n",
            "  0.4593947  0.44451014 0.78245704 1.06993074 0.40045869 0.55958938\n",
            "  0.80427254 0.80486638 0.8649378  0.27861384 1.0012598  0.63030641\n",
            "  0.52790714 0.5787367  0.90648899 0.62033007 0.3498881  0.13534375\n",
            "  0.32541964 0.63766711 1.02273198 0.97713487 0.80200714 0.57103994\n",
            "  0.54211493 0.89899771 0.80824506 0.8110086  0.         0.72223378\n",
            "  0.78924999 0.60108346 0.81733784 0.35840014 0.77199522 0.73037969\n",
            "  0.91226334 0.47326648 0.58663218 0.86075421 0.62796106 0.20334891\n",
            "  0.87313086 0.42750526 0.86014371 0.63983728 0.43978511 0.68621223\n",
            "  0.35951995 0.7043276  0.40600951 0.67558341 0.774013   0.99019622\n",
            "  0.34675029 0.78444901 0.40044244 0.40126642 0.29239756 0.55342204\n",
            "  0.61042326 0.83634188 0.59065986 0.21277415 0.75119027 0.72777335\n",
            "  0.20452679 0.83131469 0.40688406 0.44614806 0.59054519 0.60418412\n",
            "  0.79384314 0.79758184 0.75490584 0.42108677 0.03216843 0.7272355\n",
            "  0.917285   0.58757639 0.78891329 0.30566116]\n",
            " [0.68677195 0.28027648 0.24512605 0.20657323 0.23680628 0.35310894\n",
            "  0.15417634 0.45582888 0.42330175 0.3179626  0.61229898 0.54352049\n",
            "  0.76225802 0.34214055 0.1547719  0.61808846 0.14275826 0.60160511\n",
            "  0.37957987 0.54429576 0.22461012 0.39350414 0.73335895 0.83163595\n",
            "  0.30130079 0.73555256 0.17339705 0.47209378 0.30716778 0.21384527\n",
            "  0.80939382 0.64321831 0.35646238 0.46022907 0.78534365 0.60566688\n",
            "  0.52717846 0.13203894 0.50395892 0.29755102 0.62301018 0.67158376\n",
            "  0.187495   0.17710417 0.87257233 0.17279984 0.72223378 0.\n",
            "  0.39329206 0.49165388 0.72820221 0.36384042 0.5668573  0.7193872\n",
            "  0.46441546 0.28429765 0.22185912 0.14782859 0.8210345  0.6122638\n",
            "  0.21250356 0.72781189 0.17092855 0.44040202 0.77093665 0.10058567\n",
            "  0.39498936 0.78578435 0.33183296 0.85005678 0.82903586 0.43904262\n",
            "  0.80776213 0.18194856 0.52560508 0.77559359 0.72613717 0.60823325\n",
            "  0.61854854 0.52179271 0.34286074 0.67832657 0.6364262  0.51720437\n",
            "  0.79607803 0.15322006 0.38762944 0.5838865  0.60891235 0.26766173\n",
            "  0.40965452 0.42760118 0.63414515 0.74878287 0.75294215 0.20042024\n",
            "  0.4282068  0.61422209 0.08128968 0.81150084]\n",
            " [0.79846043 0.67298101 0.63391987 0.28796611 0.58049804 0.73475729\n",
            "  0.46437114 0.79975424 0.38946263 0.69907322 0.97670196 0.5474995\n",
            "  1.08239951 0.6218099  0.38764433 0.73389718 0.28900136 0.85700169\n",
            "  0.33069352 0.3966     0.61783779 0.7128447  0.97477725 1.10974204\n",
            "  0.10961019 1.09762425 0.33248852 0.51591665 0.62201258 0.22783554\n",
            "  1.0815198  0.96025256 0.74398306 0.80964381 0.99652076 0.65401087\n",
            "  0.47618371 0.30154339 0.88820494 0.63252226 0.99758212 0.98218786\n",
            "  0.37560849 0.4568267  1.2148031  0.55894786 0.78924999 0.39329206\n",
            "  0.         0.83259053 1.09372926 0.51126313 0.94159519 1.06698974\n",
            "  0.8574636  0.55004298 0.26363209 0.37752011 1.12326451 0.77980249\n",
            "  0.58146726 0.98033207 0.32778713 0.79703798 1.01977341 0.48291802\n",
            "  0.60664074 1.11638631 0.54744623 1.16084768 1.17025959 0.82044971\n",
            "  1.01227974 0.57404489 0.41809593 1.00902504 0.92601498 0.92190048\n",
            "  0.9483649  0.12929024 0.19960772 0.64080978 0.99960357 0.88809564\n",
            "  0.94180894 0.30893728 0.63923711 0.86251326 0.9340653  0.61954364\n",
            "  0.01655004 0.81659395 0.99837646 0.99507141 0.81135054 0.19295227\n",
            "  0.81981248 0.93780266 0.35786604 0.99789931]\n",
            " [0.51942222 0.30751803 0.39960178 0.69759044 0.25869451 0.44010155\n",
            "  0.37054809 0.03605651 0.61020121 0.21528128 0.16417058 0.60053033\n",
            "  0.27316865 0.23132084 0.62271244 0.48199267 0.54571193 0.2408015\n",
            "  0.61850627 0.75499841 0.35636017 0.62948446 0.34453219 0.37422984\n",
            "  0.76761955 0.27202842 0.65931202 0.53625045 0.6023397  0.60548575\n",
            "  0.3614909  0.16181785 0.40415487 0.03934069 0.42867619 0.56939039\n",
            "  0.65471361 0.53398161 0.46971311 0.56476432 0.21168989 0.1943023\n",
            "  0.4605468  0.60126448 0.38438052 0.43103381 0.60108346 0.49165388\n",
            "  0.83259053 0.         0.27298906 0.41267342 0.17261905 0.23442543\n",
            "  0.34833078 0.2953905  0.5750486  0.62074099 0.34118754 0.40055485\n",
            "  0.4790569  0.32301032 0.65796889 0.06909855 0.36131998 0.39287921\n",
            "  0.31309912 0.29413061 0.33323796 0.36360036 0.34012069 0.46260901\n",
            "  0.45504426 0.3933102  0.70967883 0.38784294 0.40619051 0.13575682\n",
            "  0.12839284 0.94721598 0.68743392 0.70899857 0.18170049 0.12688171\n",
            "  0.53414472 0.644054   0.25042091 0.18646975 0.12245801 0.22425005\n",
            "  0.84681101 0.23186851 0.1826967  0.34821614 0.63045396 0.65620557\n",
            "  0.37298843 0.12880835 0.56919873 0.4846669 ]\n",
            " [0.72979944 0.47979252 0.56575376 0.92647787 0.51323124 0.55212379\n",
            "  0.62947035 0.3002197  0.88200463 0.41276953 0.11709443 0.86029061\n",
            "  0.2174254  0.50427708 0.83661971 0.70948945 0.80477019 0.42605332\n",
            "  0.89147983 1.02557019 0.54156077 0.74498294 0.45979644 0.37936516\n",
            "  1.02029759 0.02146999 0.88232562 0.80096775 0.74992437 0.869192\n",
            "  0.39017005 0.23976542 0.51553184 0.28715094 0.54724562 0.81377592\n",
            "  0.92083497 0.79235179 0.49927715 0.71030715 0.11607108 0.25399867\n",
            "  0.72789065 0.79934267 0.18719141 0.62226516 0.81733784 0.72820221\n",
            "  1.09372926 0.27298906 0.         0.68349259 0.16701361 0.09780479\n",
            "  0.39685291 0.56765005 0.84184944 0.83735045 0.29806685 0.61540622\n",
            "  0.65216108 0.42940971 0.88213609 0.29685773 0.44687714 0.62781676\n",
            "  0.58024288 0.18196864 0.60563286 0.28085232 0.16041499 0.52968959\n",
            "  0.57001417 0.58790615 0.97927414 0.48892869 0.56012623 0.26417553\n",
            "  0.207757   1.21233711 0.9579579  0.95727584 0.09426664 0.21131512\n",
            "  0.69636931 0.87385606 0.51945332 0.37188189 0.22795697 0.47432763\n",
            "  1.10859288 0.33425716 0.09535674 0.44937357 0.84280433 0.91012867\n",
            "  0.44441675 0.2302801  0.79836818 0.6135988 ]\n",
            " [0.32762125 0.46039999 0.50095269 0.52139422 0.26966237 0.60617977\n",
            "  0.22995959 0.39187041 0.1991416  0.41094119 0.57674026 0.21578489\n",
            "  0.60846712 0.18640867 0.51289782 0.25809928 0.2919528  0.35400569\n",
            "  0.21927724 0.34234873 0.44985266 0.72279572 0.46482346 0.60731815\n",
            "  0.49138239 0.6799352  0.51160275 0.14005399 0.64883724 0.30495076\n",
            "  0.57746648 0.4920417  0.58784718 0.40907235 0.4860481  0.24711077\n",
            "  0.24808187 0.28878071 0.72187343 0.6276746  0.61998559 0.50608624\n",
            "  0.18772697 0.54062309 0.75772943 0.46397999 0.35840014 0.36384042\n",
            "  0.51126313 0.41267342 0.68349259 0.         0.57236353 0.62704435\n",
            "  0.62804565 0.1490019  0.26054776 0.50384955 0.63314591 0.27562399\n",
            "  0.52492942 0.47249379 0.50710633 0.41337758 0.5105103  0.33400068\n",
            "  0.10861934 0.65106739 0.0839887  0.67532722 0.71430978 0.67671859\n",
            "  0.50286481 0.44212703 0.29726792 0.49797828 0.41644697 0.45393544\n",
            "  0.49560164 0.59891619 0.3233589  0.34837628 0.59416917 0.51735066\n",
            "  0.45226029 0.47933223 0.16446866 0.37138685 0.47726612 0.29727797\n",
            "  0.52117451 0.52865109 0.59533003 0.48566723 0.38920698 0.39571182\n",
            "  0.61900137 0.47878986 0.43193946 0.49244865]\n",
            " [0.68892054 0.31279114 0.39912715 0.7620372  0.36455427 0.3929384\n",
            "  0.48048944 0.18284405 0.76530965 0.24917237 0.07076628 0.76900969\n",
            "  0.30411827 0.38616146 0.67041628 0.65394501 0.6531845  0.39756007\n",
            "  0.76621829 0.91227454 0.37465939 0.58817445 0.47655047 0.45227498\n",
            "  0.86308939 0.17943455 0.71706543 0.7021147  0.58667834 0.7209421\n",
            "  0.45128845 0.24966163 0.35561174 0.16441076 0.56562339 0.74172322\n",
            "  0.81863817 0.64040097 0.36543853 0.5470534  0.05625472 0.27947986\n",
            "  0.58563618 0.63235893 0.34149053 0.45533262 0.77199522 0.5668573\n",
            "  0.94159519 0.17261905 0.16701361 0.57236353 0.         0.19955727\n",
            "  0.25007531 0.43964142 0.6974066  0.67142116 0.38924418 0.57003124\n",
            "  0.48553987 0.44965711 0.71705206 0.15977056 0.48016433 0.46723624\n",
            "  0.47924229 0.29433742 0.48964601 0.39068677 0.30502812 0.38251228\n",
            "  0.59126734 0.42121393 0.86900786 0.51539189 0.55693256 0.24980088\n",
            "  0.20175512 1.06339629 0.81879084 0.88058205 0.09141914 0.05611859\n",
            "  0.69045476 0.709819   0.41573457 0.3399246  0.21448414 0.32466372\n",
            "  0.95691845 0.16920759 0.08633522 0.47383334 0.80085707 0.75427747\n",
            "  0.29245625 0.22075949 0.63460749 0.62754077]\n",
            " [0.64230906 0.49562328 0.58646775 0.92315466 0.4913134  0.59111513\n",
            "  0.60465399 0.2680052  0.82611    0.41610272 0.12948532 0.79041328\n",
            "  0.12210925 0.45736131 0.84078512 0.6267745  0.78003723 0.34021142\n",
            "  0.84134983 0.96616402 0.55434101 0.78677485 0.36342071 0.28389547\n",
            "  1.0012594  0.0795431  0.88205472 0.73562421 0.78083384 0.83975777\n",
            "  0.29314114 0.15241938 0.55359923 0.26037964 0.45020156 0.73595498\n",
            "  0.85593798 0.76823455 0.56074619 0.7413711  0.16889001 0.16075321\n",
            "  0.69419064 0.81068064 0.15364165 0.63430939 0.73037969 0.7193872\n",
            "  1.06698974 0.23442543 0.09780479 0.62704435 0.19955727 0.\n",
            "  0.44872302 0.52554676 0.80866847 0.8401608  0.20602541 0.5306351\n",
            "  0.67202286 0.33289254 0.8812392  0.27900625 0.34924516 0.61913981\n",
            "  0.52027094 0.09695873 0.55402661 0.19672796 0.11148058 0.58168549\n",
            "  0.47267948 0.59790379 0.91842221 0.39151939 0.46574389 0.18332646\n",
            "  0.13253026 1.18097406 0.91842768 0.88005463 0.10835664 0.22278352\n",
            "  0.60150789 0.8697731  0.4629646  0.28940899 0.15208058 0.4549441\n",
            "  1.08116945 0.36480256 0.11375981 0.35229391 0.75471476 0.88994792\n",
            "  0.49198111 0.15216531 0.79423886 0.51668815]\n",
            " [0.83942568 0.19024387 0.22905172 0.6219336  0.36141461 0.166322\n",
            "  0.4495626  0.33078755 0.79088151 0.21724824 0.32083513 0.84322548\n",
            "  0.55305801 0.45930109 0.51614268 0.78927187 0.58966342 0.58685549\n",
            "  0.77213956 0.93589169 0.23987463 0.35048694 0.69188484 0.69483452\n",
            "  0.76125015 0.41451192 0.57166109 0.76807629 0.36906468 0.66409975\n",
            "  0.68991854 0.48238421 0.13528989 0.31447623 0.77694098 0.84824344\n",
            "  0.86990126 0.57665582 0.12174671 0.33072548 0.28448421 0.51495352\n",
            "  0.56231809 0.46105411 0.58255208 0.30348291 0.91226334 0.46441546\n",
            "  0.8574636  0.34833078 0.39685291 0.62804565 0.25007531 0.44872302\n",
            "  0.         0.47904381 0.65552537 0.5209297  0.63733595 0.72439569\n",
            "  0.30405209 0.66887107 0.57343054 0.28729961 0.70494953 0.3838637\n",
            "  0.5668729  0.54428369 0.54702686 0.64064593 0.54993344 0.13339148\n",
            "  0.80329864 0.2836973  0.90132479 0.7344658  0.75273211 0.47095005\n",
            "  0.4353534  0.98617526 0.78426205 0.97184045 0.34042343 0.24663988\n",
            "  0.87640095 0.57598998 0.50974325 0.53435412 0.44248695 0.33080604\n",
            "  0.87388098 0.11824301 0.33496734 0.69401078 0.94368816 0.66478075\n",
            "  0.05095746 0.44945454 0.50831474 0.83271127]\n",
            " [0.42142611 0.3144917  0.36403634 0.47733861 0.12281523 0.46421729\n",
            "  0.13013007 0.26771442 0.32756057 0.26196486 0.45463186 0.36444884\n",
            "  0.53242295 0.07182989 0.4388287  0.3566156  0.27602414 0.32533604\n",
            "  0.32677901 0.47525003 0.31090139 0.59693622 0.45485261 0.56953059\n",
            "  0.50038951 0.56738246 0.45375534 0.28904004 0.53115864 0.32288582\n",
            "  0.54385516 0.41037705 0.443365   0.28228189 0.50191348 0.38193159\n",
            "  0.39384147 0.26680177 0.57413293 0.50512375 0.49086496 0.43220522\n",
            "  0.17480664 0.44952616 0.66853851 0.33871004 0.47326648 0.28429765\n",
            "  0.55004298 0.2953905  0.56765005 0.1490019  0.43964142 0.52554676\n",
            "  0.47904381 0.         0.28706851 0.43212338 0.57500673 0.33316671\n",
            "  0.40098555 0.45270866 0.45042237 0.28019572 0.49517587 0.22070269\n",
            "  0.11764102 0.56755022 0.07064565 0.61133404 0.62404887 0.53120004\n",
            "  0.52390807 0.31121762 0.43450273 0.49562051 0.44185419 0.37193449\n",
            "  0.40107109 0.65809142 0.39289818 0.4952287  0.47468283 0.3836159\n",
            "  0.51648883 0.42740687 0.1042906  0.31858629 0.38566716 0.1482991\n",
            "  0.56311438 0.38091131 0.47487235 0.47190813 0.50535316 0.39114521\n",
            "  0.47064583 0.38900307 0.36374369 0.52724846]\n",
            " [0.57567878 0.46529128 0.45537493 0.28929738 0.33293455 0.56723015\n",
            "  0.21820819 0.54364905 0.22130045 0.46769169 0.72562404 0.36784831\n",
            "  0.81943467 0.35865871 0.3216414  0.50708745 0.08018805 0.59550946\n",
            "  0.16723366 0.32526585 0.42225533 0.6130067  0.71644146 0.84732717\n",
            "  0.23085381 0.84408508 0.29704221 0.31022274 0.52427637 0.04481986\n",
            "  0.81958335 0.69743859 0.56496012 0.55513062 0.74483496 0.45523665\n",
            "  0.32891148 0.08987466 0.7132294  0.5180833  0.75236914 0.71886116\n",
            "  0.1145062  0.37401307 0.95436015 0.38885554 0.58663218 0.22185912\n",
            "  0.26363209 0.5750486  0.84184944 0.26054776 0.6974066  0.80866847\n",
            "  0.65552537 0.28706851 0.         0.31033869 0.85963994 0.53594812\n",
            "  0.4338726  0.72026459 0.29158345 0.54562442 0.76059048 0.27342394\n",
            "  0.34678861 0.85441589 0.28534585 0.89727827 0.90981493 0.65175963\n",
            "  0.76250204 0.38862032 0.31213767 0.75252187 0.6761574  0.65896899\n",
            "  0.687179   0.3723125  0.128737   0.49322441 0.747627   0.64221827\n",
            "  0.70942452 0.26135296 0.37596686 0.59917314 0.67228945 0.3728627\n",
            "  0.27628518 0.59202701 0.74692604 0.7360975  0.61379985 0.14067249\n",
            "  0.62706875 0.67579715 0.24709751 0.75299039]\n",
            " [0.82998106 0.36230619 0.29282796 0.10237192 0.37555737 0.37489723\n",
            "  0.30199658 0.5846932  0.53026783 0.42579821 0.72476802 0.66677868\n",
            "  0.89375429 0.48889485 0.01162795 0.76081811 0.23568626 0.74748055\n",
            "  0.47756923 0.63072623 0.29968655 0.33646475 0.87948899 0.97255033\n",
            "  0.2688446  0.84716451 0.0512561  0.59984095 0.24503919 0.28223065\n",
            "  0.95147573 0.7775009  0.39242548 0.58633269 0.93286669 0.73909661\n",
            "  0.63759479 0.23161412 0.52666466 0.2553477  0.72627575 0.80724164\n",
            "  0.31886997 0.07938925 0.9937626  0.22185961 0.86075421 0.14782859\n",
            "  0.37752011 0.62074099 0.83735045 0.50384955 0.67142116 0.8401608\n",
            "  0.5209297  0.43212338 0.31033869 0.         0.95696949 0.75904001\n",
            "  0.22011852 0.87299947 0.05396053 0.56324129 0.91620139 0.23189814\n",
            "  0.54215218 0.91320541 0.4783091  0.9833578  0.95128327 0.45733104\n",
            "  0.9554176  0.25185327 0.62177472 0.92208398 0.87395086 0.74408765\n",
            "  0.74904369 0.50365277 0.4037902  0.79794725 0.74924124 0.62697477\n",
            "  0.94270798 0.06876798 0.53532339 0.72728746 0.74123917 0.40128096\n",
            "  0.39365251 0.51527185 0.74622949 0.89441956 0.89077084 0.21405077\n",
            "  0.47586875 0.74697164 0.07191218 0.9593266 ]\n",
            " [0.54172842 0.64522744 0.73795785 1.02742863 0.58424422 0.76383954\n",
            "  0.68338665 0.37635646 0.82251831 0.55507768 0.3198228  0.74830777\n",
            "  0.08587052 0.50336755 0.95975896 0.548079   0.84960807 0.28360119\n",
            "  0.85189368 0.94799653 0.69686036 0.95848245 0.22768149 0.08739966\n",
            "  1.07466729 0.27709809 0.99261176 0.71001438 0.93960165 0.89737114\n",
            "  0.10974448 0.18009716 0.72642683 0.37916972 0.29584907 0.66981635\n",
            "  0.82613291 0.83953041 0.75458205 0.90119668 0.37040507 0.14973621\n",
            "  0.74958168 0.94164148 0.19185325 0.77221089 0.62796106 0.8210345\n",
            "  1.12326451 0.34118754 0.29806685 0.63314591 0.38924418 0.20602541\n",
            "  0.63733595 0.57500673 0.85963994 0.95696949 0.         0.45058587\n",
            "  0.81929188 0.20064636 0.99077024 0.40690861 0.19267128 0.72588537\n",
            "  0.52620539 0.11752696 0.5785128  0.04773628 0.17119315 0.76738521\n",
            "  0.31209403 0.73449322 0.89783947 0.23582365 0.33729678 0.21299544\n",
            "  0.21578321 1.22493428 0.95126266 0.81016603 0.30460515 0.39395737\n",
            "  0.4604343  0.97422429 0.48486244 0.26272032 0.21875529 0.55579057\n",
            "  1.13568267 0.53855254 0.31047184 0.2079244  0.64612209 0.9643677\n",
            "  0.6757959  0.21238537 0.90101372 0.36007605]\n",
            " [0.11893459 0.60744255 0.67754728 0.7897982  0.43417075 0.76249106\n",
            "  0.46033083 0.40360023 0.41502543 0.5262243  0.54054    0.30617988\n",
            "  0.46137825 0.29828473 0.7667215  0.09845383 0.56443765 0.19042491\n",
            "  0.46101518 0.51686066 0.62339569 0.91863691 0.2336286  0.39579044\n",
            "  0.76662058 0.6036024  0.77430578 0.28623166 0.85963141 0.58048014\n",
            "  0.36328647 0.37830323 0.73409723 0.42250462 0.22298416 0.2193225\n",
            "  0.39007803 0.5598423  0.83923661 0.83087942 0.59887383 0.37352765\n",
            "  0.45674342 0.78204987 0.61964099 0.665568   0.20334891 0.6122638\n",
            "  0.77980249 0.40055485 0.61540622 0.27562399 0.57003124 0.5306351\n",
            "  0.72439569 0.33316671 0.53594812 0.75904001 0.45058587 0.\n",
            "  0.7274468  0.25403618 0.7703018  0.44414253 0.27951896 0.5536913\n",
            "  0.2175368  0.51283231 0.28075006 0.49803428 0.58260863 0.81318506\n",
            "  0.23497882 0.63432834 0.46658803 0.25226381 0.15087781 0.35123237\n",
            "  0.40795298 0.85524355 0.58415417 0.36013287 0.54788021 0.52743327\n",
            "  0.18385777 0.7442975  0.24166243 0.24358398 0.38794025 0.43811923\n",
            "  0.78830999 0.60741762 0.55157269 0.25621794 0.23113368 0.67100643\n",
            "  0.73457272 0.38522434 0.68834914 0.21819158]\n",
            " [0.8220598  0.1766249  0.08641562 0.32240953 0.29395369 0.15543151\n",
            "  0.29555174 0.4451182  0.6248081  0.264215   0.5473172  0.72751439\n",
            "  0.74591091 0.42982013 0.21411466 0.75759701 0.35524286 0.66125951\n",
            "  0.58648756 0.75316329 0.12275275 0.19787358 0.79024383 0.85153552\n",
            "  0.47735536 0.66494349 0.27136693 0.65219997 0.13284393 0.42573009\n",
            "  0.83598657 0.64082406 0.17265409 0.44041118 0.85903527 0.77182795\n",
            "  0.72413325 0.34430264 0.3085     0.10413827 0.5369812  0.6733432\n",
            "  0.37994902 0.15706445 0.82280395 0.06228295 0.87313086 0.21250356\n",
            "  0.58146726 0.4790569  0.65216108 0.52492942 0.48553987 0.67202286\n",
            "  0.30405209 0.40098555 0.4338726  0.22011852 0.81929188 0.7274468\n",
            "  0.         0.77677676 0.2737978  0.41238327 0.81915677 0.19173848\n",
            "  0.51794472 0.75567705 0.46712411 0.8377719  0.78298641 0.23976207\n",
            "  0.88410874 0.09435766 0.73104737 0.83482328 0.81178189 0.61338625\n",
            "  0.6037976  0.71042423 0.5550915  0.86383114 0.57143486 0.44991957\n",
            "  0.90696213 0.28104991 0.48592715 0.62641198 0.60087917 0.29801762\n",
            "  0.59799471 0.31874974 0.56748761 0.80072983 0.905075   0.39588215\n",
            "  0.25715798 0.60745367 0.22366271 0.89876771]\n",
            " [0.34108407 0.61772116 0.7057094  0.92823376 0.50097882 0.75994649\n",
            "  0.57724415 0.34798614 0.64830118 0.52432591 0.39507534 0.55782534\n",
            "  0.23218367 0.38695964 0.87797412 0.34984098 0.72565683 0.12737296\n",
            "  0.68501038 0.76407357 0.65636749 0.94420561 0.03065581 0.14238166\n",
            "  0.94630538 0.4123328  0.90085791 0.52751743 0.9067651  0.76174079\n",
            "  0.1101119  0.20247399 0.72491976 0.36041695 0.11871308 0.47294372\n",
            "  0.63915593 0.71749844 0.79061506 0.87141734 0.45599628 0.17842471\n",
            "  0.61883681 0.87379394 0.38330012 0.7209733  0.42750526 0.72781189\n",
            "  0.98033207 0.32301032 0.42940971 0.47249379 0.44965711 0.33289254\n",
            "  0.66887107 0.45270866 0.72026459 0.87299947 0.20064636 0.25403618\n",
            "  0.77677676 0.         0.89804245 0.39007849 0.04323002 0.64362891\n",
            "  0.37382839 0.28423034 0.43535063 0.24835804 0.35236835 0.78561933\n",
            "  0.14307931 0.68418373 0.71362046 0.06602411 0.13935369 0.2008928\n",
            "  0.24900951 1.07140681 0.79585254 0.61137927 0.39163737 0.42829134\n",
            "  0.27100851 0.87702495 0.35028285 0.15038155 0.23517381 0.48389678\n",
            "  0.99119229 0.55420696 0.39691465 0.02520813 0.44635166 0.8401004\n",
            "  0.69579984 0.22895776 0.80903737 0.18444029]\n",
            " [0.83470236 0.41076672 0.34477217 0.04865798 0.40676631 0.42875991\n",
            "  0.32162866 0.62194257 0.51285162 0.46951721 0.76839445 0.65617155\n",
            "  0.93014152 0.51154332 0.06193009 0.7651994  0.2241163  0.77147039\n",
            "  0.45717291 0.60356739 0.34844279 0.38506913 0.90289673 1.00252065\n",
            "  0.21838792 0.89126801 0.00566734 0.59262925 0.29445537 0.2578618\n",
            "  0.9803212  0.81221549 0.4458445  0.62480503 0.95231012 0.73475244\n",
            "  0.62044903 0.22303796 0.58062161 0.3072803  0.77235593 0.84113298\n",
            "  0.31950733 0.13052835 1.03486431 0.27242978 0.86014371 0.17092855\n",
            "  0.32778713 0.65796889 0.88213609 0.50710633 0.71705206 0.8812392\n",
            "  0.57343054 0.45042237 0.29158345 0.05396053 0.99077024 0.7703018\n",
            "  0.2737978  0.89804245 0.         0.60295309 0.94110207 0.26542232\n",
            "  0.55548812 0.95162795 0.49033963 1.01880248 0.99193506 0.51129119\n",
            "  0.97410529 0.30046147 0.5985004  0.94470677 0.89117295 0.77780294\n",
            "  0.78579989 0.45246605 0.37183991 0.78429801 0.79281575 0.67112207\n",
            "  0.95309733 0.03023255 0.55462302 0.75474056 0.77702665 0.43557939\n",
            "  0.34368094 0.56383794 0.79001453 0.91872016 0.8893905  0.17762828\n",
            "  0.52889097 0.78253414 0.08990402 0.97546979]\n",
            " [0.5617939  0.23924549 0.33168268 0.64435337 0.21666462 0.37128594\n",
            "  0.33268708 0.0435892  0.60554863 0.14817003 0.18011771 0.61400339\n",
            "  0.33501694 0.22697534 0.56447831 0.51818815 0.50818192 0.29979875\n",
            "  0.60695182 0.75257863 0.29002102 0.56039098 0.41045685 0.44292995\n",
            "  0.72577003 0.3006945  0.6039305  0.54522785 0.53416294 0.57236171\n",
            "  0.43055282 0.22908954 0.3355537  0.02995408 0.49274419 0.5949524\n",
            "  0.66048653 0.49586102 0.40746614 0.49635308 0.21081378 0.26204523\n",
            "  0.43215084 0.53923124 0.4323669  0.36643769 0.63983728 0.44040202\n",
            "  0.79703798 0.06909855 0.29685773 0.41337758 0.15977056 0.27900625\n",
            "  0.28729961 0.28019572 0.54562442 0.56324129 0.40690861 0.44414253\n",
            "  0.41238327 0.39007849 0.60295309 0.         0.42915554 0.34013546\n",
            "  0.32380189 0.35036254 0.33025646 0.42652649 0.38911919 0.39639276\n",
            "  0.519112   0.32888795 0.70955426 0.45426497 0.46561559 0.20470262\n",
            "  0.19157489 0.91553037 0.66391    0.73025889 0.20262986 0.1041246\n",
            "  0.58949714 0.59092178 0.26045384 0.24868496 0.18869936 0.17834396\n",
            "  0.81183304 0.16920914 0.20159849 0.41524273 0.6702637  0.61497608\n",
            "  0.30804719 0.19537398 0.51545732 0.54653225]\n",
            " [0.35574845 0.65896058 0.74745712 0.97110041 0.54417567 0.79985255\n",
            "  0.6201702  0.38762971 0.68228193 0.56544486 0.42241469 0.58548184\n",
            "  0.23952453 0.42987269 0.92119134 0.37204383 0.76742279 0.16999088\n",
            "  0.72080895 0.79427874 0.69845823 0.98523916 0.0468649  0.11998089\n",
            "  0.98740192 0.42866842 0.94393738 0.55918493 0.94884395 0.80239647\n",
            "  0.08812227 0.23071188 0.76452949 0.39932953 0.10474361 0.4960008\n",
            "  0.66836689 0.7594165  0.82665722 0.91329504 0.48261082 0.20311077\n",
            "  0.66026348 0.91696396 0.38225374 0.76363513 0.43978511 0.77093665\n",
            "  1.01977341 0.36131998 0.44687714 0.5105103  0.48016433 0.34924516\n",
            "  0.70494953 0.49517587 0.76059048 0.91620139 0.19267128 0.27951896\n",
            "  0.81915677 0.04323002 0.94110207 0.42915554 0.         0.68685743\n",
            "  0.41384347 0.28983982 0.47617325 0.2391939  0.35529448 0.82357865\n",
            "  0.12452513 0.72676282 0.74384268 0.04403048 0.14738795 0.23450327\n",
            "  0.27843417 1.10912457 0.83370555 0.63137186 0.41694535 0.46212855\n",
            "  0.26800304 0.91998082 0.39235103 0.19300229 0.26647046 0.52686847\n",
            "  1.03040898 0.59141711 0.42242599 0.02488678 0.45608619 0.8816756\n",
            "  0.73326626 0.25990037 0.85214876 0.17087856]\n",
            " [0.64024436 0.19415371 0.18660161 0.30482014 0.1438182  0.29928391\n",
            "  0.10408836 0.35690891 0.44021326 0.21909901 0.5117814  0.53606389\n",
            "  0.66473387 0.26552377 0.23569835 0.57382543 0.20587621 0.51952248\n",
            "  0.40796241 0.57557733 0.1489787  0.3892739  0.6516475  0.74069216\n",
            "  0.39721181 0.63502297 0.26701032 0.46055805 0.31538821 0.28024694\n",
            "  0.71984741 0.54695044 0.29316468 0.360566   0.70978726 0.58110665\n",
            "  0.53601584 0.19283176 0.44089421 0.29372938 0.52345826 0.57616659\n",
            "  0.19537665 0.23266568 0.77245726 0.13270765 0.68621223 0.10058567\n",
            "  0.48291802 0.39287921 0.62781676 0.33400068 0.46723624 0.61913981\n",
            "  0.3838637  0.22070269 0.27342394 0.23189814 0.72588537 0.5536913\n",
            "  0.19173848 0.64362891 0.26542232 0.34013546 0.68685743 0.\n",
            "  0.33797977 0.68686153 0.28156918 0.75342614 0.72904675 0.3815719\n",
            "  0.7333461  0.12007593 0.54893605 0.69495301 0.65478751 0.5128945\n",
            "  0.52047451 0.60946393 0.4018495  0.67236043 0.53588397 0.41699287\n",
            "  0.736625   0.25128968 0.31718855 0.49647875 0.51160473 0.17023526\n",
            "  0.49893551 0.33367821 0.5336348  0.66565507 0.71790848 0.29110204\n",
            "  0.35375032 0.51712171 0.17632474 0.74141551]\n",
            " [0.30411858 0.4188697  0.47693408 0.57772166 0.23129343 0.57230995\n",
            "  0.24281433 0.29649639 0.30636115 0.35219661 0.47693568 0.29023752\n",
            "  0.49989857 0.10758242 0.54962445 0.24043107 0.35938235 0.25084527\n",
            "  0.32766602 0.44625555 0.42306044 0.71300994 0.3696856  0.50438356\n",
            "  0.57480568 0.57561132 0.55928125 0.22329317 0.64859597 0.38894399\n",
            "  0.47546164 0.38353674 0.54848047 0.31483991 0.40317898 0.28137946\n",
            "  0.34169187 0.35292199 0.67088791 0.62204639 0.52372927 0.39749526\n",
            "  0.25062407 0.56468098 0.64927304 0.45566826 0.35951995 0.39498936\n",
            "  0.60664074 0.31309912 0.58024288 0.10861934 0.47924229 0.52027094\n",
            "  0.5668729  0.11764102 0.34678861 0.54215218 0.52620539 0.2175368\n",
            "  0.51794472 0.37382839 0.55548812 0.32380189 0.41384347 0.33797977\n",
            "  0.         0.54247634 0.06584172 0.56773546 0.60595491 0.63384253\n",
            "  0.42300778 0.42707087 0.39924364 0.40640706 0.33803663 0.34553042\n",
            "  0.38829463 0.70109496 0.42608366 0.40913251 0.49298425 0.42587388\n",
            "  0.40138391 0.53041718 0.06353175 0.26376244 0.36965308 0.24613116\n",
            "  0.61771006 0.45855723 0.49456745 0.38931892 0.39168837 0.4714873\n",
            "  0.56570244 0.37094955 0.47191997 0.42069319]\n",
            " [0.61626577 0.57912664 0.67121681 0.9916488  0.55182591 0.68287477\n",
            "  0.66052332 0.33000024 0.84777288 0.49475913 0.22360869 0.79397927\n",
            "  0.05242469 0.49649582 0.91466587 0.61116812 0.83354074 0.32726934\n",
            "  0.86951631 0.98210323 0.63562288 0.87868191 0.31444816 0.20260317\n",
            "  1.05756962 0.16070441 0.9528479  0.74637115 0.86877288 0.88857101\n",
            "  0.21884284 0.15941554 0.64527332 0.32695317 0.39441727 0.7276245\n",
            "  0.86577619 0.82238476 0.65735265 0.82954744 0.26584871 0.14688636\n",
            "  0.74091642 0.88896958 0.10870632 0.71435802 0.7043276  0.78578435\n",
            "  1.11638631 0.29413061 0.18196864 0.65106739 0.29433742 0.09695873\n",
            "  0.54428369 0.56755022 0.85441589 0.91320541 0.11752696 0.51283231\n",
            "  0.75567705 0.28423034 0.95162795 0.35036254 0.28983982 0.68686153\n",
            "  0.54247634 0.         0.58529115 0.10034794 0.06983762 0.67684462\n",
            "  0.41403379 0.67724015 0.9329597  0.33380361 0.42319589 0.19799526\n",
            "  0.1690063  1.22554553 0.95699364 0.87108247 0.20412628 0.31131122\n",
            "  0.55462041 0.93811163 0.49123998 0.2874222  0.18233794 0.51829533\n",
            "  1.12987547 0.45586427 0.20972635 0.29880935 0.72578514 0.9461557\n",
            "  0.58652096 0.17862911 0.86313421 0.46071773]\n",
            " [0.35903844 0.38507032 0.43368108 0.51201353 0.19342012 0.5347587\n",
            "  0.18212841 0.31051071 0.27715991 0.32979117 0.49667382 0.29638755\n",
            "  0.54562899 0.10355585 0.48606645 0.29226059 0.29400151 0.31016704\n",
            "  0.28735744 0.42307106 0.38088098 0.66410963 0.43280883 0.56231673\n",
            "  0.51128858 0.60316104 0.49421079 0.22215086 0.59566405 0.32640334\n",
            "  0.53431753 0.42593782 0.51400717 0.32719567 0.46875437 0.31140218\n",
            "  0.33206211 0.28730661 0.64407454 0.57112852 0.53815254 0.4433903\n",
            "  0.18542962 0.50384185 0.69004254 0.4050252  0.40600951 0.33183296\n",
            "  0.54744623 0.33323796 0.60563286 0.0839887  0.48964601 0.55402661\n",
            "  0.54702686 0.07064565 0.28534585 0.4783091  0.5785128  0.28075006\n",
            "  0.46712411 0.43535063 0.49033963 0.33025646 0.47617325 0.28156918\n",
            "  0.06584172 0.58529115 0.         0.61824357 0.64602828 0.60176516\n",
            "  0.48876362 0.37916867 0.37936187 0.47052662 0.4038735  0.38730254\n",
            "  0.42443695 0.64642182 0.37344549 0.42555012 0.51492225 0.43435052\n",
            "  0.46440841 0.4649914  0.09444239 0.31617657 0.40706698 0.2171925\n",
            "  0.55912358 0.44560084 0.51579639 0.45188191 0.43795266 0.40675547\n",
            "  0.54019759 0.40930675 0.40761822 0.48643487]\n",
            " [0.58943088 0.66221931 0.75492205 1.05662989 0.613458   0.77413607\n",
            "  0.71587886 0.39944397 0.86633922 0.57414356 0.320048   0.7947707\n",
            "  0.09191336 0.5395145  0.98568094 0.5956456  0.88442266 0.32852652\n",
            "  0.8944258  0.99326479 0.71605027 0.96964705 0.27520712 0.12767937\n",
            "  1.10953793 0.25941696 1.02043632 0.75533678 0.95509366 0.93418259\n",
            "  0.15402006 0.20688686 0.73655763 0.40015777 0.34138927 0.71719306\n",
            "  0.87200035 0.87402963 0.75536496 0.91625663 0.36533451 0.18019833\n",
            "  0.78613775 0.96473824 0.15084206 0.79296258 0.67558341 0.85005678\n",
            "  1.16084768 0.36360036 0.28085232 0.67532722 0.39068677 0.19672796\n",
            "  0.64064593 0.61133404 0.89727827 0.9833578  0.04773628 0.49803428\n",
            "  0.8377719  0.24835804 1.01880248 0.42652649 0.2391939  0.75342614\n",
            "  0.56773546 0.10034794 0.61824357 0.         0.13769169 0.77240694\n",
            "  0.35660796 0.75539292 0.9432013  0.28185958 0.38461921 0.24295019\n",
            "  0.23547016 1.26437671 0.99155409 0.85774886 0.30207932 0.40209484\n",
            "  0.50635743 1.00324032 0.52410893 0.30400105 0.24212488 0.58322336\n",
            "  1.17354054 0.54740113 0.30781228 0.25520111 0.69357298 0.99878461\n",
            "  0.68141685 0.23640463 0.92932531 0.40475535]\n",
            " [0.68599118 0.60674703 0.69723566 1.03346669 0.59866081 0.69796617\n",
            "  0.71036122 0.37495674 0.91202478 0.52756524 0.23732067 0.86205117\n",
            "  0.12197722 0.5539406  0.95201412 0.68091682 0.88497158 0.3964681\n",
            "  0.93184987 1.04795544 0.66571993 0.89309235 0.38230322 0.25858892\n",
            "  1.1076191  0.13978288 0.99282769 0.81310081 0.89018346 0.94252711\n",
            "  0.27916592 0.22271396 0.66063118 0.36896921 0.4600339  0.7970243\n",
            "  0.93282556 0.87344424 0.65699164 0.8506353  0.26552568 0.21433276\n",
            "  0.79567969 0.92216043 0.04455276 0.74575258 0.774013   0.82903586\n",
            "  1.17025959 0.34012069 0.16041499 0.71430978 0.30502812 0.11148058\n",
            "  0.54993344 0.62404887 0.90981493 0.95128327 0.17119315 0.58260863\n",
            "  0.78298641 0.35236835 0.99193506 0.38911919 0.35529448 0.72904675\n",
            "  0.60595491 0.06983762 0.64602828 0.13769169 0.         0.68332451\n",
            "  0.47859415 0.70937775 0.99908912 0.39931941 0.49163088 0.26043019\n",
            "  0.22301328 1.281832   1.01565405 0.94059901 0.21420372 0.33321702\n",
            "  0.62181512 0.98002292 0.5526588  0.35497477 0.23924857 0.56323391\n",
            "  1.18410749 0.4730449  0.21892631 0.36581306 0.79528668 0.9961757\n",
            "  0.59533169 0.23674521 0.9045755  0.52587053]\n",
            " [0.92361174 0.21671098 0.19638471 0.55954303 0.40839018 0.0861458\n",
            "  0.46926665 0.43951217 0.8168124  0.28711786 0.45323941 0.8916194\n",
            "  0.68388246 0.52835187 0.45015352 0.867889   0.57762411 0.69371467\n",
            "  0.78860992 0.95593103 0.23519297 0.22446707 0.80671997 0.82158713\n",
            "  0.71704186 0.54761709 0.50839748 0.81508644 0.2613812  0.65127057\n",
            "  0.81479047 0.60695782 0.0899688  0.42562855 0.88893429 0.91196186\n",
            "  0.90608513 0.56542577 0.06944771 0.22732024 0.41785953 0.64004082\n",
            "  0.57523627 0.38635322 0.71577107 0.2662492  0.99019622 0.43904262\n",
            "  0.82044971 0.46260901 0.52968959 0.67671859 0.38251228 0.58168549\n",
            "  0.13339148 0.53120004 0.65175963 0.45733104 0.76738521 0.81318506\n",
            "  0.23976207 0.78561933 0.51129119 0.39639276 0.82357865 0.3815719\n",
            "  0.63384253 0.67684462 0.60176516 0.77240694 0.68332451 0.\n",
            "  0.91528329 0.26322767 0.92689194 0.85032165 0.85844323 0.59199152\n",
            "  0.5609937  0.9495923  0.77830973 1.02507958 0.47333245 0.37399258\n",
            "  0.97580744 0.52037042 0.58331967 0.6446871  0.56629452 0.38783175\n",
            "  0.83699468 0.23303553 0.46793869 0.81082508 1.02219237 0.63247994\n",
            "  0.09179409 0.57332549 0.46266981 0.94130313]\n",
            " [0.27211731 0.73521785 0.81913287 0.99911844 0.59620497 0.88311439\n",
            "  0.65372168 0.4758124  0.64959478 0.64342182 0.53797982 0.53038902\n",
            "  0.36400945 0.46810738 0.9616859  0.30823592 0.78212624 0.22486973\n",
            "  0.69596364 0.7443224  0.76744507 1.06100751 0.11479302 0.23016851\n",
            "  0.99313286 0.55220849 0.97753117 0.51970652 1.01624882 0.80634113\n",
            "  0.20266796 0.34545573 0.84944971 0.49032441 0.02637783 0.42886484\n",
            "  0.61686131 0.77589165 0.92475497 0.98279445 0.59898364 0.32128731\n",
            "  0.67329252 0.96600502 0.5036267  0.82538631 0.34675029 0.80776213\n",
            "  1.01227974 0.45504426 0.57001417 0.50286481 0.59126734 0.47267948\n",
            "  0.80329864 0.52390807 0.76250204 0.9554176  0.31209403 0.23497882\n",
            "  0.88410874 0.14307931 0.97410529 0.519112   0.12452513 0.7333461\n",
            "  0.42300778 0.41403379 0.48876362 0.35660796 0.47859415 0.91528329\n",
            "  0.         0.78999094 0.69470406 0.08121892 0.0864186  0.34156325\n",
            "  0.39162076 1.09009009 0.81815744 0.55220822 0.53471586 0.56709057\n",
            "  0.15367361 0.9504078  0.42013498 0.27060242 0.37707541 0.58632218\n",
            "  1.02129619 0.68676327 0.53999359 0.12100429 0.35721522 0.89300243\n",
            "  0.82708898 0.37106598 0.88762479 0.04820319]\n",
            " [0.73086907 0.11047029 0.06699241 0.34760371 0.20027488 0.17963739\n",
            "  0.21729571 0.35839664 0.55998923 0.18250651 0.47764822 0.65038407\n",
            "  0.66390017 0.3362739  0.24996823 0.66735716 0.31557258 0.56752799\n",
            "  0.52794814 0.69558196 0.04798133 0.28593929 0.69703283 0.76290849\n",
            "  0.47773968 0.59873397 0.29974693 0.57416695 0.22715051 0.38978006\n",
            "  0.74626827 0.55490913 0.17674278 0.35556308 0.76499006 0.68759024\n",
            "  0.65449266 0.30311741 0.325098   0.19661437 0.47543804 0.58688249\n",
            "  0.31543472 0.21284696 0.75063691 0.03775035 0.78444901 0.18194856\n",
            "  0.57404489 0.3933102  0.58790615 0.44212703 0.42121393 0.59790379\n",
            "  0.2836973  0.31121762 0.38862032 0.25185327 0.73449322 0.63432834\n",
            "  0.09435766 0.68418373 0.30046147 0.32888795 0.72676282 0.12007593\n",
            "  0.42707087 0.67724015 0.37916867 0.75539292 0.70937775 0.26322767\n",
            "  0.78999094 0.         0.66893948 0.74154414 0.71743138 0.52579006\n",
            "  0.52016738 0.70296649 0.51564411 0.78632529 0.50210016 0.37941215\n",
            "  0.81315704 0.29811628 0.39267216 0.53381494 0.51574252 0.20374616\n",
            "  0.5904977  0.26352084 0.49870562 0.70794284 0.81651522 0.38169548\n",
            "  0.24627536 0.52211852 0.22680235 0.80442335]\n",
            " [0.43659176 0.71910883 0.73495986 0.58754973 0.541428   0.84717566\n",
            "  0.45796608 0.68911057 0.11060987 0.68894771 0.87382547 0.16537779\n",
            "  0.88671814 0.48287225 0.63318893 0.38708889 0.39066621 0.61470345\n",
            "  0.1462724  0.05045692 0.69172679 0.91901736 0.6971617  0.85569323\n",
            "  0.46544833 0.97485057 0.60411394 0.18786509 0.83241351 0.34082214\n",
            "  0.82365751 0.77671146 0.83708754 0.70620075 0.68673475 0.27467734\n",
            "  0.07821478 0.39815087 0.98110401 0.82273749 0.91716566 0.78611117\n",
            "  0.35360046 0.68598367 1.04128413 0.67846064 0.40044244 0.52560508\n",
            "  0.41809593 0.70967883 0.97927414 0.29726792 0.86900786 0.91842221\n",
            "  0.90132479 0.43450273 0.31213767 0.62177472 0.89783947 0.46658803\n",
            "  0.73104737 0.71362046 0.5985004  0.70955426 0.74384268 0.54893605\n",
            "  0.39924364 0.9329597  0.37936187 0.9432013  0.99908912 0.92689194\n",
            "  0.69470406 0.66893948 0.         0.71877474 0.61538702 0.73991344\n",
            "  0.78599387 0.44194554 0.24050879 0.22407699 0.89091588 0.81367074\n",
            "  0.58559266 0.56851682 0.45996883 0.64613041 0.76684242 0.57599017\n",
            "  0.41856748 0.81236697 0.89220645 0.71970703 0.41595592 0.42737276\n",
            "  0.88397362 0.76757655 0.55917826 0.66657889]\n",
            " [0.3190246  0.67888752 0.76569545 0.97291532 0.55388358 0.82297414\n",
            "  0.62308966 0.41174516 0.66225495 0.58583248 0.45988788 0.55804622\n",
            "  0.28330942 0.43345508 0.92756502 0.34067673 0.76392302 0.17559231\n",
            "  0.70348475 0.76908377 0.71549255 1.0055061  0.04469295 0.15932564\n",
            "  0.9812108  0.47103743 0.94776693 0.53645066 0.96569691 0.79516374\n",
            "  0.1288145  0.26733166 0.78829612 0.42477923 0.06071481 0.46460412\n",
            "  0.64233767 0.75653224 0.85619561 0.93093679 0.52058002 0.2416941\n",
            "  0.65579371 0.92658273 0.42603184 0.77791307 0.40126642 0.77559359\n",
            "  1.00902504 0.38784294 0.48892869 0.49797828 0.51539189 0.39151939\n",
            "  0.7344658  0.49562051 0.75252187 0.92208398 0.23582365 0.25226381\n",
            "  0.83482328 0.06602411 0.94470677 0.45426497 0.04403048 0.69495301\n",
            "  0.40640706 0.33380361 0.47052662 0.28185958 0.39931941 0.85032165\n",
            "  0.08121892 0.74154414 0.71877474 0.         0.11019791 0.26690184\n",
            "  0.31433785 1.09457832 0.81982073 0.59710764 0.45562754 0.49430615\n",
            "  0.22461279 0.92258993 0.39157017 0.21001755 0.30092921 0.53946089\n",
            "  1.01912124 0.61940956 0.46099914 0.04157902 0.41625003 0.87725879\n",
            "  0.76081613 0.29463524 0.85649655 0.12693968]\n",
            " [0.20898088 0.66961909 0.75041306 0.91518661 0.52063315 0.82061576\n",
            "  0.57196089 0.42204492 0.56584749 0.57978437 0.51106342 0.45259306\n",
            "  0.37095579 0.38931368 0.88052846 0.23249956 0.69665324 0.16587889\n",
            "  0.61100001 0.66540956 0.69773074 0.99322067 0.1101045  0.26723706\n",
            "  0.90683549 0.54438016 0.89471612 0.43699995 0.94445566 0.72004764\n",
            "  0.23551021 0.3235115  0.78825061 0.43830757 0.07210838 0.35592703\n",
            "  0.53810401 0.69063147 0.87306673 0.91212387 0.57232682 0.3061276\n",
            "  0.58783201 0.88729286 0.52255243 0.7519747  0.29239756 0.72613717\n",
            "  0.92601498 0.40619051 0.56012623 0.41644697 0.55693256 0.46574389\n",
            "  0.75273211 0.44185419 0.6761574  0.87395086 0.33729678 0.15087781\n",
            "  0.81178189 0.13935369 0.89117295 0.46561559 0.14738795 0.65478751\n",
            "  0.33803663 0.42319589 0.4038735  0.38461921 0.49163088 0.85844323\n",
            "  0.0864186  0.71743138 0.61538702 0.11019791 0.         0.31022105\n",
            "  0.36533274 1.004802   0.73230311 0.48700532 0.51166124 0.52597396\n",
            "  0.13649023 0.86700423 0.33900456 0.22019377 0.34803793 0.51389728\n",
            "  0.93511356 0.63480425 0.51646342 0.12941948 0.30909011 0.807087\n",
            "  0.77251667 0.34300869 0.80543411 0.08706392]\n",
            " [0.46616766 0.44313405 0.53497791 0.81471882 0.37142878 0.57445068\n",
            "  0.47297535 0.16834686 0.65162526 0.35046901 0.20086058 0.60790463\n",
            "  0.16049926 0.30032798 0.74698883 0.44567117 0.64250382 0.16249267\n",
            "  0.6718762  0.78842695 0.49064143 0.76496572 0.22697074 0.23860523\n",
            "  0.86749467 0.25278513 0.7796273  0.55514546 0.73780768 0.69442032\n",
            "  0.22596545 0.03870002 0.53805997 0.1750936  0.31584704 0.55287104\n",
            "  0.6753219  0.63188734 0.59255531 0.7003811  0.26210666 0.06335108\n",
            "  0.5463582  0.7303344  0.30380351 0.56352868 0.55342204 0.60823325\n",
            "  0.92190048 0.13575682 0.26417553 0.45393544 0.24980088 0.18332646\n",
            "  0.47095005 0.37193449 0.65896899 0.74408765 0.21299544 0.35123237\n",
            "  0.61338625 0.2008928  0.77780294 0.20470262 0.23450327 0.5128945\n",
            "  0.34553042 0.19799526 0.38730254 0.24295019 0.26043019 0.59199152\n",
            "  0.34156325 0.52579006 0.73991344 0.26690184 0.31022105 0.\n",
            "  0.05724329 1.02902616 0.75937344 0.69691692 0.20261363 0.22774254\n",
            "  0.44579984 0.76144859 0.29325919 0.10773989 0.03819384 0.34284152\n",
            "  0.93504151 0.35903734 0.20713736 0.22556389 0.57932463 0.7565013\n",
            "  0.50093772 0.03426738 0.68807323 0.37793876]\n",
            " [0.5232853  0.42944589 0.52218184 0.82486034 0.38346451 0.55096533\n",
            "  0.49151846 0.16439436 0.69446936 0.33965784 0.14671076 0.65848069\n",
            "  0.14477586 0.33095549 0.75107778 0.50173245 0.66468748 0.21970217\n",
            "  0.71129593 0.83385445 0.48156985 0.74451894 0.27689034 0.26067544\n",
            "  0.88858408 0.19733297 0.78723091 0.60311583 0.72387329 0.72053443\n",
            "  0.25456588 0.04804756 0.51383407 0.16471652 0.36643514 0.60710408\n",
            "  0.72342981 0.65347139 0.55598578 0.68554491 0.20798536 0.07965899\n",
            "  0.57324962 0.7292762  0.26747662 0.55779604 0.61042326 0.61854854\n",
            "  0.9483649  0.12839284 0.207757   0.49560164 0.20175512 0.13253026\n",
            "  0.4353534  0.40107109 0.687179   0.74904369 0.21578321 0.40795298\n",
            "  0.6037976  0.24900951 0.78579989 0.19157489 0.27843417 0.52047451\n",
            "  0.38829463 0.1690063  0.42443695 0.23547016 0.22301328 0.5609937\n",
            "  0.39162076 0.52016738 0.78599387 0.31433785 0.36533274 0.05724329\n",
            "  0.         1.05900173 0.79273516 0.75094113 0.1463767  0.18879187\n",
            "  0.50139574 0.77134524 0.33211636 0.16437721 0.02027633 0.35089482\n",
            "  0.96202756 0.3287469  0.1511334  0.27276209 0.63646475 0.77716207\n",
            "  0.46926052 0.02298303 0.6967664  0.43003545]\n",
            " [0.85803107 0.80083781 0.76314884 0.4099046  0.70000117 0.86395934\n",
            "  0.58355308 0.91545761 0.44522103 0.82367278 1.09562359 0.59296119\n",
            "  1.18916057 0.7290665  0.51337543 0.79780918 0.41054325 0.95158985\n",
            "  0.39439279 0.40757098 0.74640266 0.83691107 1.06313027 1.20525578\n",
            "  0.23492697 1.21526623 0.45686483 0.57675009 0.74681564 0.34318463\n",
            "  1.17587518 1.06765303 0.87326858 0.92641873 1.07648186 0.70372258\n",
            "  0.51203542 0.42348443 1.01743158 0.75900005 1.11909925 1.08772608\n",
            "  0.4867844  0.58258613 1.32636191 0.68821151 0.83634188 0.52179271\n",
            "  0.12929024 0.94721598 1.21233711 0.59891619 1.06339629 1.18097406\n",
            "  0.98617526 0.65809142 0.3723125  0.50365277 1.22493428 0.85524355\n",
            "  0.71042423 1.07140681 0.45246605 0.91553037 1.10912457 0.60946393\n",
            "  0.70109496 1.22554553 0.64642182 1.26437671 1.281832   0.9495923\n",
            "  1.09009009 0.70296649 0.44194554 1.09457832 1.004802   1.02902616\n",
            "  1.05900173 0.         0.27557057 0.66412148 1.11807341 1.00918045\n",
            "  1.00543725 0.43557211 0.74029986 0.96247049 1.04375788 0.73955896\n",
            "  0.11274681 0.94283182 1.11712773 1.08425128 0.85477065 0.32139456\n",
            "  0.94889798 1.04707188 0.48693738 1.07115648]\n",
            " [0.59892503 0.59402822 0.58207247 0.35397906 0.45590931 0.6932172\n",
            "  0.34380308 0.65795126 0.19130164 0.59441495 0.84290004 0.35070228\n",
            "  0.91863449 0.46182315 0.41541766 0.53473638 0.20099547 0.67623597\n",
            "  0.13136033 0.23537498 0.55046043 0.72568398 0.78781472 0.92988385\n",
            "  0.22595112 0.95883594 0.37750437 0.31631013 0.63501556 0.12954631\n",
            "  0.9003888  0.79807341 0.69230769 0.67086892 0.80356472 0.4553196\n",
            "  0.28566084 0.21294965 0.84066638 0.6330621  0.87299406 0.81659069\n",
            "  0.23348112 0.47616787 1.06001389 0.5136625  0.59065986 0.34286074\n",
            "  0.19960772 0.68743392 0.9579579  0.3233589  0.81879084 0.91842768\n",
            "  0.78426205 0.39289818 0.128737   0.4037902  0.95126266 0.58415417\n",
            "  0.5550915  0.79585254 0.37183991 0.66391    0.83370555 0.4018495\n",
            "  0.42608366 0.95699364 0.37344549 0.99155409 1.01565405 0.77830973\n",
            "  0.81815744 0.51564411 0.24050879 0.81982073 0.73230311 0.75937344\n",
            "  0.79273516 0.27557057 0.         0.45414213 0.86412174 0.76309201\n",
            "  0.74283596 0.34303413 0.46782672 0.68855787 0.7765186  0.4957031\n",
            "  0.20599855 0.71936568 0.86381722 0.80884145 0.61353636 0.19477352\n",
            "  0.75559043 0.77936746 0.35124968 0.80167418]\n",
            " [0.28028861 0.8086556  0.84734312 0.78173438 0.61744002 0.95407869\n",
            "  0.56965758 0.6988139  0.27381421 0.75484682 0.8672633  0.13631716\n",
            "  0.82022488 0.51501501 0.80871102 0.26211175 0.56254167 0.54445176\n",
            "  0.333799   0.25713434 0.79722876 1.060346   0.58791442 0.75069041\n",
            "  0.67968982 0.94815204 0.78967676 0.21216057 0.9806329  0.53099905\n",
            "  0.71826554 0.72853849 0.93621099 0.71789061 0.55165271 0.1441393\n",
            "  0.16907562 0.56635911 1.06935977 0.9638343  0.92002939 0.72838994\n",
            "  0.49123424 0.85174444 0.97869022 0.80483628 0.21277415 0.67832657\n",
            "  0.64080978 0.70899857 0.95727584 0.34837628 0.88058205 0.88005463\n",
            "  0.97184045 0.4952287  0.49322441 0.79794725 0.81016603 0.36013287\n",
            "  0.86383114 0.61137927 0.78429801 0.73025889 0.63137186 0.67236043\n",
            "  0.40913251 0.87108247 0.42555012 0.85774886 0.94059901 1.02507958\n",
            "  0.55220822 0.78632529 0.22407699 0.59710764 0.48700532 0.69691692\n",
            "  0.75094113 0.66412148 0.45414213 0.         0.87936245 0.82961123\n",
            "  0.41661675 0.75411821 0.47108124 0.59101447 0.73068258 0.64274087\n",
            "  0.64195539 0.86672957 0.88204935 0.60997661 0.21664272 0.62552978\n",
            "  0.96572278 0.72934083 0.729295   0.5143264 ]\n",
            " [0.66506831 0.3963077  0.48524664 0.83645388 0.41912344 0.48403311\n",
            "  0.53529229 0.20697206 0.79189869 0.32349997 0.02448399 0.77713589\n",
            "  0.21874997 0.41267334 0.74901164 0.63850902 0.7106803  0.36331823\n",
            "  0.79960218 0.93651767 0.45685328 0.67943944 0.42058327 0.37382945\n",
            "  0.92689802 0.09916522 0.79321123 0.71531597 0.67620944 0.77493384\n",
            "  0.37679095 0.18973319 0.44662372 0.19326182 0.51010374 0.73702255\n",
            "  0.83455639 0.69829755 0.45340884 0.63663098 0.06711291 0.21401255\n",
            "  0.63372477 0.71465482 0.25196882 0.53748997 0.75119027 0.6364262\n",
            "  0.99960357 0.18170049 0.09426664 0.59416917 0.09141914 0.10835664\n",
            "  0.34042343 0.47468283 0.747627   0.74924124 0.30460515 0.54788021\n",
            "  0.57143486 0.39163737 0.79281575 0.20262986 0.41694535 0.53588397\n",
            "  0.49298425 0.20412628 0.51492225 0.30207932 0.21420372 0.47333245\n",
            "  0.53471586 0.50210016 0.89091588 0.45562754 0.51166124 0.20261363\n",
            "  0.1463767  1.11807341 0.86412174 0.87936245 0.         0.12268882\n",
            "  0.64777093 0.7835419  0.43107954 0.30631464 0.16442243 0.38035476\n",
            "  1.01443367 0.2588695  0.00588056 0.41433916 0.77823851 0.8165179\n",
            "  0.38368316 0.16895505 0.70793348 0.5746942 ]\n",
            " [0.64630392 0.27411119 0.3640405  0.71524423 0.30962156 0.37216916\n",
            "  0.42584255 0.13080827 0.70958696 0.20161044 0.09823824 0.71601331\n",
            "  0.31173665 0.33099077 0.62659022 0.6081788  0.59935235 0.36279516\n",
            "  0.71013471 0.85667966 0.33427621 0.56786009 0.45333464 0.44835235\n",
            "  0.81129588 0.2202175  0.67140028 0.64823632 0.55831638 0.66640601\n",
            "  0.44333891 0.23610939 0.33456921 0.11173542 0.54099768 0.69204717\n",
            "  0.76414004 0.5866544  0.36721355 0.51892721 0.11015483 0.2684395\n",
            "  0.53008999 0.59200115 0.37291654 0.41486554 0.72777335 0.51720437\n",
            "  0.88809564 0.12688171 0.21131512 0.51735066 0.05611859 0.22278352\n",
            "  0.24663988 0.3836159  0.64221827 0.62697477 0.39395737 0.52743327\n",
            "  0.44991957 0.42829134 0.67112207 0.1041246  0.46212855 0.41699287\n",
            "  0.42587388 0.31131122 0.43435052 0.40209484 0.33321702 0.37399258\n",
            "  0.56709057 0.37941215 0.81367074 0.49430615 0.52597396 0.22774254\n",
            "  0.18879187 1.00918045 0.76309201 0.82961123 0.12268882 0.\n",
            "  0.65695753 0.66256613 0.36234825 0.3061836  0.19684209 0.26982468\n",
            "  0.90330272 0.14530661 0.1193829  0.4531289  0.75725452 0.70187733\n",
            "  0.28223158 0.20371997 0.58706149 0.60057948]\n",
            " [0.1491511  0.77781176 0.85288502 0.97132729 0.61301115 0.93166405\n",
            "  0.64414901 0.54634994 0.56025825 0.69175326 0.6466169  0.42079215\n",
            "  0.50288612 0.47721637 0.95046532 0.20822392 0.74382796 0.29416589\n",
            "  0.61385578 0.63308249 0.79906883 1.09535677 0.24047357 0.38183793\n",
            "  0.9384176  0.68039305 0.95719047 0.42896474 1.0396012  0.75423659\n",
            "  0.35269569 0.45997427 0.9011716  0.56369092 0.1651666  0.31112899\n",
            "  0.50765186 0.73997693 0.99519513 1.00969809 0.70778211 0.44240732\n",
            "  0.63734161 0.96573609 0.65011077 0.84551087 0.20452679 0.79607803\n",
            "  0.94180894 0.53414472 0.69636931 0.45226029 0.69045476 0.60150789\n",
            "  0.87640095 0.51648883 0.70942452 0.94270798 0.4604343  0.18385777\n",
            "  0.90696213 0.27100851 0.95309733 0.58949714 0.26800304 0.736625\n",
            "  0.40138391 0.55462041 0.46440841 0.50635743 0.62181512 0.97580744\n",
            "  0.15367361 0.81315704 0.58559266 0.22461279 0.13649023 0.44579984\n",
            "  0.50139574 1.00543725 0.74283596 0.41661675 0.64777093 0.65695753\n",
            "  0.         0.92671078 0.42167332 0.35106922 0.48379378 0.61314032\n",
            "  0.94881747 0.75815907 0.65251014 0.25600524 0.20921392 0.84728056\n",
            "  0.89262656 0.47892781 0.87186251 0.1071403 ]\n",
            " [0.80694676 0.40749459 0.34694755 0.05353732 0.39001982 0.43647778\n",
            "  0.29982947 0.60812278 0.4826191  0.46115686 0.75920237 0.62617769\n",
            "  0.91526718 0.49011792 0.079376   0.73741083 0.19445245 0.75012215\n",
            "  0.42698588 0.57402501 0.34589014 0.40517009 0.88115084 0.98381858\n",
            "  0.20064677 0.8823449  0.03573453 0.56297854 0.31379706 0.22778912\n",
            "  0.96105587 0.79641904 0.45128104 0.61182331 0.92891308 0.70539683\n",
            "  0.59021654 0.19380092 0.58939292 0.32363147 0.76548804 0.82479854\n",
            "  0.29160925 0.14815241 1.02326527 0.27291231 0.83131469 0.15322006\n",
            "  0.30893728 0.644054   0.87385606 0.47933223 0.709819   0.8697731\n",
            "  0.57598998 0.42740687 0.26135296 0.06876798 0.97422429 0.7442975\n",
            "  0.28104991 0.87702495 0.03023255 0.59092178 0.91998082 0.25128968\n",
            "  0.53041718 0.93811163 0.4649914  1.00324032 0.98002292 0.52037042\n",
            "  0.9504078  0.29811628 0.56851682 0.92258993 0.86700423 0.76144859\n",
            "  0.77134524 0.43557211 0.34303413 0.75411821 0.7835419  0.66256613\n",
            "  0.92671078 0.         0.53169739 0.73502981 0.76195409 0.42049704\n",
            "  0.32512476 0.56014486 0.78093183 0.89735044 0.86042166 0.14963019\n",
            "  0.53286293 0.76731    0.07564226 0.9508624 ]\n",
            " [0.34288659 0.37133284 0.43686899 0.58155603 0.19252325 0.52624014\n",
            "  0.23361246 0.23303428 0.36357649 0.29808344 0.41450529 0.3537129\n",
            "  0.45121609 0.05695659 0.54170988 0.28467435 0.37554384 0.2231729\n",
            "  0.37933353 0.50612393 0.38266188 0.67716728 0.35122276 0.47194799\n",
            "  0.59763905 0.51557713 0.55791189 0.28657797 0.61830634 0.41537229\n",
            "  0.44495299 0.33183165 0.50017971 0.25132629 0.39786618 0.33999759\n",
            "  0.40438217 0.36723794 0.61691808 0.58924372 0.46051902 0.34895266\n",
            "  0.26970656 0.54902907 0.59651028 0.42418337 0.40688406 0.38762944\n",
            "  0.63923711 0.25042091 0.51945332 0.16446866 0.41573457 0.4629646\n",
            "  0.50974325 0.1042906  0.37596686 0.53532339 0.48486244 0.24166243\n",
            "  0.48592715 0.35028285 0.55462302 0.26045384 0.39235103 0.31718855\n",
            "  0.06353175 0.49123998 0.09444239 0.52410893 0.5526588  0.58331967\n",
            "  0.42013498 0.39267216 0.45996883 0.39157017 0.33900456 0.29325919\n",
            "  0.33211636 0.74029986 0.46782672 0.47108124 0.43107954 0.36234825\n",
            "  0.42167332 0.53169739 0.         0.22327727 0.31423688 0.19905407\n",
            "  0.65132574 0.39909383 0.43249149 0.36876234 0.4388727  0.49025965\n",
            "  0.51146019 0.31616737 0.46758716 0.42507026]\n",
            " [0.35927241 0.46887145 0.55593604 0.78709834 0.35299594 0.61386075\n",
            "  0.43667119 0.20527888 0.56416654 0.3758763  0.30120582 0.50713662\n",
            "  0.24060141 0.24863308 0.73178087 0.33802351 0.59460279 0.0578041\n",
            "  0.59058283 0.69554908 0.50619986 0.79548919 0.16536508 0.25107284\n",
            "  0.81862668 0.36046203 0.75728251 0.45912241 0.75657467 0.63811414\n",
            "  0.22641795 0.13752433 0.57965626 0.2202369  0.24426375 0.44687531\n",
            "  0.57837096 0.58534462 0.65538999 0.72143411 0.36132008 0.14069551\n",
            "  0.49130335 0.72510393 0.39607982 0.57064446 0.44614806 0.5838865\n",
            "  0.86251326 0.18646975 0.37188189 0.37138685 0.3399246  0.28940899\n",
            "  0.53435412 0.31858629 0.59917314 0.72728746 0.26272032 0.24358398\n",
            "  0.62641198 0.15038155 0.75474056 0.24868496 0.19300229 0.49647875\n",
            "  0.26376244 0.2874222  0.31617657 0.30400105 0.35497477 0.6446871\n",
            "  0.27060242 0.53381494 0.64613041 0.21001755 0.22019377 0.10773989\n",
            "  0.16437721 0.96247049 0.68855787 0.59101447 0.30631464 0.3061836\n",
            "  0.35106922 0.73502981 0.22327727 0.         0.14441507 0.3341526\n",
            "  0.87458706 0.41705382 0.31035757 0.17438322 0.47249172 0.70972292\n",
            "  0.55673214 0.14164417 0.66515393 0.29835796]\n",
            " [0.50351834 0.42778427 0.52033649 0.81542055 0.37294419 0.55321781\n",
            "  0.47921782 0.15785817 0.6759593  0.3367202  0.16307472 0.63855695\n",
            "  0.15336448 0.31503391 0.74356062 0.48154375 0.65148347 0.20013712\n",
            "  0.69355783 0.81483801 0.4783137  0.74574225 0.26228908 0.25707883\n",
            "  0.87581325 0.21760928 0.77858564 0.58358764 0.72263513 0.70624324\n",
            "  0.2485238  0.04114791 0.51633845 0.16051073 0.35161252 0.58683568\n",
            "  0.70389853 0.64043384 0.56365759 0.68461303 0.22438451 0.07456286\n",
            "  0.55864629 0.72347411 0.28352203 0.5534573  0.59054519 0.60891235\n",
            "  0.9340653  0.12245801 0.22795697 0.47726612 0.21448414 0.15208058\n",
            "  0.44248695 0.38566716 0.67228945 0.74123917 0.21875529 0.38794025\n",
            "  0.60087917 0.23517381 0.77702665 0.18869936 0.26647046 0.51160473\n",
            "  0.36965308 0.18233794 0.40706698 0.24212488 0.23924857 0.56629452\n",
            "  0.37707541 0.51574252 0.76684242 0.30092921 0.34803793 0.03819384\n",
            "  0.02027633 1.04375788 0.7765186  0.73068258 0.16442243 0.19684209\n",
            "  0.48379378 0.76195409 0.31423688 0.14441507 0.         0.34154127\n",
            "  0.94758548 0.33341673 0.1689631  0.25938463 0.61671854 0.76446868\n",
            "  0.47475387 0.00703734 0.68771143 0.41448672]\n",
            " [0.5419406  0.17298422 0.23984985 0.47399668 0.0399305  0.32741255\n",
            "  0.15604802 0.188641   0.4666168  0.11406047 0.35724754 0.51270977\n",
            "  0.4947992  0.14247815 0.40435443 0.48287102 0.33054236 0.36462175\n",
            "  0.4559946  0.61377279 0.18593349 0.48224252 0.49516959 0.57303599\n",
            "  0.54749132 0.4788718  0.437228   0.43732849 0.4305794  0.39661828\n",
            "  0.5534971  0.37671639 0.30247511 0.19457234 0.56140977 0.52468747\n",
            "  0.54019599 0.31805894 0.42729804 0.39843006 0.37992957 0.40605511\n",
            "  0.26222851 0.39185463 0.60716624 0.23912894 0.60418412 0.26766173\n",
            "  0.61954364 0.22425005 0.47432763 0.29727797 0.32466372 0.4549441\n",
            "  0.33080604 0.1482991  0.3728627  0.40128096 0.55579057 0.43811923\n",
            "  0.29801762 0.48389678 0.43557939 0.17834396 0.52686847 0.17023526\n",
            "  0.24613116 0.51829533 0.2171925  0.58322336 0.56323391 0.38783175\n",
            "  0.58632218 0.20374616 0.57599017 0.53946089 0.51389728 0.34284152\n",
            "  0.35089482 0.73955896 0.4957031  0.64274087 0.38035476 0.26982468\n",
            "  0.61314032 0.42049704 0.19905407 0.3341526  0.34154127 0.\n",
            "  0.63452479 0.23643832 0.37897655 0.50709796 0.63630349 0.43663559\n",
            "  0.32307348 0.34698742 0.34617435 0.60083445]\n",
            " [0.80477371 0.68924308 0.65044072 0.30339448 0.59538366 0.75130582\n",
            "  0.47914614 0.81412724 0.39426698 0.71480072 0.99159601 0.55141789\n",
            "  1.09553523 0.63481882 0.4037204  0.7407342  0.30402982 0.8682973\n",
            "  0.33635117 0.39523399 0.63422347 0.72874957 0.98524981 1.12128319\n",
            "  0.12533373 1.11234574 0.34833797 0.52191223 0.63800496 0.24158356\n",
            "  1.09288723 0.97344624 0.76052281 0.8241814  1.00582763 0.65875405\n",
            "  0.47854802 0.31665905 0.90475457 0.6487417  1.01286887 0.99511836\n",
            "  0.38896679 0.47292369 1.22865659 0.57547869 0.79384314 0.40965452\n",
            "  0.01655004 0.84681101 1.10859288 0.52117451 0.95691845 1.08116945\n",
            "  0.87388098 0.56311438 0.27628518 0.39365251 1.13568267 0.78830999\n",
            "  0.59799471 0.99119229 0.34368094 0.81183304 1.03040898 0.49893551\n",
            "  0.61771006 1.12987547 0.55912358 1.17354054 1.18410749 0.83699468\n",
            "  1.02129619 0.5904977  0.41856748 1.01912124 0.93511356 0.93504151\n",
            "  0.96202756 0.11274681 0.20599855 0.64195539 1.01443367 0.90330272\n",
            "  0.94881747 0.32512476 0.65132574 0.87458706 0.94758548 0.63452479\n",
            "  0.         0.83259606 1.01324834 1.00567097 0.81547425 0.20927085\n",
            "  0.83630123 0.951262   0.37440246 1.00627542]\n",
            " [0.72322793 0.15308337 0.23258459 0.61061281 0.27248409 0.2270422\n",
            "  0.3761395  0.21276179 0.70305337 0.12586457 0.23585852 0.74143519\n",
            "  0.45694243 0.35175838 0.51301932 0.67474315 0.53504117 0.46895821\n",
            "  0.69098725 0.85013855 0.21560122 0.42283377 0.57631901 0.58940757\n",
            "  0.72881366 0.34806562 0.56321809 0.66774978 0.41754356 0.60758929\n",
            "  0.58194031 0.37420937 0.18943445 0.1968518  0.66038726 0.73901566\n",
            "  0.77473967 0.5218835  0.23838648 0.37793127 0.21853578 0.40740138\n",
            "  0.4889697  0.46959427 0.51043173 0.29455361 0.79758184 0.42760118\n",
            "  0.81659395 0.23186851 0.33425716 0.52865109 0.16920759 0.36480256\n",
            "  0.11824301 0.38091131 0.59202701 0.51527185 0.53855254 0.60741762\n",
            "  0.31874974 0.55420696 0.56383794 0.16920914 0.59141711 0.33367821\n",
            "  0.45855723 0.45586427 0.44560084 0.54740113 0.4730449  0.23303553\n",
            "  0.68676327 0.26352084 0.81236697 0.61940956 0.63480425 0.35903734\n",
            "  0.3287469  0.94283182 0.71936568 0.86672957 0.2588695  0.14530661\n",
            "  0.75815907 0.56014486 0.39909383 0.41705382 0.33341673 0.23643832\n",
            "  0.83259606 0.         0.25428069 0.57940588 0.82876582 0.62457831\n",
            "  0.14194104 0.34045224 0.48672488 0.71530839]\n",
            " [0.66890897 0.39258401 0.48125054 0.83378962 0.41787874 0.47914502\n",
            "  0.53413834 0.20718241 0.79285305 0.32058309 0.02187691 0.77924011\n",
            "  0.22461415 0.41334842 0.74592172 0.64189423 0.70941408 0.36747704\n",
            "  0.80010857 0.93767143 0.45330221 0.67447767 0.4257942  0.37968715\n",
            "  0.92518662 0.10145345 0.79037315 0.71708538 0.67172099 0.77396015\n",
            "  0.38258282 0.19486992 0.44176406 0.19307664 0.51533404 0.73985857\n",
            "  0.83620598 0.69699529 0.44773394 0.63213078 0.06130409 0.21943653\n",
            "  0.6331277  0.71116451 0.25630973 0.53397319 0.75490584 0.63414515\n",
            "  0.99837646 0.1826967  0.09535674 0.59533003 0.08633522 0.11375981\n",
            "  0.33496734 0.47487235 0.74692604 0.74622949 0.31047184 0.55157269\n",
            "  0.56748761 0.39691465 0.79001453 0.20159849 0.42242599 0.5336348\n",
            "  0.49456745 0.20972635 0.51579639 0.30781228 0.21892631 0.46793869\n",
            "  0.53999359 0.49870562 0.89220645 0.46099914 0.51646342 0.20713736\n",
            "  0.1511334  1.11712773 0.86381722 0.88204935 0.00588056 0.1193829\n",
            "  0.65251014 0.78093183 0.43249149 0.31035757 0.1689631  0.37897655\n",
            "  1.01324834 0.25428069 0.         0.41968419 0.78205621 0.81490938\n",
            "  0.37840596 0.17361141 0.70534135 0.57983988]\n",
            " [0.33601318 0.64239204 0.7301271  0.94829395 0.52341044 0.78497783\n",
            "  0.59752205 0.37309564 0.6575602  0.54905602 0.41839142 0.56186798\n",
            "  0.24739987 0.40725955 0.89954978 0.34977142 0.74353585 0.14725359\n",
            "  0.69594782 0.77015313 0.68057184 0.96893062 0.02261665 0.14072165\n",
            "  0.96315758 0.43183402 0.92161292 0.53475979 0.93095378 0.77800075\n",
            "  0.1082923  0.22580469 0.75000127 0.38559591 0.09790764 0.47357497\n",
            "  0.6444249  0.73562936 0.81575643 0.89574345 0.47913875 0.2005405\n",
            "  0.63620017 0.89631949 0.39481392 0.74462822 0.42108677 0.74878287\n",
            "  0.99507141 0.34821614 0.44937357 0.48566723 0.47383334 0.35229391\n",
            "  0.69401078 0.47190813 0.7360975  0.89441956 0.2079244  0.25621794\n",
            "  0.80072983 0.02520813 0.91872016 0.41524273 0.02488678 0.66565507\n",
            "  0.38931892 0.29880935 0.45188191 0.25520111 0.36581306 0.81082508\n",
            "  0.12100429 0.70794284 0.71970703 0.04157902 0.12941948 0.22556389\n",
            "  0.27276209 1.08425128 0.80884145 0.60997661 0.41433916 0.4531289\n",
            "  0.25600524 0.89735044 0.36876234 0.17438322 0.25938463 0.50709796\n",
            "  1.00567097 0.57940588 0.41968419 0.         0.43845007 0.85766682\n",
            "  0.72100632 0.25307415 0.8299368  0.16444793]\n",
            " [0.11322012 0.80926695 0.86836349 0.89764645 0.62296782 0.96349207\n",
            "  0.61529313 0.63120713 0.42227857 0.73640456 0.77143094 0.26411117\n",
            "  0.67339558 0.49423676 0.90023701 0.15463932 0.66690555 0.41689161\n",
            "  0.48259862 0.45828664 0.81461919 1.10194622 0.41845822 0.5753472\n",
            "  0.82930072 0.82991385 0.89423003 0.30446685 1.0330408  0.657174\n",
            "  0.5440782  0.60362619 0.93858048 0.65037258 0.36255997 0.15958439\n",
            "  0.34279797 0.66666422 1.05447066 1.00905626 0.82996898 0.59476787\n",
            "  0.57197242 0.92982006 0.82863057 0.84297266 0.03216843 0.75294215\n",
            "  0.81135054 0.63045396 0.84280433 0.38920698 0.80085707 0.75471476\n",
            "  0.94368816 0.50535316 0.61379985 0.89077084 0.64612209 0.23113368\n",
            "  0.905075   0.44635166 0.8893905  0.6702637  0.45608619 0.71790848\n",
            "  0.39168837 0.72578514 0.43795266 0.69357298 0.79528668 1.02219237\n",
            "  0.35721522 0.81651522 0.41595592 0.41625003 0.30909011 0.57932463\n",
            "  0.63646475 0.85477065 0.61353636 0.21664272 0.77823851 0.75725452\n",
            "  0.20921392 0.86042166 0.4388727  0.47249172 0.61671854 0.63630349\n",
            "  0.81547425 0.82876582 0.78205621 0.43845007 0.         0.75424071\n",
            "  0.94903771 0.61355153 0.81898054 0.31395844]\n",
            " [0.71559166 0.48005775 0.44277271 0.16033518 0.39896118 0.54640102\n",
            "  0.28586774 0.62197586 0.35172929 0.50894152 0.793085   0.5049153\n",
            "  0.91603373 0.46185841 0.22553931 0.64672249 0.1151211  0.71333025\n",
            "  0.29226018 0.42856118 0.42502488 0.54645411 0.83908311 0.96058002\n",
            "  0.11146187 0.91530923 0.18327355 0.45023377 0.45472012 0.09715615\n",
            "  0.93452537 0.7940003  0.55352999 0.63010834 0.87407769 0.59539614\n",
            "  0.45778625 0.1248373  0.69929517 0.45867802 0.81047789 0.81864408\n",
            "  0.22153235 0.29062379 1.04052442 0.36830724 0.7272355  0.20042024\n",
            "  0.19295227 0.65620557 0.91012867 0.39571182 0.75427747 0.88994792\n",
            "  0.66478075 0.39114521 0.14067249 0.21405077 0.9643677  0.67100643\n",
            "  0.39588215 0.8401004  0.17762828 0.61497608 0.8816756  0.29110204\n",
            "  0.4714873  0.9461557  0.40675547 0.99878461 0.9961757  0.63247994\n",
            "  0.89300243 0.38169548 0.42737276 0.87725879 0.807087   0.7565013\n",
            "  0.77716207 0.32139456 0.19477352 0.62552978 0.8165179  0.70187733\n",
            "  0.84728056 0.14963019 0.49025965 0.70972292 0.76446868 0.43663559\n",
            "  0.20927085 0.62457831 0.81490938 0.85766682 0.75424071 0.\n",
            "  0.62782456 0.76883455 0.17436749 0.88631051]\n",
            " [0.84743665 0.16525582 0.18689212 0.57751648 0.34960086 0.11544276\n",
            "  0.42784288 0.35150347 0.77336408 0.21361618 0.36299506 0.83478301\n",
            "  0.5925205  0.458517   0.47058838 0.79440021 0.55825165 0.60710054\n",
            "  0.75107462 0.91657197 0.20586344 0.30109845 0.71749315 0.72982202\n",
            "  0.72147849 0.46151773 0.52688301 0.75884808 0.31811941 0.63281084\n",
            "  0.72319876 0.51534121 0.08575941 0.33678902 0.80071501 0.84647692\n",
            "  0.85656134 0.5454206  0.10547375 0.27984058 0.33060298 0.54837938\n",
            "  0.53902399 0.41367429 0.62906127 0.26213303 0.917285   0.4282068\n",
            "  0.81981248 0.37298843 0.44441675 0.61900137 0.29245625 0.49198111\n",
            "  0.05095746 0.47064583 0.62706875 0.47586875 0.6757959  0.73457272\n",
            "  0.25715798 0.69579984 0.52889097 0.30804719 0.73326626 0.35375032\n",
            "  0.56570244 0.58652096 0.54019759 0.68141685 0.59533169 0.09179409\n",
            "  0.82708898 0.24627536 0.88397362 0.76081613 0.77251667 0.50093772\n",
            "  0.46926052 0.94889798 0.75559043 0.96572278 0.38368316 0.28223158\n",
            "  0.89262656 0.53286293 0.51146019 0.55673214 0.47475387 0.32307348\n",
            "  0.83630123 0.14194104 0.37840596 0.72100632 0.94903771 0.62782456\n",
            "  0.         0.48178035 0.46714992 0.85435722]\n",
            " [0.50038264 0.43451743 0.52704111 0.82075963 0.37806926 0.56021355\n",
            "  0.48376342 0.16404574 0.67730667 0.3433282  0.16834857 0.63824859\n",
            "  0.14822987 0.31814789 0.74935479 0.47928308 0.65567868 0.1967497\n",
            "  0.69549332 0.81570788 0.48485753 0.7526848  0.25627302 0.2500772\n",
            "  0.8801421  0.21937097 0.78412355 0.58389808 0.72938906 0.71000482\n",
            "  0.2414887  0.03416786 0.52334403 0.16704991 0.34567539 0.58540515\n",
            "  0.70419216 0.64469162 0.57059971 0.69139757 0.2296759  0.06757661\n",
            "  0.56229784 0.72960403 0.28087866 0.55984178 0.58757639 0.61422209\n",
            "  0.93780266 0.12880835 0.2302801  0.47878986 0.22075949 0.15216531\n",
            "  0.44945454 0.38900307 0.67579715 0.74697164 0.21238537 0.38522434\n",
            "  0.60745367 0.22895776 0.78253414 0.19537398 0.25990037 0.51712171\n",
            "  0.37094955 0.17862911 0.40930675 0.23640463 0.23674521 0.57332549\n",
            "  0.37106598 0.52211852 0.76757655 0.29463524 0.34300869 0.03426738\n",
            "  0.02298303 1.04707188 0.77936746 0.72934083 0.16895505 0.20371997\n",
            "  0.47892781 0.76731    0.31616737 0.14164417 0.00703734 0.34698742\n",
            "  0.951262   0.34045224 0.17361141 0.25307415 0.61355153 0.76883455\n",
            "  0.48178035 0.         0.69315868 0.40877683]\n",
            " [0.75818929 0.33473347 0.28026622 0.12891606 0.3169083  0.37716157\n",
            "  0.23400364 0.5332187  0.46416663 0.38575602 0.68360278 0.59712785\n",
            "  0.84092914 0.42306735 0.08128811 0.68899005 0.16925021 0.68272977\n",
            "  0.41365891 0.57127862 0.27401462 0.37530851 0.81439559 0.91266813\n",
            "  0.25515377 0.80676431 0.09217129 0.52922871 0.28411662 0.22437651\n",
            "  0.89057387 0.72264164 0.38816328 0.53660975 0.86545074 0.66772879\n",
            "  0.57096031 0.16359934 0.53069186 0.2851536  0.6903707  0.75141368\n",
            "  0.24720365 0.12700397 0.94776157 0.20510408 0.78891329 0.08128968\n",
            "  0.35786604 0.56919873 0.79836818 0.43193946 0.63460749 0.79423886\n",
            "  0.50831474 0.36374369 0.24709751 0.07191218 0.90101372 0.68834914\n",
            "  0.22366271 0.80903737 0.08990402 0.51545732 0.85214876 0.17632474\n",
            "  0.47191997 0.86313421 0.40761822 0.92932531 0.9045755  0.46266981\n",
            "  0.88762479 0.22680235 0.55917826 0.85649655 0.80543411 0.68807323\n",
            "  0.6967664  0.48693738 0.35124968 0.729295   0.70793348 0.58706149\n",
            "  0.87186251 0.07564226 0.46758716 0.66515393 0.68771143 0.34617435\n",
            "  0.37440246 0.48672488 0.70534135 0.8299368  0.81898054 0.17436749\n",
            "  0.46714992 0.69315868 0.         0.89037586]\n",
            " [0.23611352 0.75534067 0.83689174 0.99841479 0.60768532 0.90551381\n",
            "  0.65736889 0.50297366 0.62786838 0.66486686 0.57674049 0.50139055\n",
            "  0.41022738 0.47604748 0.96607653 0.27967144 0.7773966  0.24761473\n",
            "  0.67680615 0.71561555 0.78436906 1.07958238 0.15451297 0.27836941\n",
            "  0.98383104 0.59621821 0.97911417 0.49674763 1.03141078 0.79731439\n",
            "  0.25077647 0.38497044 0.87269948 0.51845666 0.06665695 0.39651594\n",
            "  0.5884165  0.77189013 0.9536833  0.99895256 0.63797779 0.36258454\n",
            "  0.66877871 0.97380641 0.55145327 0.83901919 0.30566116 0.81150084\n",
            "  0.99789931 0.4846669  0.6135988  0.49244865 0.62754077 0.51668815\n",
            "  0.83271127 0.52724846 0.75299039 0.9593266  0.36007605 0.21819158\n",
            "  0.89876771 0.18444029 0.97546979 0.54653225 0.17087856 0.74141551\n",
            "  0.42069319 0.46071773 0.48643487 0.40475535 0.52587053 0.94130313\n",
            "  0.04820319 0.80442335 0.66657889 0.12693968 0.08706392 0.37793876\n",
            "  0.43003545 1.07115648 0.80167418 0.5143264  0.5746942  0.60057948\n",
            "  0.1071403  0.9508624  0.42507026 0.29835796 0.41448672 0.60083445\n",
            "  1.00627542 0.71530839 0.57983988 0.16444793 0.31395844 0.88631051\n",
            "  0.85435722 0.40877683 0.89037586 0.        ]]\n"
          ]
        }
      ],
      "source": [
        "A = np.random.random((100,2))\n",
        "X,Y = np.atleast_2d(A[:,0], A[:,1])\n",
        "D = np.sqrt( (X-X.T)**2 + (Y-Y.T)**2)\n",
        "print(D)"
      ]
    },
    {
      "cell_type": "markdown",
      "metadata": {
        "id": "RRY4xBeOXGTD"
      },
      "source": [
        "#### 53. How to convert a float (32 bits) array into an integer (32 bits) in place? \n",
        "(**hint**: astype(copy=False))"
      ]
    },
    {
      "cell_type": "code",
      "execution_count": 63,
      "metadata": {
        "id": "-VgZ9fiOXGTD",
        "colab": {
          "base_uri": "https://localhost:8080/"
        },
        "outputId": "c84971b1-5a95-488b-88b4-1449bb00797e"
      },
      "outputs": [
        {
          "output_type": "stream",
          "name": "stdout",
          "text": [
            "[29 54 83 80 36 13 40 11  6 22]\n"
          ]
        }
      ],
      "source": [
        "Z = (np.random.rand(10)*100).astype(np.float32)\n",
        "Y = Z.view(np.int32)\n",
        "Y[:] = Z\n",
        "print(Y)"
      ]
    },
    {
      "cell_type": "markdown",
      "metadata": {
        "id": "fBvjvOnTXGTD"
      },
      "source": [
        "#### 54. How to read the following file? (★★☆) \n",
        "(**hint**: np.genfromtxt)"
      ]
    },
    {
      "cell_type": "markdown",
      "metadata": {
        "id": "4FFhbwR8XGTD"
      },
      "source": [
        "```\n",
        "1, 2, 3, 4, 5\n",
        "6,  ,  , 7, 8\n",
        " ,  , 9,10,11\n",
        "```"
      ]
    },
    {
      "cell_type": "code",
      "execution_count": 64,
      "metadata": {
        "id": "IWtDmoYsXGTE",
        "colab": {
          "base_uri": "https://localhost:8080/"
        },
        "outputId": "7093d6d9-982a-40a5-b4e7-30346a61459e"
      },
      "outputs": [
        {
          "output_type": "stream",
          "name": "stdout",
          "text": [
            "[[ 1  2  3  4  5]\n",
            " [ 6 -1 -1  7  8]\n",
            " [-1 -1  9 10 11]]\n"
          ]
        },
        {
          "output_type": "stream",
          "name": "stderr",
          "text": [
            "<ipython-input-64-22eef73c2df0>:8: DeprecationWarning: `np.int` is a deprecated alias for the builtin `int`. To silence this warning, use `int` by itself. Doing this will not modify any behavior and is safe. When replacing `np.int`, you may wish to use e.g. `np.int64` or `np.int32` to specify the precision. If you wish to review your current use, check the release note link for additional information.\n",
            "Deprecated in NumPy 1.20; for more details and guidance: https://numpy.org/devdocs/release/1.20.0-notes.html#deprecations\n",
            "  a = np.genfromtxt(s, delimiter=\",\", dtype=np.int)\n"
          ]
        }
      ],
      "source": [
        "from io import StringIO\n",
        "\n",
        "\n",
        "s = StringIO('''1, 2, 3, 4, 5 \n",
        "                6,  ,  , 7, 8\n",
        "                 ,  , 9,10,11\n",
        "''')\n",
        "a = np.genfromtxt(s, delimiter=\",\", dtype=np.int)\n",
        "print(a)"
      ]
    },
    {
      "cell_type": "markdown",
      "metadata": {
        "id": "OuRCrKz8XGTE"
      },
      "source": [
        "#### 55. What is the equivalent of enumerate for numpy arrays? (★★☆) \n",
        "(**hint**: np.ndenumerate, np.ndindex)"
      ]
    },
    {
      "cell_type": "code",
      "execution_count": 68,
      "metadata": {
        "id": "QgWlO-VnXGTE",
        "colab": {
          "base_uri": "https://localhost:8080/"
        },
        "outputId": "d68543bb-a02e-4616-da89-f7aec9ff67ac"
      },
      "outputs": [
        {
          "output_type": "stream",
          "name": "stdout",
          "text": [
            "(0, 0) 0\n",
            "(0, 1) 1\n",
            "(1, 0) 2\n",
            "(1, 1) 3\n",
            "(2, 0) 4\n",
            "(2, 1) 5\n",
            "(0, 0) 0\n",
            "(0, 1) 1\n",
            "(1, 0) 2\n",
            "(1, 1) 3\n",
            "(2, 0) 4\n",
            "(2, 1) 5\n"
          ]
        }
      ],
      "source": [
        "a = np.arange(6).reshape(3,2)\n",
        "for index, value in np.ndenumerate(a):\n",
        "    print(index, value)\n",
        "for index in np.ndindex(a.shape):\n",
        "    print(index, a[index])"
      ]
    },
    {
      "cell_type": "markdown",
      "metadata": {
        "id": "eH4c-rQHXGTE"
      },
      "source": [
        "#### 56. Generate a generic 2D Gaussian-like array (★★☆) \n",
        "(**hint**: np.meshgrid, np.exp)"
      ]
    },
    {
      "cell_type": "code",
      "execution_count": 69,
      "metadata": {
        "id": "EjzpUNhTXGTF",
        "colab": {
          "base_uri": "https://localhost:8080/"
        },
        "outputId": "37dabe31-46b1-41c5-ffbd-fef057cd4e20"
      },
      "outputs": [
        {
          "output_type": "stream",
          "name": "stdout",
          "text": [
            "[[0.36787944 0.44822088 0.51979489 0.57375342 0.60279818 0.60279818\n",
            "  0.57375342 0.51979489 0.44822088 0.36787944]\n",
            " [0.44822088 0.54610814 0.63331324 0.69905581 0.73444367 0.73444367\n",
            "  0.69905581 0.63331324 0.54610814 0.44822088]\n",
            " [0.51979489 0.63331324 0.73444367 0.81068432 0.85172308 0.85172308\n",
            "  0.81068432 0.73444367 0.63331324 0.51979489]\n",
            " [0.57375342 0.69905581 0.81068432 0.89483932 0.9401382  0.9401382\n",
            "  0.89483932 0.81068432 0.69905581 0.57375342]\n",
            " [0.60279818 0.73444367 0.85172308 0.9401382  0.98773022 0.98773022\n",
            "  0.9401382  0.85172308 0.73444367 0.60279818]\n",
            " [0.60279818 0.73444367 0.85172308 0.9401382  0.98773022 0.98773022\n",
            "  0.9401382  0.85172308 0.73444367 0.60279818]\n",
            " [0.57375342 0.69905581 0.81068432 0.89483932 0.9401382  0.9401382\n",
            "  0.89483932 0.81068432 0.69905581 0.57375342]\n",
            " [0.51979489 0.63331324 0.73444367 0.81068432 0.85172308 0.85172308\n",
            "  0.81068432 0.73444367 0.63331324 0.51979489]\n",
            " [0.44822088 0.54610814 0.63331324 0.69905581 0.73444367 0.73444367\n",
            "  0.69905581 0.63331324 0.54610814 0.44822088]\n",
            " [0.36787944 0.44822088 0.51979489 0.57375342 0.60279818 0.60279818\n",
            "  0.57375342 0.51979489 0.44822088 0.36787944]]\n"
          ]
        }
      ],
      "source": [
        "X, Y = np.meshgrid(np.linspace(-1,1,10), np.linspace(-1,1,10))\n",
        "D = np.sqrt(X*X+Y*Y)\n",
        "sigma, mu = 1.0, 0.0\n",
        "G = np.exp(-( (D-mu)**2 / ( 2.0 * sigma**2 ) ) )\n",
        "print(G)"
      ]
    },
    {
      "cell_type": "markdown",
      "metadata": {
        "id": "CXNg7r8FXGTF"
      },
      "source": [
        "#### 57. How to randomly place p elements in a 2D array? (★★☆) \n",
        "(**hint**: np.put, np.random.choice)"
      ]
    },
    {
      "cell_type": "code",
      "execution_count": 70,
      "metadata": {
        "id": "-cEN8IeCXGTF",
        "colab": {
          "base_uri": "https://localhost:8080/"
        },
        "outputId": "06db4359-314a-45f2-8fb4-6d677d3990e3"
      },
      "outputs": [
        {
          "output_type": "stream",
          "name": "stdout",
          "text": [
            "[[0. 0. 0. 0. 0. 1.]\n",
            " [0. 0. 0. 0. 0. 0.]\n",
            " [0. 0. 0. 0. 0. 0.]\n",
            " [1. 1. 0. 0. 0. 0.]\n",
            " [0. 0. 0. 0. 0. 0.]\n",
            " [0. 0. 0. 0. 0. 0.]]\n"
          ]
        }
      ],
      "source": [
        "n = 6\n",
        "p = 3\n",
        "Z = np.zeros((n,n))\n",
        "np.put(Z, np.random.choice(range(n*n), p, replace=False),1)\n",
        "print(Z)"
      ]
    },
    {
      "cell_type": "markdown",
      "metadata": {
        "id": "mIAzvzxSXGTG"
      },
      "source": [
        "#### 58. Subtract the mean of each row of a matrix (★★☆) \n",
        "(**hint**: mean(axis=,keepdims=))"
      ]
    },
    {
      "cell_type": "code",
      "execution_count": 71,
      "metadata": {
        "id": "BatuUC16XGTG",
        "colab": {
          "base_uri": "https://localhost:8080/"
        },
        "outputId": "d9a06b6a-1ae7-4f14-8088-388b665b0e91"
      },
      "outputs": [
        {
          "output_type": "stream",
          "name": "stdout",
          "text": [
            "[[ 0.41414746  0.51917365 -0.40523104 -0.20720293 -0.28985887  0.29991973\n",
            "  -0.14328148 -0.06895795 -0.42666053  0.30795196]\n",
            " [-0.40785486  0.04760203 -0.09180189 -0.06078405 -0.03358769  0.38781272\n",
            "   0.21034489  0.39850157 -0.17837795 -0.27185477]\n",
            " [ 0.10120164  0.21258932  0.30949884  0.097247    0.37274693  0.32819016\n",
            "   0.0909085  -0.5740143  -0.40049643 -0.53787167]\n",
            " [ 0.00549544 -0.36531271  0.23629883 -0.38074733  0.21795566  0.28338638\n",
            "  -0.03772495  0.35929326  0.12667523 -0.44531982]\n",
            " [-0.40003329 -0.32482052 -0.19426235  0.38800504  0.19859374  0.30427285\n",
            "   0.04321616  0.16976596  0.10107125 -0.28580885]]\n"
          ]
        }
      ],
      "source": [
        "X = np.random.rand(5, 10)\n",
        "Y = X - X.mean(axis=1, keepdims=True)\n",
        "\n",
        "print(Y)\n"
      ]
    },
    {
      "cell_type": "markdown",
      "metadata": {
        "id": "6ce8H_T1XGTG"
      },
      "source": [
        "#### 59. How to sort an array by the nth column? (★★☆) \n",
        "(**hint**: argsort)"
      ]
    },
    {
      "cell_type": "code",
      "execution_count": 72,
      "metadata": {
        "id": "dbZ9W_HdXGTH",
        "colab": {
          "base_uri": "https://localhost:8080/"
        },
        "outputId": "d7289312-220d-4dec-c797-1d6b710ed75c"
      },
      "outputs": [
        {
          "output_type": "stream",
          "name": "stdout",
          "text": [
            "[[ 5 14  8]\n",
            " [ 8 13  6]\n",
            " [ 6  8  8]]\n",
            "[[ 6  8  8]\n",
            " [ 8 13  6]\n",
            " [ 5 14  8]]\n"
          ]
        }
      ],
      "source": [
        "P = np.random.randint(0,15,(3,3))\n",
        "print(P)\n",
        "print(P[P[:,1].argsort()])"
      ]
    },
    {
      "cell_type": "markdown",
      "metadata": {
        "id": "Gd4fcLVBXGTH"
      },
      "source": [
        "#### 60. How to tell if a given 2D array has null columns? (★★☆) \n",
        "(**hint**: any, ~)"
      ]
    },
    {
      "cell_type": "code",
      "execution_count": 73,
      "metadata": {
        "id": "cNDnGimxXGTH",
        "colab": {
          "base_uri": "https://localhost:8080/"
        },
        "outputId": "ed10295d-6ee5-4be1-a893-a71da928aa22"
      },
      "outputs": [
        {
          "output_type": "stream",
          "name": "stdout",
          "text": [
            "True\n"
          ]
        }
      ],
      "source": [
        "Z = np.random.randint(0,4,(4,10))\n",
        "print((~Z.any(axis=0)).any())"
      ]
    },
    {
      "cell_type": "markdown",
      "metadata": {
        "id": "--pf4HgMXGTH"
      },
      "source": [
        "#### 61. Find the nearest value from a given value in an array (★★☆) \n",
        "(**hint**: np.abs, argmin, flat)"
      ]
    },
    {
      "cell_type": "code",
      "execution_count": 74,
      "metadata": {
        "id": "LAV7LsOjXGTJ",
        "colab": {
          "base_uri": "https://localhost:8080/"
        },
        "outputId": "efb6d3d4-c399-48a9-f359-9eee8286896d"
      },
      "outputs": [
        {
          "output_type": "stream",
          "name": "stdout",
          "text": [
            "0.5183814963862634\n"
          ]
        }
      ],
      "source": [
        "A = np.random.uniform(0,2,10)\n",
        "z = 0.5\n",
        "m = A.flat[np.abs(A - z).argmin()]\n",
        "print(m)"
      ]
    },
    {
      "cell_type": "markdown",
      "metadata": {
        "id": "1K_sjNhUXGTJ"
      },
      "source": [
        "#### 62. Considering two arrays with shape (1,3) and (3,1), how to compute their sum using an iterator? (★★☆) \n",
        "(**hint**: np.nditer)"
      ]
    },
    {
      "cell_type": "code",
      "execution_count": 75,
      "metadata": {
        "id": "YlkJP51VXGTJ",
        "colab": {
          "base_uri": "https://localhost:8080/"
        },
        "outputId": "2e409633-1000-4138-ee21-a3f8581c2bde"
      },
      "outputs": [
        {
          "output_type": "stream",
          "name": "stdout",
          "text": [
            "[[0 1 2]\n",
            " [1 2 3]\n",
            " [2 3 4]]\n"
          ]
        }
      ],
      "source": [
        "A = np.arange(3).reshape(1,3)\n",
        "B = np.arange(3).reshape(3,1)\n",
        "T = np.nditer([A,B,None])\n",
        "for x,y,z in T: z[...] = x + y\n",
        "print(T.operands[2])"
      ]
    },
    {
      "cell_type": "markdown",
      "metadata": {
        "id": "QicghCSqXGTJ"
      },
      "source": [
        "#### 63. Create an array class that has a name attribute (★★☆) \n",
        "(**hint**: class method)"
      ]
    },
    {
      "cell_type": "code",
      "execution_count": 76,
      "metadata": {
        "id": "8ytxqP3dXGTJ",
        "colab": {
          "base_uri": "https://localhost:8080/"
        },
        "outputId": "0d4b2994-d061-40f7-a593-34bfec2f3090"
      },
      "outputs": [
        {
          "output_type": "stream",
          "name": "stdout",
          "text": [
            "range_20\n"
          ]
        }
      ],
      "source": [
        "class NamedArray(np.ndarray):\n",
        "    def __new__(cls, array, name=\"no name\"):\n",
        "        obj = np.asarray(array).view(cls)\n",
        "        obj.name = name\n",
        "        return obj\n",
        "    def __array_finalize__(self, obj):\n",
        "        if obj is None: return\n",
        "        self.name = getattr(obj, 'name', \"no name\")\n",
        "\n",
        "A = NamedArray(np.arange(20), \"range_20\")\n",
        "print (A.name)"
      ]
    },
    {
      "cell_type": "markdown",
      "metadata": {
        "id": "cxjEbamzXGTM"
      },
      "source": [
        "#### 64. Consider a given vector, how to add 1 to each element indexed by a second vector (be careful with repeated indices)? (★★★) \n",
        "(**hint**: np.bincount | np.add.at)"
      ]
    },
    {
      "cell_type": "code",
      "execution_count": 78,
      "metadata": {
        "id": "oJJiyDMfXGTM",
        "colab": {
          "base_uri": "https://localhost:8080/"
        },
        "outputId": "b3c09b68-b795-408f-9dc3-d47b1b684ba7"
      },
      "outputs": [
        {
          "output_type": "stream",
          "name": "stdout",
          "text": [
            "[2. 4. 3. 1. 1. 2. 3. 1. 1. 1. 1. 1. 2. 2. 1. 2. 2. 3. 6. 1.]\n"
          ]
        }
      ],
      "source": [
        "Z = np.ones(20)\n",
        "I = np.random.randint(0,len(Z),20)\n",
        "Z += np.bincount(I, minlength=len(Z))\n",
        "print(Z)"
      ]
    },
    {
      "cell_type": "markdown",
      "metadata": {
        "id": "OUZz9NZlXGTN"
      },
      "source": [
        "#### 65. How to accumulate elements of a vector (X) to an array (F) based on an index list (I)? (★★★) \n",
        "(**hint**: np.bincount)"
      ]
    },
    {
      "cell_type": "code",
      "execution_count": 80,
      "metadata": {
        "id": "D40nU22-XGTN",
        "colab": {
          "base_uri": "https://localhost:8080/"
        },
        "outputId": "5b91c6c8-5d1a-436a-b75d-8044e1eb0e6c"
      },
      "outputs": [
        {
          "output_type": "stream",
          "name": "stdout",
          "text": [
            "[0. 1. 2. 6. 5. 4. 0. 0. 0. 3.]\n"
          ]
        }
      ],
      "source": [
        "X = [1,2,3,4,5,6]\n",
        "I = [1,2,9,5,4,3]\n",
        "F = np.bincount(I,X)\n",
        "print(F)"
      ]
    },
    {
      "cell_type": "markdown",
      "metadata": {
        "id": "_hAO9UJbXGTN"
      },
      "source": [
        "#### 66. Considering a (w,h,3) image of (dtype=ubyte), compute the number of unique colors (★★★) \n",
        "(**hint**: np.unique)"
      ]
    },
    {
      "cell_type": "code",
      "execution_count": 81,
      "metadata": {
        "id": "8cgykg_PXGTN",
        "colab": {
          "base_uri": "https://localhost:8080/"
        },
        "outputId": "c21380e6-6b02-4554-8512-d360770b0a16"
      },
      "outputs": [
        {
          "output_type": "stream",
          "name": "stdout",
          "text": [
            "64\n"
          ]
        }
      ],
      "source": [
        "w, h = 256, 256\n",
        "I = np.random.randint(0, 4, (w, h, 3)).astype(np.ubyte)\n",
        "colors = np.unique(I.reshape(-1, 3), axis=0)\n",
        "n = len(colors)\n",
        "print(n)"
      ]
    },
    {
      "cell_type": "markdown",
      "metadata": {
        "id": "S3zgwSmPXGTO"
      },
      "source": [
        "#### 67. Considering a four dimensions array, how to get sum over the last two axis at once? (★★★) \n",
        "(**hint**: sum(axis=(-2,-1)))"
      ]
    },
    {
      "cell_type": "code",
      "execution_count": 82,
      "metadata": {
        "id": "SbNAqyMZXGTO",
        "colab": {
          "base_uri": "https://localhost:8080/"
        },
        "outputId": "c2ceeb3c-f933-4252-a23d-ebe101ac7db0"
      },
      "outputs": [
        {
          "output_type": "stream",
          "name": "stdout",
          "text": [
            "[[ 84 107 109 141]\n",
            " [126 120 131 114]\n",
            " [116 125 146  93]]\n"
          ]
        }
      ],
      "source": [
        "A = np.random.randint(0,20,(3,4,3,4))\n",
        "sum = A.sum(axis=(-2,-1))\n",
        "print(sum)"
      ]
    },
    {
      "cell_type": "markdown",
      "metadata": {
        "id": "GnZki_XbXGTO"
      },
      "source": [
        "#### 68. Considering a one-dimensional vector D, how to compute means of subsets of D using a vector S of same size describing subset  indices? (★★★) \n",
        "(**hint**: np.bincount)"
      ]
    },
    {
      "cell_type": "code",
      "execution_count": 83,
      "metadata": {
        "id": "GwMvI88ZXGTO",
        "colab": {
          "base_uri": "https://localhost:8080/"
        },
        "outputId": "90823591-dd9b-43f8-985d-39704d16c617"
      },
      "outputs": [
        {
          "output_type": "stream",
          "name": "stdout",
          "text": [
            "[0.52283821 0.53519289 0.42200431 0.47859288 0.46672685 0.66487402\n",
            " 0.68027037 0.53867182 0.47997639 0.5596432 ]\n"
          ]
        }
      ],
      "source": [
        "D = np.random.uniform(0,1,100)\n",
        "S = np.random.randint(0,10,100)\n",
        "D_sums = np.bincount(S, weights=D)\n",
        "D_counts = np.bincount(S)\n",
        "D_means = D_sums / D_counts\n",
        "print(D_means)"
      ]
    },
    {
      "cell_type": "markdown",
      "metadata": {
        "id": "J7lRPJBRXGTP"
      },
      "source": [
        "#### 69. How to get the diagonal of a dot product? (★★★) \n",
        "(**hint**: np.diag)"
      ]
    },
    {
      "cell_type": "code",
      "execution_count": 84,
      "metadata": {
        "id": "LnoBOrbsXGTP",
        "colab": {
          "base_uri": "https://localhost:8080/"
        },
        "outputId": "d7b32eac-81e4-4c15-b519-78c22931a0b2"
      },
      "outputs": [
        {
          "output_type": "execute_result",
          "data": {
            "text/plain": [
              "array([1.8466146 , 1.26873909, 1.27043737, 1.97242142, 1.28119715,\n",
              "       2.07100681])"
            ]
          },
          "metadata": {},
          "execution_count": 84
        }
      ],
      "source": [
        "A = np.random.uniform(0,1,(6,6))\n",
        "B = np.random.uniform(0,1,(6,6))\n",
        "np.diag(np.dot(A, B))"
      ]
    },
    {
      "cell_type": "markdown",
      "metadata": {
        "id": "36y2x29_XGTP"
      },
      "source": [
        "#### 70. Consider the vector \\[1, 2, 3, 4, 5\\], how to build a new vector with 3 consecutive zeros interleaved between each value? (★★★) \n",
        "(**hint**: array\\[::4\\])"
      ]
    },
    {
      "cell_type": "code",
      "execution_count": 85,
      "metadata": {
        "id": "ZejTXNuEXGTP",
        "colab": {
          "base_uri": "https://localhost:8080/"
        },
        "outputId": "6adaad45-07c8-4a77-ae40-045fae912262"
      },
      "outputs": [
        {
          "output_type": "stream",
          "name": "stdout",
          "text": [
            "[1. 0. 0. 0. 2. 0. 0. 0. 3. 0. 0. 0. 4. 0. 0. 0. 5.]\n"
          ]
        }
      ],
      "source": [
        "Z = np.array([1,2,3,4,5])\n",
        "nv = 3\n",
        "Z0 = np.zeros(len(Z) + (len(Z)-1)*(nv))\n",
        "Z0[::nv+1] = Z\n",
        "print(Z0)"
      ]
    },
    {
      "cell_type": "markdown",
      "metadata": {
        "id": "HPHq09p5XGTP"
      },
      "source": [
        "#### 71. Consider an array of dimension (5,5,3), how to mulitply it by an array with dimensions (5,5)? (★★★) \n",
        "(**hint**: array\\[:, :, None\\])"
      ]
    },
    {
      "cell_type": "code",
      "execution_count": 86,
      "metadata": {
        "collapsed": true,
        "id": "y6ONdrINXGTQ",
        "colab": {
          "base_uri": "https://localhost:8080/"
        },
        "outputId": "37b79018-0116-47cf-9716-83fd6e00f534"
      },
      "outputs": [
        {
          "output_type": "stream",
          "name": "stdout",
          "text": [
            "[[[2. 2. 2.]\n",
            "  [2. 2. 2.]\n",
            "  [2. 2. 2.]\n",
            "  [2. 2. 2.]\n",
            "  [2. 2. 2.]]\n",
            "\n",
            " [[2. 2. 2.]\n",
            "  [2. 2. 2.]\n",
            "  [2. 2. 2.]\n",
            "  [2. 2. 2.]\n",
            "  [2. 2. 2.]]\n",
            "\n",
            " [[2. 2. 2.]\n",
            "  [2. 2. 2.]\n",
            "  [2. 2. 2.]\n",
            "  [2. 2. 2.]\n",
            "  [2. 2. 2.]]\n",
            "\n",
            " [[2. 2. 2.]\n",
            "  [2. 2. 2.]\n",
            "  [2. 2. 2.]\n",
            "  [2. 2. 2.]\n",
            "  [2. 2. 2.]]\n",
            "\n",
            " [[2. 2. 2.]\n",
            "  [2. 2. 2.]\n",
            "  [2. 2. 2.]\n",
            "  [2. 2. 2.]\n",
            "  [2. 2. 2.]]]\n"
          ]
        }
      ],
      "source": [
        "A = np.ones((5,5,3))\n",
        "B = 2*np.ones((5,5))\n",
        "print(A * B[:,:,None])"
      ]
    },
    {
      "cell_type": "markdown",
      "metadata": {
        "id": "x_7ynmveXGTQ"
      },
      "source": [
        "#### 72. How to swap two rows of an array? (★★★) \n",
        "(**hint**: array\\[\\[\\]\\] = array\\[\\[\\]\\])"
      ]
    },
    {
      "cell_type": "code",
      "execution_count": 91,
      "metadata": {
        "id": "27u7RKXvXGTQ",
        "colab": {
          "base_uri": "https://localhost:8080/"
        },
        "outputId": "8855e703-3e40-467e-83c8-f50036971705"
      },
      "outputs": [
        {
          "output_type": "stream",
          "name": "stdout",
          "text": [
            "[[ 5  6  7  8  9]\n",
            " [10 11 12 13 14]\n",
            " [15 16 17 18 19]\n",
            " [20 21 22 23 24]\n",
            " [25 26 27 28 29]]\n",
            "[[ 5  6  7  8  9]\n",
            " [15 16 17 18 19]\n",
            " [10 11 12 13 14]\n",
            " [20 21 22 23 24]\n",
            " [25 26 27 28 29]]\n"
          ]
        }
      ],
      "source": [
        "arr = np.arange(5,30).reshape(5,5)\n",
        "print(arr)\n",
        "arr[[1,2]] = arr[[2,1]]\n",
        "print(arr)"
      ]
    },
    {
      "cell_type": "markdown",
      "metadata": {
        "id": "lTKWQhgnXGTQ"
      },
      "source": [
        "#### 73. Consider a set of 10 triplets describing 10 triangles (with shared vertices), find the set of unique line segments composing all the  triangles (★★★) \n",
        "(**hint**: repeat, np.roll, np.sort, view, np.unique)"
      ]
    },
    {
      "cell_type": "code",
      "execution_count": 93,
      "metadata": {
        "id": "Qvh1iPAzXGTQ",
        "colab": {
          "base_uri": "https://localhost:8080/"
        },
        "outputId": "c2691bf4-fd1e-45a5-97bf-1dae7a16c635"
      },
      "outputs": [
        {
          "output_type": "stream",
          "name": "stdout",
          "text": [
            "[( 2, 31) ( 2, 99) ( 8, 28) ( 8, 33) (11, 47) (11, 53) (13, 43) (13, 95)\n",
            " (16, 32) (16, 43) (16, 45) (16, 63) (20, 37) (20, 96) (28, 33) (31, 99)\n",
            " (32, 63) (37, 96) (40, 42) (40, 94) (42, 94) (43, 45) (43, 95) (45, 63)\n",
            " (45, 98) (47, 53) (54, 75) (54, 94) (63, 98) (75, 94)]\n"
          ]
        }
      ],
      "source": [
        "Req = np.random.randint(0,100,(10,3))\n",
        "F = np.roll(Req.repeat(2,axis=1),-1,axis=1)\n",
        "F = F.reshape(len(F)*3,2)\n",
        "F = np.sort(F,axis=1)\n",
        "G = F.view( dtype=[('p0',F.dtype),('p1',F.dtype)] )\n",
        "G = np.unique(G)\n",
        "print(G)"
      ]
    },
    {
      "cell_type": "markdown",
      "metadata": {
        "id": "uKcAlrKPXGTR"
      },
      "source": [
        "#### 74. Given an array C that is a bincount, how to produce an array A such that np.bincount(A) == C? (★★★) \n",
        "(**hint**: np.repeat)"
      ]
    },
    {
      "cell_type": "code",
      "execution_count": 94,
      "metadata": {
        "id": "FeU_OhI9XGTR",
        "colab": {
          "base_uri": "https://localhost:8080/"
        },
        "outputId": "697f19fa-f2d3-4afe-8496-80aa7f038056"
      },
      "outputs": [
        {
          "output_type": "stream",
          "name": "stdout",
          "text": [
            "[1 1 2 3 4 4 6]\n"
          ]
        }
      ],
      "source": [
        "C = np.bincount([1,1,2,3,4,4,6])\n",
        "A = np.repeat(np.arange(len(C)), C)\n",
        "print(A)"
      ]
    },
    {
      "cell_type": "markdown",
      "metadata": {
        "id": "S2lHKLt3XGTR"
      },
      "source": [
        "#### 75. How to compute averages using a sliding window over an array? (★★★) \n",
        "(**hint**: np.cumsum)"
      ]
    },
    {
      "cell_type": "code",
      "execution_count": null,
      "metadata": {
        "id": "44xIwinxXGTS"
      },
      "outputs": [],
      "source": []
    },
    {
      "cell_type": "markdown",
      "metadata": {
        "id": "fr50tATMXGTS"
      },
      "source": [
        "#### 76. Consider a one-dimensional array Z, build a two-dimensional array whose first row is (Z\\[0\\],Z\\[1\\],Z\\[2\\]) and each subsequent row is  shifted by 1 (last row should be (Z\\[-3\\],Z\\[-2\\],Z\\[-1\\]) (★★★) \n",
        "(**hint**: from numpy.lib import stride_tricks)"
      ]
    },
    {
      "cell_type": "code",
      "execution_count": 95,
      "metadata": {
        "id": "AA-UPAAdXGTS",
        "colab": {
          "base_uri": "https://localhost:8080/"
        },
        "outputId": "c04bffad-e639-4fa6-dc06-ee0eb8fa529f"
      },
      "outputs": [
        {
          "output_type": "stream",
          "name": "stdout",
          "text": [
            "[[0 1 2]\n",
            " [1 2 3]\n",
            " [2 3 4]\n",
            " [3 4 5]\n",
            " [4 5 6]\n",
            " [5 6 7]\n",
            " [6 7 8]\n",
            " [7 8 9]]\n"
          ]
        }
      ],
      "source": [
        "from numpy.lib import stride_tricks\n",
        "\n",
        "def rolling(a, window):\n",
        "    shape = (a.size - window + 1, window)\n",
        "    strides = (a.strides[0], a.strides[0])\n",
        "    return stride_tricks.as_strided(a, shape=shape, strides=strides)\n",
        "Z = rolling(np.arange(10), 3)\n",
        "print(Z)"
      ]
    },
    {
      "cell_type": "markdown",
      "metadata": {
        "id": "TizLOpE4XGTS"
      },
      "source": [
        "#### 77. How to negate a boolean, or to change the sign of a float inplace? (★★★) \n",
        "(**hint**: np.logical_not, np.negative)"
      ]
    },
    {
      "cell_type": "code",
      "execution_count": 96,
      "metadata": {
        "id": "XIR8-s2JXGTS",
        "colab": {
          "base_uri": "https://localhost:8080/"
        },
        "outputId": "aaa7596f-ea2c-46b1-8b8b-7bba413096c1"
      },
      "outputs": [
        {
          "output_type": "execute_result",
          "data": {
            "text/plain": [
              "array([ 5.88470454e-01, -3.15125281e-01,  4.58934354e-01,  9.28608387e-01,\n",
              "        8.23841341e-01, -9.79122299e-01, -1.37057578e-01,  7.15960905e-01,\n",
              "       -4.80497003e-01,  8.45010740e-01, -8.83127716e-01,  8.14006894e-01,\n",
              "       -6.10556218e-04, -8.51408942e-01, -5.95845843e-01, -8.92203009e-01,\n",
              "        1.53442299e-02, -5.38201398e-01, -5.98710713e-01, -5.90803928e-01,\n",
              "        3.43260122e-01, -3.74002869e-01, -8.73777673e-01,  4.75127390e-01,\n",
              "       -7.13139477e-01,  9.66486609e-01,  4.35139596e-01,  2.55337403e-01,\n",
              "        9.51367138e-01, -2.86487428e-01, -3.58810257e-01,  1.19711043e-02,\n",
              "        9.35198982e-01, -7.97312679e-01, -6.77423588e-01,  3.82481154e-01,\n",
              "        6.41237608e-01, -5.97429773e-01, -4.04932218e-01,  6.68115795e-03,\n",
              "        4.26918719e-01,  5.93113451e-01, -4.48001764e-01,  5.19967812e-01,\n",
              "        7.38590252e-01,  9.50397706e-01, -7.44926961e-01,  8.66465614e-01,\n",
              "        2.09070341e-01, -9.75968581e-01,  3.33688747e-01,  5.95221090e-01,\n",
              "        5.68303279e-01,  9.91215743e-01, -5.82791138e-01,  2.18663123e-01,\n",
              "       -6.51247654e-01,  7.12137865e-01,  6.47671166e-01, -4.23268904e-02,\n",
              "        5.58081017e-01, -8.42714144e-01, -6.21277011e-01, -5.83375092e-01,\n",
              "        6.48141673e-01, -6.68130224e-01, -2.00156289e-01, -1.73927360e-01,\n",
              "        5.30329286e-01,  6.35689968e-01, -5.78612829e-03,  5.68069412e-01,\n",
              "       -5.30789513e-01, -4.85178699e-01,  8.16391052e-01, -9.10057132e-01,\n",
              "       -7.60163307e-01,  6.95551994e-01, -4.92234238e-02, -7.54542824e-01,\n",
              "        2.97998183e-01, -8.73127034e-01,  3.23850258e-01, -9.81456091e-01,\n",
              "        6.29804219e-01,  4.80869463e-01, -6.24040877e-01, -8.85485808e-01,\n",
              "       -6.75064220e-01, -1.35351885e-01, -7.51893572e-01, -6.87774463e-01,\n",
              "        5.20212464e-01, -6.35329978e-01,  8.11347038e-01,  6.85650009e-01,\n",
              "       -6.08537330e-02,  9.96585760e-01,  5.25694971e-01,  4.73365383e-02])"
            ]
          },
          "metadata": {},
          "execution_count": 96
        }
      ],
      "source": [
        "A = np.random.randint(0,2,100)\n",
        "np.logical_not(A, out=A)\n",
        "\n",
        "A = np.random.uniform(-1.0,1.0,100)\n",
        "np.negative(A, out=A)"
      ]
    },
    {
      "cell_type": "markdown",
      "metadata": {
        "id": "XKL5M5mlXGTT"
      },
      "source": [
        "#### 78. Consider 2 sets of points P0,P1 describing lines (2d) and a point p, how to compute distance from p to each line i  (P0\\[i\\],P1\\[i\\])? (★★★)"
      ]
    },
    {
      "cell_type": "code",
      "execution_count": 98,
      "metadata": {
        "id": "MJLWfvmnXGTT",
        "colab": {
          "base_uri": "https://localhost:8080/"
        },
        "outputId": "cd4d4da1-2912-4249-e735-fa7063a7eec3"
      },
      "outputs": [
        {
          "output_type": "stream",
          "name": "stdout",
          "text": [
            "[12.52294875  1.3379809   2.86861349  3.95953551  3.04846689  6.8299511\n",
            "  6.40797977  7.62844216 14.22450664 14.09664295]\n"
          ]
        }
      ],
      "source": [
        "def distance(P0, P1, p):\n",
        "    T = P1 - P0\n",
        "    L = (T**2).sum(axis=1)\n",
        "    U = -((P0[:,0]-p[...,0])*T[:,0] + (P0[:,1]-p[...,1])*T[:,1]) / L\n",
        "    U = U.reshape(len(U),1)\n",
        "    D = P0 + U*T - p\n",
        "    return np.sqrt((D**2).sum(axis=1))\n",
        "\n",
        "P0 = np.random.uniform(-10,10,(10,2))\n",
        "P1 = np.random.uniform(-10,10,(10,2))\n",
        "p  = np.random.uniform(-10,10,( 1,2))\n",
        "print(distance(P0, P1, p))"
      ]
    },
    {
      "cell_type": "markdown",
      "metadata": {
        "id": "3eaicNACXGTT"
      },
      "source": [
        "#### 79. Consider 2 sets of points P0,P1 describing lines (2d) and a set of points P, how to compute distance from each point j (P\\[j\\]) to each line i (P0\\[i\\],P1\\[i\\])? (★★★)"
      ]
    },
    {
      "cell_type": "code",
      "execution_count": 99,
      "metadata": {
        "id": "1tQ-d-7IXGTT",
        "colab": {
          "base_uri": "https://localhost:8080/"
        },
        "outputId": "40a31c58-e9a4-48af-dea1-2a48638a417f"
      },
      "outputs": [
        {
          "output_type": "stream",
          "name": "stdout",
          "text": [
            "[[1.78116933e+00 3.51161475e+00 3.72894067e+00 2.82843687e+00\n",
            "  1.00276323e+01 3.43947990e+00 6.08849058e+00 1.07453337e+01\n",
            "  1.23557478e+01 1.03840250e+00]\n",
            " [9.09547563e+00 7.19901113e+00 3.06242631e-01 1.84976485e+00\n",
            "  7.73758712e-01 1.21294347e+01 2.67076563e+00 5.68400311e+00\n",
            "  2.56928668e+00 6.01806680e+00]\n",
            " [6.43478433e-01 2.94715540e+00 1.56325136e+00 4.50705862e-01\n",
            "  7.44057096e+00 4.49375407e+00 3.92368902e+00 8.30802571e+00\n",
            "  9.52485617e+00 1.66151355e+00]\n",
            " [6.13298403e+00 5.53869668e+00 5.74838399e-01 1.20710924e+00\n",
            "  2.08345668e+00 9.34480747e+00 2.93790237e+00 6.44323356e+00\n",
            "  4.92765624e+00 4.62923544e+00]\n",
            " [4.64506046e+00 2.50844257e+00 6.58793983e+00 7.82907797e+00\n",
            "  2.58625051e+00 3.35276368e+00 4.22675772e+00 1.42042747e-02\n",
            "  2.73424972e+00 9.79437203e+00]\n",
            " [1.37865327e+01 1.24583989e+01 2.54202438e+00 3.34998975e-01\n",
            "  4.95816620e+00 1.82138486e+01 4.90927672e+00 6.96516960e+00\n",
            "  6.66005107e-02 6.07943194e+00]\n",
            " [9.36469777e+00 4.57295561e+00 1.17805928e+01 1.33872209e+01\n",
            "  2.57434815e+00 4.78991829e+00 9.41783655e+00 5.64191325e+00\n",
            "  3.22841866e+00 1.58347791e+01]\n",
            " [1.89240740e+01 4.48268203e+00 8.90587579e+00 1.19004669e+01\n",
            "  1.13160646e+01 1.61303625e+01 6.53782241e+00 4.60022286e+00\n",
            "  9.10660479e+00 1.73105458e+01]\n",
            " [3.88712933e+00 8.81071665e-01 2.66027631e+00 3.99234351e+00\n",
            "  3.81021483e+00 5.06931272e+00 2.98859868e-01 3.80969976e+00\n",
            "  5.12382637e+00 6.33891850e+00]\n",
            " [9.94005469e+00 1.40564384e+01 6.68849089e+00 4.11347557e+00\n",
            "  7.63231610e-01 1.69887480e+01 9.05444682e+00 1.14950677e+01\n",
            "  4.88655845e+00 1.22523484e+00]]\n"
          ]
        }
      ],
      "source": [
        "P0 = np.random.uniform(-10, 10, (10,2))\n",
        "P1 = np.random.uniform(-10,10,(10,2))\n",
        "p = np.random.uniform(-10, 10, (10,2))\n",
        "print(np.array([distance(P0,P1,p_i) for p_i in p]))"
      ]
    },
    {
      "cell_type": "markdown",
      "metadata": {
        "id": "dpR9QyBsXGTU"
      },
      "source": [
        "#### 80. Consider an arbitrary array, write a function that extract a subpart with a fixed shape and centered on a given element (pad with a `fill` value when necessary) (★★★) \n",
        "(**hint**: minimum, maximum)"
      ]
    },
    {
      "cell_type": "code",
      "execution_count": null,
      "metadata": {
        "id": "rpW3C1dGXGTU"
      },
      "outputs": [],
      "source": []
    },
    {
      "cell_type": "markdown",
      "metadata": {
        "id": "Gd7qoLsjXGTU"
      },
      "source": [
        "#### 81. Consider an array Z = \\[1,2,3,4,5,6,7,8,9,10,11,12,13,14\\], how to generate an array R = \\[\\[1,2,3,4\\], \\[2,3,4,5\\], \\[3,4,5,6\\], ..., \\[11,12,13,14\\]\\]? (★★★) \n",
        "(**hint**: stride\\_tricks.as\\_strided)"
      ]
    },
    {
      "cell_type": "code",
      "execution_count": 101,
      "metadata": {
        "id": "mvDY5bNFXGTV",
        "colab": {
          "base_uri": "https://localhost:8080/"
        },
        "outputId": "ab3947f4-1fc1-42be-9c79-4c58c6062298"
      },
      "outputs": [
        {
          "output_type": "stream",
          "name": "stdout",
          "text": [
            "[[ 1  2  3  4]\n",
            " [ 2  3  4  5]\n",
            " [ 3  4  5  6]\n",
            " [ 4  5  6  7]\n",
            " [ 5  6  7  8]\n",
            " [ 6  7  8  9]\n",
            " [ 7  8  9 10]\n",
            " [ 8  9 10 11]\n",
            " [ 9 10 11 12]\n",
            " [10 11 12 13]\n",
            " [11 12 13 14]]\n"
          ]
        }
      ],
      "source": [
        "A = np.arange(1,15,dtype=np.uint32)\n",
        "R = stride_tricks.as_strided(A,(11,4),(4,4))\n",
        "print(R)"
      ]
    },
    {
      "cell_type": "markdown",
      "metadata": {
        "id": "2K5Rk-hWXGTV"
      },
      "source": [
        "#### 82. Compute a matrix rank (★★★) \n",
        "(**hint**: np.linalg.svd) (suggestion: np.linalg.svd)"
      ]
    },
    {
      "cell_type": "code",
      "execution_count": 103,
      "metadata": {
        "id": "AqUI93huXGTV",
        "colab": {
          "base_uri": "https://localhost:8080/"
        },
        "outputId": "f385a838-5bde-497a-dba7-d5910ad2395f"
      },
      "outputs": [
        {
          "output_type": "stream",
          "name": "stdout",
          "text": [
            "10\n"
          ]
        }
      ],
      "source": [
        "A = np.random.uniform(0,1,(10,10))\n",
        "U, S, V = np.linalg.svd(A) \n",
        "rank = np.sum(S > 1e-10)\n",
        "print(rank)"
      ]
    },
    {
      "cell_type": "markdown",
      "metadata": {
        "id": "dGK89xOgXGTV"
      },
      "source": [
        "#### 83. How to find the most frequent value in an array? \n",
        "(**hint**: np.bincount, argmax)"
      ]
    },
    {
      "cell_type": "code",
      "execution_count": 104,
      "metadata": {
        "id": "1dhkDgaeXGTV",
        "colab": {
          "base_uri": "https://localhost:8080/"
        },
        "outputId": "402282e7-385b-40db-a187-f654699e9b40"
      },
      "outputs": [
        {
          "output_type": "stream",
          "name": "stdout",
          "text": [
            "[ 0 11  6  2  6 11 17 12 15 15  6 13  8  2  5 19 13  7 18  2  7 19 14 13\n",
            "  5 11  7 10 14 12  8  5 16  9 14  7 19 16 17  6]\n",
            "6\n"
          ]
        }
      ],
      "source": [
        "Z = np.random.randint(0,20,40)\n",
        "print(Z)\n",
        "print(np.bincount(Z).argmax())"
      ]
    },
    {
      "cell_type": "markdown",
      "metadata": {
        "id": "LoROrKZVXGTW"
      },
      "source": [
        "#### 84. Extract all the contiguous 3x3 blocks from a random 10x10 matrix (★★★) \n",
        "(**hint**: stride\\_tricks.as\\_strided)"
      ]
    },
    {
      "cell_type": "code",
      "execution_count": 106,
      "metadata": {
        "id": "dr9VHkEkXGTW",
        "colab": {
          "base_uri": "https://localhost:8080/"
        },
        "outputId": "bd71d0e3-a02f-4813-da98-67af6e26743d"
      },
      "outputs": [
        {
          "output_type": "stream",
          "name": "stdout",
          "text": [
            "[[[[3 0 4]\n",
            "   [3 2 2]\n",
            "   [1 2 4]]\n",
            "\n",
            "  [[0 4 4]\n",
            "   [2 2 2]\n",
            "   [2 4 0]]\n",
            "\n",
            "  [[4 4 4]\n",
            "   [2 2 4]\n",
            "   [4 0 1]]\n",
            "\n",
            "  [[4 4 3]\n",
            "   [2 4 2]\n",
            "   [0 1 1]]\n",
            "\n",
            "  [[4 3 4]\n",
            "   [4 2 0]\n",
            "   [1 1 4]]\n",
            "\n",
            "  [[3 4 1]\n",
            "   [2 0 2]\n",
            "   [1 4 3]]\n",
            "\n",
            "  [[4 1 3]\n",
            "   [0 2 0]\n",
            "   [4 3 3]]\n",
            "\n",
            "  [[1 3 2]\n",
            "   [2 0 0]\n",
            "   [3 3 1]]]\n",
            "\n",
            "\n",
            " [[[3 2 2]\n",
            "   [1 2 4]\n",
            "   [4 0 2]]\n",
            "\n",
            "  [[2 2 2]\n",
            "   [2 4 0]\n",
            "   [0 2 4]]\n",
            "\n",
            "  [[2 2 4]\n",
            "   [4 0 1]\n",
            "   [2 4 4]]\n",
            "\n",
            "  [[2 4 2]\n",
            "   [0 1 1]\n",
            "   [4 4 1]]\n",
            "\n",
            "  [[4 2 0]\n",
            "   [1 1 4]\n",
            "   [4 1 4]]\n",
            "\n",
            "  [[2 0 2]\n",
            "   [1 4 3]\n",
            "   [1 4 3]]\n",
            "\n",
            "  [[0 2 0]\n",
            "   [4 3 3]\n",
            "   [4 3 0]]\n",
            "\n",
            "  [[2 0 0]\n",
            "   [3 3 1]\n",
            "   [3 0 2]]]\n",
            "\n",
            "\n",
            " [[[1 2 4]\n",
            "   [4 0 2]\n",
            "   [1 1 1]]\n",
            "\n",
            "  [[2 4 0]\n",
            "   [0 2 4]\n",
            "   [1 1 2]]\n",
            "\n",
            "  [[4 0 1]\n",
            "   [2 4 4]\n",
            "   [1 2 3]]\n",
            "\n",
            "  [[0 1 1]\n",
            "   [4 4 1]\n",
            "   [2 3 0]]\n",
            "\n",
            "  [[1 1 4]\n",
            "   [4 1 4]\n",
            "   [3 0 1]]\n",
            "\n",
            "  [[1 4 3]\n",
            "   [1 4 3]\n",
            "   [0 1 4]]\n",
            "\n",
            "  [[4 3 3]\n",
            "   [4 3 0]\n",
            "   [1 4 2]]\n",
            "\n",
            "  [[3 3 1]\n",
            "   [3 0 2]\n",
            "   [4 2 0]]]\n",
            "\n",
            "\n",
            " [[[4 0 2]\n",
            "   [1 1 1]\n",
            "   [2 1 4]]\n",
            "\n",
            "  [[0 2 4]\n",
            "   [1 1 2]\n",
            "   [1 4 1]]\n",
            "\n",
            "  [[2 4 4]\n",
            "   [1 2 3]\n",
            "   [4 1 0]]\n",
            "\n",
            "  [[4 4 1]\n",
            "   [2 3 0]\n",
            "   [1 0 4]]\n",
            "\n",
            "  [[4 1 4]\n",
            "   [3 0 1]\n",
            "   [0 4 3]]\n",
            "\n",
            "  [[1 4 3]\n",
            "   [0 1 4]\n",
            "   [4 3 1]]\n",
            "\n",
            "  [[4 3 0]\n",
            "   [1 4 2]\n",
            "   [3 1 2]]\n",
            "\n",
            "  [[3 0 2]\n",
            "   [4 2 0]\n",
            "   [1 2 0]]]\n",
            "\n",
            "\n",
            " [[[1 1 1]\n",
            "   [2 1 4]\n",
            "   [1 2 1]]\n",
            "\n",
            "  [[1 1 2]\n",
            "   [1 4 1]\n",
            "   [2 1 0]]\n",
            "\n",
            "  [[1 2 3]\n",
            "   [4 1 0]\n",
            "   [1 0 2]]\n",
            "\n",
            "  [[2 3 0]\n",
            "   [1 0 4]\n",
            "   [0 2 1]]\n",
            "\n",
            "  [[3 0 1]\n",
            "   [0 4 3]\n",
            "   [2 1 2]]\n",
            "\n",
            "  [[0 1 4]\n",
            "   [4 3 1]\n",
            "   [1 2 0]]\n",
            "\n",
            "  [[1 4 2]\n",
            "   [3 1 2]\n",
            "   [2 0 3]]\n",
            "\n",
            "  [[4 2 0]\n",
            "   [1 2 0]\n",
            "   [0 3 4]]]\n",
            "\n",
            "\n",
            " [[[2 1 4]\n",
            "   [1 2 1]\n",
            "   [1 2 0]]\n",
            "\n",
            "  [[1 4 1]\n",
            "   [2 1 0]\n",
            "   [2 0 0]]\n",
            "\n",
            "  [[4 1 0]\n",
            "   [1 0 2]\n",
            "   [0 0 1]]\n",
            "\n",
            "  [[1 0 4]\n",
            "   [0 2 1]\n",
            "   [0 1 4]]\n",
            "\n",
            "  [[0 4 3]\n",
            "   [2 1 2]\n",
            "   [1 4 1]]\n",
            "\n",
            "  [[4 3 1]\n",
            "   [1 2 0]\n",
            "   [4 1 3]]\n",
            "\n",
            "  [[3 1 2]\n",
            "   [2 0 3]\n",
            "   [1 3 0]]\n",
            "\n",
            "  [[1 2 0]\n",
            "   [0 3 4]\n",
            "   [3 0 2]]]\n",
            "\n",
            "\n",
            " [[[1 2 1]\n",
            "   [1 2 0]\n",
            "   [2 4 1]]\n",
            "\n",
            "  [[2 1 0]\n",
            "   [2 0 0]\n",
            "   [4 1 2]]\n",
            "\n",
            "  [[1 0 2]\n",
            "   [0 0 1]\n",
            "   [1 2 0]]\n",
            "\n",
            "  [[0 2 1]\n",
            "   [0 1 4]\n",
            "   [2 0 2]]\n",
            "\n",
            "  [[2 1 2]\n",
            "   [1 4 1]\n",
            "   [0 2 2]]\n",
            "\n",
            "  [[1 2 0]\n",
            "   [4 1 3]\n",
            "   [2 2 4]]\n",
            "\n",
            "  [[2 0 3]\n",
            "   [1 3 0]\n",
            "   [2 4 0]]\n",
            "\n",
            "  [[0 3 4]\n",
            "   [3 0 2]\n",
            "   [4 0 4]]]\n",
            "\n",
            "\n",
            " [[[1 2 0]\n",
            "   [2 4 1]\n",
            "   [0 2 0]]\n",
            "\n",
            "  [[2 0 0]\n",
            "   [4 1 2]\n",
            "   [2 0 2]]\n",
            "\n",
            "  [[0 0 1]\n",
            "   [1 2 0]\n",
            "   [0 2 3]]\n",
            "\n",
            "  [[0 1 4]\n",
            "   [2 0 2]\n",
            "   [2 3 4]]\n",
            "\n",
            "  [[1 4 1]\n",
            "   [0 2 2]\n",
            "   [3 4 0]]\n",
            "\n",
            "  [[4 1 3]\n",
            "   [2 2 4]\n",
            "   [4 0 4]]\n",
            "\n",
            "  [[1 3 0]\n",
            "   [2 4 0]\n",
            "   [0 4 0]]\n",
            "\n",
            "  [[3 0 2]\n",
            "   [4 0 4]\n",
            "   [4 0 2]]]]\n"
          ]
        }
      ],
      "source": [
        "a = np.random.randint(0,5,(10,10))\n",
        "n = 3\n",
        "i = 1 + (a.shape[0]-3)\n",
        "j = 1 + (a.shape[1]-3)\n",
        "C = stride_tricks.as_strided(a, shape=(i, j, n, n), strides=a.strides + a.strides)\n",
        "print(C)"
      ]
    },
    {
      "cell_type": "markdown",
      "metadata": {
        "id": "69bPy42gXGTW"
      },
      "source": [
        "#### 85. Create a 2D array subclass such that Z\\[i,j\\] == Z\\[j,i\\] (★★★) \n",
        "(**hint**: class method)"
      ]
    },
    {
      "cell_type": "code",
      "execution_count": null,
      "metadata": {
        "id": "OLNZrw0JXGTW"
      },
      "outputs": [],
      "source": []
    },
    {
      "cell_type": "markdown",
      "metadata": {
        "id": "PioluYCAXGTX"
      },
      "source": [
        "#### 86. Consider a set of p matrices wich shape (n,n) and a set of p vectors with shape (n,1). How to compute the sum of of the p matrix products at once? (result has shape (n,1)) (★★★) \n",
        "(**hint**: np.tensordot)"
      ]
    },
    {
      "cell_type": "code",
      "execution_count": 112,
      "metadata": {
        "id": "6KcVqfSRXGTX",
        "colab": {
          "base_uri": "https://localhost:8080/"
        },
        "outputId": "ef6d5e03-054b-4729-bb3e-1f9b9de73394"
      },
      "outputs": [
        {
          "output_type": "stream",
          "name": "stdout",
          "text": [
            "[[600.]\n",
            " [600.]\n",
            " [600.]\n",
            " [600.]\n",
            " [600.]\n",
            " [600.]\n",
            " [600.]\n",
            " [600.]\n",
            " [600.]\n",
            " [600.]\n",
            " [600.]\n",
            " [600.]\n",
            " [600.]\n",
            " [600.]\n",
            " [600.]\n",
            " [600.]\n",
            " [600.]\n",
            " [600.]\n",
            " [600.]\n",
            " [600.]\n",
            " [600.]\n",
            " [600.]\n",
            " [600.]\n",
            " [600.]\n",
            " [600.]\n",
            " [600.]\n",
            " [600.]\n",
            " [600.]\n",
            " [600.]\n",
            " [600.]]\n"
          ]
        }
      ],
      "source": [
        "p, n = 20, 30\n",
        "M = np.ones((p,n,n))\n",
        "V = np.ones((p,n,1))\n",
        "S = np.tensordot(M, V, axes=[[0, 2], [0, 1]])\n",
        "print(S)"
      ]
    },
    {
      "cell_type": "markdown",
      "metadata": {
        "id": "MYxcdbwsXGTX"
      },
      "source": [
        "#### 87. Consider a 16x16 array, how to get the block-sum (block size is 4x4)? (★★★) \n",
        "(**hint**: np.add.reduceat)"
      ]
    },
    {
      "cell_type": "code",
      "execution_count": 113,
      "metadata": {
        "id": "62XvaQPfXGTX",
        "colab": {
          "base_uri": "https://localhost:8080/"
        },
        "outputId": "722bf2c8-882c-43ee-cfc9-1ecedc58f8a8"
      },
      "outputs": [
        {
          "output_type": "stream",
          "name": "stdout",
          "text": [
            "[[16. 16. 16. 16.]\n",
            " [16. 16. 16. 16.]\n",
            " [16. 16. 16. 16.]\n",
            " [16. 16. 16. 16.]]\n"
          ]
        }
      ],
      "source": [
        "Z = np.ones((16,16))\n",
        "k = 4\n",
        "S = np.add.reduceat(np.add.reduceat(Z, np.arange(0, Z.shape[0], k), axis=0),\n",
        "                                       np.arange(0, Z.shape[1], k), axis=1)\n",
        "print(S)"
      ]
    },
    {
      "cell_type": "markdown",
      "metadata": {
        "id": "8KfBASNWXGTX"
      },
      "source": [
        "#### 88. How to implement the Game of Life using numpy arrays? (★★★)"
      ]
    },
    {
      "cell_type": "code",
      "execution_count": null,
      "metadata": {
        "id": "sutb-kB3XGTX"
      },
      "outputs": [],
      "source": []
    },
    {
      "cell_type": "markdown",
      "metadata": {
        "id": "M7DGsA41XGTX"
      },
      "source": [
        "#### 89. How to get the n largest values of an array (★★★) \n",
        "(**hint**: np.argsort | np.argpartition)"
      ]
    },
    {
      "cell_type": "code",
      "execution_count": 115,
      "metadata": {
        "id": "WINUQfK5XGTY",
        "colab": {
          "base_uri": "https://localhost:8080/"
        },
        "outputId": "b978fe97-4940-4e54-d895-dce72ea2ed2d"
      },
      "outputs": [
        {
          "output_type": "stream",
          "name": "stdout",
          "text": [
            "[96 97 98 99]\n",
            "[99 98 97 96]\n"
          ]
        }
      ],
      "source": [
        "A = np.arange(100)\n",
        "np.random.shuffle(A)\n",
        "n = 4\n",
        "print (A[np.argsort(A)[-n:]])\n",
        "print (A[np.argpartition(-A,n)[:n]])"
      ]
    },
    {
      "cell_type": "markdown",
      "metadata": {
        "id": "lTlAGPY9XGTY"
      },
      "source": [
        "#### 90. Given an arbitrary number of vectors, build the cartesian product (every combinations of every item) (★★★) \n",
        "(**hint**: np.indices)"
      ]
    },
    {
      "cell_type": "code",
      "execution_count": 116,
      "metadata": {
        "scrolled": true,
        "id": "c_kto18EXGTY",
        "colab": {
          "base_uri": "https://localhost:8080/"
        },
        "outputId": "71fd50dd-d5dd-406f-baed-c19a5855ddbe"
      },
      "outputs": [
        {
          "output_type": "stream",
          "name": "stdout",
          "text": [
            "[[1 4 6]\n",
            " [1 4 7]\n",
            " [1 5 6]\n",
            " [1 5 7]\n",
            " [2 4 6]\n",
            " [2 4 7]\n",
            " [2 5 6]\n",
            " [2 5 7]\n",
            " [3 4 6]\n",
            " [3 4 7]\n",
            " [3 5 6]\n",
            " [3 5 7]]\n"
          ]
        }
      ],
      "source": [
        "def cartesian(arrays):\n",
        "    arrays = [np.asarray(a) for a in arrays]\n",
        "    shape = (len(x) for x in arrays)\n",
        "\n",
        "    ix = np.indices(shape, dtype=int)\n",
        "    ix = ix.reshape(len(arrays), -1).T\n",
        "\n",
        "    for n, arr in enumerate(arrays):\n",
        "        ix[:, n] = arrays[n][ix[:, n]]\n",
        "\n",
        "    return ix\n",
        "\n",
        "print (cartesian(([1, 2, 3], [4, 5], [6, 7])))"
      ]
    },
    {
      "cell_type": "markdown",
      "metadata": {
        "id": "DRcFiiJ1XGTY"
      },
      "source": [
        "#### 91. How to create a record array from a regular array? (★★★) \n",
        "(**hint**: np.core.records.fromarrays)"
      ]
    },
    {
      "cell_type": "code",
      "execution_count": 118,
      "metadata": {
        "id": "o82l1sk-XGTZ",
        "colab": {
          "base_uri": "https://localhost:8080/"
        },
        "outputId": "c2030ed3-82f1-4e71-f29f-1487427e980c"
      },
      "outputs": [
        {
          "output_type": "stream",
          "name": "stdout",
          "text": [
            "[(b'Hello', 2.5, 3) (b'World', 3.6, 2)]\n"
          ]
        }
      ],
      "source": [
        "A = np.array([(\"Hello\", 2.5, 3),\n",
        "              (\"World\", 3.6, 2)])\n",
        "B = np.core.records.fromarrays(A.T,\n",
        "                               names='col1, col2, col3',\n",
        "                               formats = 'S8, f8, i8')\n",
        "print(B)"
      ]
    },
    {
      "cell_type": "markdown",
      "metadata": {
        "id": "fc_m4RNZXGTZ"
      },
      "source": [
        "#### 92. Consider a large vector Z, compute Z to the power of 3 using 3 different methods (★★★) \n",
        "(**hint**: np.power, \\*, np.einsum)"
      ]
    },
    {
      "cell_type": "code",
      "execution_count": 126,
      "metadata": {
        "id": "D_8R1sB5XGTZ",
        "colab": {
          "base_uri": "https://localhost:8080/",
          "height": 450
        },
        "outputId": "22dc2f44-3cca-4485-fbda-2f510bac9c18"
      },
      "outputs": [
        {
          "output_type": "stream",
          "name": "stdout",
          "text": [
            "719 ns ± 9.33 ns per loop (mean ± std. dev. of 7 runs, 1000000 loops each)\n",
            "709 ns ± 186 ns per loop (mean ± std. dev. of 7 runs, 1000000 loops each)\n"
          ]
        },
        {
          "output_type": "error",
          "ename": "ValueError",
          "evalue": "ignored",
          "traceback": [
            "\u001b[0;31m---------------------------------------------------------------------------\u001b[0m",
            "\u001b[0;31mValueError\u001b[0m                                Traceback (most recent call last)",
            "\u001b[0;32m<ipython-input-126-3ee784902fd3>\u001b[0m in \u001b[0;36m<module>\u001b[0;34m\u001b[0m\n\u001b[1;32m      3\u001b[0m \u001b[0mget_ipython\u001b[0m\u001b[0;34m(\u001b[0m\u001b[0;34m)\u001b[0m\u001b[0;34m.\u001b[0m\u001b[0mrun_line_magic\u001b[0m\u001b[0;34m(\u001b[0m\u001b[0;34m'timeit'\u001b[0m\u001b[0;34m,\u001b[0m \u001b[0;34m'np.power(x,3)'\u001b[0m\u001b[0;34m)\u001b[0m\u001b[0;34m\u001b[0m\u001b[0;34m\u001b[0m\u001b[0m\n\u001b[1;32m      4\u001b[0m \u001b[0mget_ipython\u001b[0m\u001b[0;34m(\u001b[0m\u001b[0;34m)\u001b[0m\u001b[0;34m.\u001b[0m\u001b[0mrun_line_magic\u001b[0m\u001b[0;34m(\u001b[0m\u001b[0;34m'timeit'\u001b[0m\u001b[0;34m,\u001b[0m \u001b[0;34m'x*x*x'\u001b[0m\u001b[0;34m)\u001b[0m\u001b[0;34m\u001b[0m\u001b[0;34m\u001b[0m\u001b[0m\n\u001b[0;32m----> 5\u001b[0;31m \u001b[0mget_ipython\u001b[0m\u001b[0;34m(\u001b[0m\u001b[0;34m)\u001b[0m\u001b[0;34m.\u001b[0m\u001b[0mrun_line_magic\u001b[0m\u001b[0;34m(\u001b[0m\u001b[0;34m'timeit'\u001b[0m\u001b[0;34m,\u001b[0m \u001b[0;34m\"np.einsum('i,i,i->i',x,x,x)\"\u001b[0m\u001b[0;34m)\u001b[0m\u001b[0;34m\u001b[0m\u001b[0;34m\u001b[0m\u001b[0m\n\u001b[0m",
            "\u001b[0;32m/usr/local/lib/python3.8/dist-packages/IPython/core/interactiveshell.py\u001b[0m in \u001b[0;36mrun_line_magic\u001b[0;34m(self, magic_name, line, _stack_depth)\u001b[0m\n\u001b[1;32m   2312\u001b[0m                 \u001b[0mkwargs\u001b[0m\u001b[0;34m[\u001b[0m\u001b[0;34m'local_ns'\u001b[0m\u001b[0;34m]\u001b[0m \u001b[0;34m=\u001b[0m \u001b[0msys\u001b[0m\u001b[0;34m.\u001b[0m\u001b[0m_getframe\u001b[0m\u001b[0;34m(\u001b[0m\u001b[0mstack_depth\u001b[0m\u001b[0;34m)\u001b[0m\u001b[0;34m.\u001b[0m\u001b[0mf_locals\u001b[0m\u001b[0;34m\u001b[0m\u001b[0;34m\u001b[0m\u001b[0m\n\u001b[1;32m   2313\u001b[0m             \u001b[0;32mwith\u001b[0m \u001b[0mself\u001b[0m\u001b[0;34m.\u001b[0m\u001b[0mbuiltin_trap\u001b[0m\u001b[0;34m:\u001b[0m\u001b[0;34m\u001b[0m\u001b[0;34m\u001b[0m\u001b[0m\n\u001b[0;32m-> 2314\u001b[0;31m                 \u001b[0mresult\u001b[0m \u001b[0;34m=\u001b[0m \u001b[0mfn\u001b[0m\u001b[0;34m(\u001b[0m\u001b[0;34m*\u001b[0m\u001b[0margs\u001b[0m\u001b[0;34m,\u001b[0m \u001b[0;34m**\u001b[0m\u001b[0mkwargs\u001b[0m\u001b[0;34m)\u001b[0m\u001b[0;34m\u001b[0m\u001b[0;34m\u001b[0m\u001b[0m\n\u001b[0m\u001b[1;32m   2315\u001b[0m             \u001b[0;32mreturn\u001b[0m \u001b[0mresult\u001b[0m\u001b[0;34m\u001b[0m\u001b[0;34m\u001b[0m\u001b[0m\n\u001b[1;32m   2316\u001b[0m \u001b[0;34m\u001b[0m\u001b[0m\n",
            "\u001b[0;32m<decorator-gen-53>\u001b[0m in \u001b[0;36mtimeit\u001b[0;34m(self, line, cell, local_ns)\u001b[0m\n",
            "\u001b[0;32m/usr/local/lib/python3.8/dist-packages/IPython/core/magic.py\u001b[0m in \u001b[0;36m<lambda>\u001b[0;34m(f, *a, **k)\u001b[0m\n\u001b[1;32m    185\u001b[0m     \u001b[0;31m# but it's overkill for just that one bit of state.\u001b[0m\u001b[0;34m\u001b[0m\u001b[0;34m\u001b[0m\u001b[0;34m\u001b[0m\u001b[0m\n\u001b[1;32m    186\u001b[0m     \u001b[0;32mdef\u001b[0m \u001b[0mmagic_deco\u001b[0m\u001b[0;34m(\u001b[0m\u001b[0marg\u001b[0m\u001b[0;34m)\u001b[0m\u001b[0;34m:\u001b[0m\u001b[0;34m\u001b[0m\u001b[0;34m\u001b[0m\u001b[0m\n\u001b[0;32m--> 187\u001b[0;31m         \u001b[0mcall\u001b[0m \u001b[0;34m=\u001b[0m \u001b[0;32mlambda\u001b[0m \u001b[0mf\u001b[0m\u001b[0;34m,\u001b[0m \u001b[0;34m*\u001b[0m\u001b[0ma\u001b[0m\u001b[0;34m,\u001b[0m \u001b[0;34m**\u001b[0m\u001b[0mk\u001b[0m\u001b[0;34m:\u001b[0m \u001b[0mf\u001b[0m\u001b[0;34m(\u001b[0m\u001b[0;34m*\u001b[0m\u001b[0ma\u001b[0m\u001b[0;34m,\u001b[0m \u001b[0;34m**\u001b[0m\u001b[0mk\u001b[0m\u001b[0;34m)\u001b[0m\u001b[0;34m\u001b[0m\u001b[0;34m\u001b[0m\u001b[0m\n\u001b[0m\u001b[1;32m    188\u001b[0m \u001b[0;34m\u001b[0m\u001b[0m\n\u001b[1;32m    189\u001b[0m         \u001b[0;32mif\u001b[0m \u001b[0mcallable\u001b[0m\u001b[0;34m(\u001b[0m\u001b[0marg\u001b[0m\u001b[0;34m)\u001b[0m\u001b[0;34m:\u001b[0m\u001b[0;34m\u001b[0m\u001b[0;34m\u001b[0m\u001b[0m\n",
            "\u001b[0;32m/usr/local/lib/python3.8/dist-packages/IPython/core/magics/execution.py\u001b[0m in \u001b[0;36mtimeit\u001b[0;34m(self, line, cell, local_ns)\u001b[0m\n\u001b[1;32m   1156\u001b[0m             \u001b[0;32mfor\u001b[0m \u001b[0mindex\u001b[0m \u001b[0;32min\u001b[0m \u001b[0mrange\u001b[0m\u001b[0;34m(\u001b[0m\u001b[0;36m0\u001b[0m\u001b[0;34m,\u001b[0m \u001b[0;36m10\u001b[0m\u001b[0;34m)\u001b[0m\u001b[0;34m:\u001b[0m\u001b[0;34m\u001b[0m\u001b[0;34m\u001b[0m\u001b[0m\n\u001b[1;32m   1157\u001b[0m                 \u001b[0mnumber\u001b[0m \u001b[0;34m=\u001b[0m \u001b[0;36m10\u001b[0m \u001b[0;34m**\u001b[0m \u001b[0mindex\u001b[0m\u001b[0;34m\u001b[0m\u001b[0;34m\u001b[0m\u001b[0m\n\u001b[0;32m-> 1158\u001b[0;31m                 \u001b[0mtime_number\u001b[0m \u001b[0;34m=\u001b[0m \u001b[0mtimer\u001b[0m\u001b[0;34m.\u001b[0m\u001b[0mtimeit\u001b[0m\u001b[0;34m(\u001b[0m\u001b[0mnumber\u001b[0m\u001b[0;34m)\u001b[0m\u001b[0;34m\u001b[0m\u001b[0;34m\u001b[0m\u001b[0m\n\u001b[0m\u001b[1;32m   1159\u001b[0m                 \u001b[0;32mif\u001b[0m \u001b[0mtime_number\u001b[0m \u001b[0;34m>=\u001b[0m \u001b[0;36m0.2\u001b[0m\u001b[0;34m:\u001b[0m\u001b[0;34m\u001b[0m\u001b[0;34m\u001b[0m\u001b[0m\n\u001b[1;32m   1160\u001b[0m                     \u001b[0;32mbreak\u001b[0m\u001b[0;34m\u001b[0m\u001b[0;34m\u001b[0m\u001b[0m\n",
            "\u001b[0;32m/usr/local/lib/python3.8/dist-packages/IPython/core/magics/execution.py\u001b[0m in \u001b[0;36mtimeit\u001b[0;34m(self, number)\u001b[0m\n\u001b[1;32m    167\u001b[0m         \u001b[0mgc\u001b[0m\u001b[0;34m.\u001b[0m\u001b[0mdisable\u001b[0m\u001b[0;34m(\u001b[0m\u001b[0;34m)\u001b[0m\u001b[0;34m\u001b[0m\u001b[0;34m\u001b[0m\u001b[0m\n\u001b[1;32m    168\u001b[0m         \u001b[0;32mtry\u001b[0m\u001b[0;34m:\u001b[0m\u001b[0;34m\u001b[0m\u001b[0;34m\u001b[0m\u001b[0m\n\u001b[0;32m--> 169\u001b[0;31m             \u001b[0mtiming\u001b[0m \u001b[0;34m=\u001b[0m \u001b[0mself\u001b[0m\u001b[0;34m.\u001b[0m\u001b[0minner\u001b[0m\u001b[0;34m(\u001b[0m\u001b[0mit\u001b[0m\u001b[0;34m,\u001b[0m \u001b[0mself\u001b[0m\u001b[0;34m.\u001b[0m\u001b[0mtimer\u001b[0m\u001b[0;34m)\u001b[0m\u001b[0;34m\u001b[0m\u001b[0;34m\u001b[0m\u001b[0m\n\u001b[0m\u001b[1;32m    170\u001b[0m         \u001b[0;32mfinally\u001b[0m\u001b[0;34m:\u001b[0m\u001b[0;34m\u001b[0m\u001b[0;34m\u001b[0m\u001b[0m\n\u001b[1;32m    171\u001b[0m             \u001b[0;32mif\u001b[0m \u001b[0mgcold\u001b[0m\u001b[0;34m:\u001b[0m\u001b[0;34m\u001b[0m\u001b[0;34m\u001b[0m\u001b[0m\n",
            "\u001b[0;32m<magic-timeit>\u001b[0m in \u001b[0;36minner\u001b[0;34m(_it, _timer)\u001b[0m\n",
            "\u001b[0;32m/usr/local/lib/python3.8/dist-packages/numpy/core/overrides.py\u001b[0m in \u001b[0;36meinsum\u001b[0;34m(*args, **kwargs)\u001b[0m\n",
            "\u001b[0;32m/usr/local/lib/python3.8/dist-packages/numpy/core/einsumfunc.py\u001b[0m in \u001b[0;36meinsum\u001b[0;34m(out, optimize, *operands, **kwargs)\u001b[0m\n\u001b[1;32m   1357\u001b[0m         \u001b[0;32mif\u001b[0m \u001b[0mspecified_out\u001b[0m\u001b[0;34m:\u001b[0m\u001b[0;34m\u001b[0m\u001b[0;34m\u001b[0m\u001b[0m\n\u001b[1;32m   1358\u001b[0m             \u001b[0mkwargs\u001b[0m\u001b[0;34m[\u001b[0m\u001b[0;34m'out'\u001b[0m\u001b[0;34m]\u001b[0m \u001b[0;34m=\u001b[0m \u001b[0mout\u001b[0m\u001b[0;34m\u001b[0m\u001b[0;34m\u001b[0m\u001b[0m\n\u001b[0;32m-> 1359\u001b[0;31m         \u001b[0;32mreturn\u001b[0m \u001b[0mc_einsum\u001b[0m\u001b[0;34m(\u001b[0m\u001b[0;34m*\u001b[0m\u001b[0moperands\u001b[0m\u001b[0;34m,\u001b[0m \u001b[0;34m**\u001b[0m\u001b[0mkwargs\u001b[0m\u001b[0;34m)\u001b[0m\u001b[0;34m\u001b[0m\u001b[0;34m\u001b[0m\u001b[0m\n\u001b[0m\u001b[1;32m   1360\u001b[0m \u001b[0;34m\u001b[0m\u001b[0m\n\u001b[1;32m   1361\u001b[0m     \u001b[0;31m# Check the kwargs to avoid a more cryptic error later, without having to\u001b[0m\u001b[0;34m\u001b[0m\u001b[0;34m\u001b[0m\u001b[0;34m\u001b[0m\u001b[0m\n",
            "\u001b[0;31mValueError\u001b[0m: einstein sum subscripts string contains too many subscripts for operand 0"
          ]
        }
      ],
      "source": [
        "Z = np.random.rand(int(999))\n",
        "\n",
        "%timeit np.power(x,3)\n",
        "%timeit x*x*x\n",
        "%timeit np.einsum('i,i,i->i',x,x,x)"
      ]
    },
    {
      "cell_type": "markdown",
      "metadata": {
        "id": "75twY2boXGTZ"
      },
      "source": [
        "#### 93. Consider two arrays A and B of shape (8,3) and (2,2). How to find rows of A that contain elements of each row of B regardless of the order of the elements in B? (★★★) \n",
        "(**hint**: np.where)"
      ]
    },
    {
      "cell_type": "code",
      "execution_count": 127,
      "metadata": {
        "id": "c7kvNaDtXGTZ",
        "colab": {
          "base_uri": "https://localhost:8080/"
        },
        "outputId": "9271e399-bf56-417d-84fe-5b1ddb804c54"
      },
      "outputs": [
        {
          "output_type": "stream",
          "name": "stdout",
          "text": [
            "[0 1 2 4 5 6]\n"
          ]
        }
      ],
      "source": [
        "A = np.random.randint(0,5,(8,3))\n",
        "B = np.random.randint(0,5,(2,2))\n",
        "\n",
        "C = (A[..., np.newaxis, np.newaxis] == B)\n",
        "rows = np.where(C.any((3,1)).all(1))[0]\n",
        "print(rows)"
      ]
    },
    {
      "cell_type": "markdown",
      "metadata": {
        "id": "dqnA6cfNXGTa"
      },
      "source": [
        "#### 94. Considering a 10x3 matrix, extract rows with unequal values (e.g. \\[2,2,3\\]) (★★★)"
      ]
    },
    {
      "cell_type": "code",
      "execution_count": 128,
      "metadata": {
        "id": "n4VIs-PmXGTa",
        "colab": {
          "base_uri": "https://localhost:8080/"
        },
        "outputId": "7cf97ad3-21f0-4911-c188-a99c12deac3c"
      },
      "outputs": [
        {
          "output_type": "stream",
          "name": "stdout",
          "text": [
            "[[4 3 0]\n",
            " [1 4 2]\n",
            " [3 3 0]\n",
            " [1 3 3]\n",
            " [3 0 2]]\n",
            "[[4 3 0]\n",
            " [1 4 2]\n",
            " [3 3 0]\n",
            " [1 3 3]\n",
            " [3 0 2]]\n",
            "[[4 3 0]\n",
            " [1 4 2]\n",
            " [3 3 0]\n",
            " [1 3 3]\n",
            " [3 0 2]]\n"
          ]
        }
      ],
      "source": [
        "Z = np.random.randint(0,5,(5,3))\n",
        "print(Z)\n",
        "# solution for arrays of all dtypes (including string arrays and record arrays)\n",
        "E = np.all(Z[:,1:] == Z[:,:-1], axis=1)\n",
        "U = Z[~E]\n",
        "print(U)\n",
        "# soluiton for numerical arrays only, will work for any number of columns in Z\n",
        "U = Z[Z.max(axis=1) != Z.min(axis=1),:]\n",
        "print(U)"
      ]
    },
    {
      "cell_type": "markdown",
      "metadata": {
        "id": "Qrx6-wOGXGTa"
      },
      "source": [
        "#### 95. Convert a vector of ints into a matrix binary representation (★★★) \n",
        "(**hint**: np.unpackbits)"
      ]
    },
    {
      "cell_type": "code",
      "execution_count": 129,
      "metadata": {
        "id": "3Gouja1LXGTa",
        "colab": {
          "base_uri": "https://localhost:8080/"
        },
        "outputId": "398a6936-8f18-4230-8f2a-7eef7aed5a71"
      },
      "outputs": [
        {
          "output_type": "stream",
          "name": "stdout",
          "text": [
            "[[0 0 0 0 0 0 0 0]\n",
            " [0 0 0 0 0 0 0 1]\n",
            " [0 0 0 0 0 0 1 0]\n",
            " [0 0 0 0 0 0 1 1]\n",
            " [0 0 0 0 0 1 0 0]\n",
            " [0 0 0 0 0 1 0 1]\n",
            " [0 0 1 0 0 0 0 0]\n",
            " [0 1 0 0 0 0 0 0]\n",
            " [0 1 0 0 1 0 0 0]]\n"
          ]
        }
      ],
      "source": [
        "I = np.array([0, 1, 2, 3, 4, 5, 32, 64, 72])\n",
        "B = ((I.reshape(-1,1) & (2**np.arange(8))) != 0).astype(int)\n",
        "print(B[:,::-1])"
      ]
    },
    {
      "cell_type": "markdown",
      "metadata": {
        "id": "z6D1iKWMXGTa"
      },
      "source": [
        "#### 96. Given a two dimensional array, how to extract unique rows? (★★★) \n",
        "(**hint**: np.ascontiguousarray)"
      ]
    },
    {
      "cell_type": "code",
      "execution_count": 133,
      "metadata": {
        "id": "Hjp0x7jRXGTa",
        "colab": {
          "base_uri": "https://localhost:8080/"
        },
        "outputId": "0f41d5fa-d446-4a13-e4e0-f79b60f5b246"
      },
      "outputs": [
        {
          "output_type": "stream",
          "name": "stdout",
          "text": [
            "[[0 0 0 1 0 1 1 1]\n",
            " [0 1 1 1 0 1 1 1]\n",
            " [1 0 1 0 1 1 0 0]\n",
            " [1 1 0 0 0 0 1 0]]\n"
          ]
        }
      ],
      "source": [
        "Z = np.random.randint(0,2,(4,8))\n",
        "T = np.ascontiguousarray(Z).view(np.dtype((np.void, Z.dtype.itemsize * Z.shape[1])))\n",
        "_, id = np.unique(T, return_index=True)\n",
        "u = Z[id]\n",
        "print(u)"
      ]
    },
    {
      "cell_type": "markdown",
      "metadata": {
        "id": "boUiQmpzXGTb"
      },
      "source": [
        "#### 97. Considering 2 vectors A & B, write the einsum equivalent of inner, outer, sum, and mul function (★★★) \n",
        "(**hint**: np.einsum)"
      ]
    },
    {
      "cell_type": "code",
      "execution_count": 134,
      "metadata": {
        "id": "Ps4EMZ-0XGTb",
        "colab": {
          "base_uri": "https://localhost:8080/"
        },
        "outputId": "893c76cb-7d5c-4f86-fac4-7a745ad8a46f"
      },
      "outputs": [
        {
          "output_type": "execute_result",
          "data": {
            "text/plain": [
              "array([[0.00264187, 0.03456506, 0.01469343, 0.02739532, 0.00597823,\n",
              "        0.01878068, 0.02755697, 0.02557285, 0.00744895, 0.02700387,\n",
              "        0.02129473, 0.02303284, 0.0288214 , 0.03571281, 0.01385096,\n",
              "        0.02002522, 0.033648  , 0.02762043, 0.00154702, 0.0043603 ],\n",
              "       [0.05122711, 0.6702324 , 0.28491223, 0.5312077 , 0.11592054,\n",
              "        0.36416588, 0.53434217, 0.49586932, 0.14443859, 0.52361746,\n",
              "        0.41291449, 0.44661728, 0.55886009, 0.69248768, 0.26857642,\n",
              "        0.38829823, 0.65245019, 0.53557272, 0.02999741, 0.08454818],\n",
              "       [0.02618541, 0.34259814, 0.14563665, 0.27153383, 0.05925432,\n",
              "        0.1861482 , 0.27313606, 0.25347015, 0.07383169, 0.26765398,\n",
              "        0.2110667 , 0.22829432, 0.28566872, 0.35397422, 0.13728638,\n",
              "        0.19848377, 0.33350853, 0.27376507, 0.01533357, 0.04321792],\n",
              "       [0.05457629, 0.71405166, 0.30353957, 0.56593764, 0.12349934,\n",
              "        0.38797476, 0.56927704, 0.52828886, 0.15388187, 0.55785116,\n",
              "        0.43991051, 0.47581676, 0.59539792, 0.73776197, 0.28613573,\n",
              "        0.41368487, 0.69510687, 0.57058804, 0.03195862, 0.09007588],\n",
              "       [0.02941812, 0.38489345, 0.16361616, 0.30505593, 0.06656953,\n",
              "        0.20912905, 0.30685595, 0.2847622 , 0.08294655, 0.30069709,\n",
              "        0.23712385, 0.2564783 , 0.32093583, 0.39767396, 0.15423502,\n",
              "        0.2229875 , 0.37468169, 0.30756262, 0.01722657, 0.04855337],\n",
              "       [0.02764519, 0.36169728, 0.15375559, 0.28667128, 0.06255762,\n",
              "        0.19652558, 0.28836283, 0.26760059, 0.07794766, 0.28257514,\n",
              "        0.22283323, 0.24102126, 0.30159416, 0.37370756, 0.14493982,\n",
              "        0.20954883, 0.35210095, 0.28902691, 0.01618839, 0.04562723],\n",
              "       [0.04471404, 0.58501842, 0.24868822, 0.46366945, 0.1011823 ,\n",
              "        0.31786549, 0.4664054 , 0.43282402, 0.12607453, 0.45704424,\n",
              "        0.36041615, 0.38983393, 0.48780609, 0.60444414, 0.23442936,\n",
              "        0.33892963, 0.56949706, 0.46747949, 0.02618351, 0.07379865],\n",
              "       [0.02796028, 0.36581974, 0.15550803, 0.28993863, 0.06327063,\n",
              "        0.19876549, 0.29164946, 0.27065058, 0.07883607, 0.2857958 ,\n",
              "        0.22537298, 0.24376831, 0.30503159, 0.37796691, 0.14659178,\n",
              "        0.21193717, 0.35611403, 0.2923211 , 0.0163729 , 0.04614727],\n",
              "       [0.02258717, 0.29552037, 0.12562414, 0.23422129, 0.05111195,\n",
              "        0.16056884, 0.23560335, 0.21863981, 0.06368619, 0.23087458,\n",
              "        0.18206318, 0.19692349, 0.24641384, 0.30533322, 0.11842132,\n",
              "        0.17120933, 0.2876798 , 0.23614592, 0.01322653, 0.03727917],\n",
              "       [0.04606206, 0.6026553 , 0.25618557, 0.47764796, 0.1042327 ,\n",
              "        0.32744836, 0.48046639, 0.44587262, 0.12987537, 0.47082302,\n",
              "        0.37128183, 0.40158648, 0.50251226, 0.62266667, 0.24149684,\n",
              "        0.34914754, 0.58666601, 0.48157287, 0.02697288, 0.0760235 ],\n",
              "       [0.02785344, 0.36442188, 0.1549138 , 0.28883072, 0.06302886,\n",
              "        0.19800597, 0.29053501, 0.26961637, 0.07853482, 0.28470372,\n",
              "        0.22451179, 0.24283682, 0.30386601, 0.37652262, 0.14603162,\n",
              "        0.21112732, 0.35475325, 0.29120409, 0.01631033, 0.04597093],\n",
              "       [0.03064012, 0.4008815 , 0.17041259, 0.31772761, 0.06933476,\n",
              "        0.21781604, 0.31960241, 0.29659091, 0.08639206, 0.31318772,\n",
              "        0.24697371, 0.26713212, 0.33426715, 0.4141929 , 0.16064177,\n",
              "        0.23225016, 0.39024555, 0.32033843, 0.01794215, 0.05057022],\n",
              "       [0.06278479, 0.8214479 , 0.34919314, 0.65105693, 0.14207413,\n",
              "        0.44632772, 0.65489859, 0.60774563, 0.17702632, 0.64175421,\n",
              "        0.50607482, 0.54738151, 0.68494816, 0.84872434, 0.3291717 ,\n",
              "        0.47590473, 0.79965374, 0.65640677, 0.03676532, 0.10362365],\n",
              "       [0.03694339, 0.48335071, 0.20546982, 0.38309043, 0.08359828,\n",
              "        0.26262508, 0.38535091, 0.35760549, 0.10416461, 0.37761659,\n",
              "        0.29778106, 0.32208646, 0.40303247, 0.49940053, 0.19368894,\n",
              "        0.28002858, 0.47052674, 0.38623835, 0.0216332 , 0.06097351],\n",
              "       [0.04619949, 0.60445334, 0.2569499 , 0.47907303, 0.10454368,\n",
              "        0.32842531, 0.48189987, 0.44720289, 0.13026285, 0.47222773,\n",
              "        0.37238955, 0.40278462, 0.50401151, 0.6245244 , 0.24221735,\n",
              "        0.35018922, 0.58841634, 0.48300965, 0.02705336, 0.07625031],\n",
              "       [0.01869373, 0.24458037, 0.10396982, 0.19384765, 0.04230158,\n",
              "        0.13289096, 0.19499148, 0.18095202, 0.05270835, 0.19107783,\n",
              "        0.15068024, 0.16297902, 0.20393853, 0.25270174, 0.09800857,\n",
              "        0.14169731, 0.23809131, 0.19544053, 0.01094662, 0.03085322],\n",
              "       [0.04060268, 0.5312272 , 0.22582186, 0.42103602, 0.0918788 ,\n",
              "        0.28863842, 0.4235204 , 0.39302676, 0.11448224, 0.41501999,\n",
              "        0.32727664, 0.35398952, 0.44295334, 0.54886677, 0.21287407,\n",
              "        0.30776576, 0.517133  , 0.42449574, 0.02377599, 0.06701302],\n",
              "       [0.00374075, 0.04894223, 0.02080508, 0.03879026, 0.00846484,\n",
              "        0.0265924 , 0.03901915, 0.03620975, 0.01054731, 0.038236  ,\n",
              "        0.03015216, 0.03261323, 0.04080951, 0.05056737, 0.01961219,\n",
              "        0.02835461, 0.04764372, 0.039109  , 0.00219049, 0.00617394],\n",
              "       [0.01930957, 0.25263778, 0.10739498, 0.20023373, 0.04369516,\n",
              "        0.13726889, 0.20141524, 0.18691326, 0.05444476, 0.19737266,\n",
              "        0.15564422, 0.16834817, 0.21065704, 0.2610267 , 0.10123735,\n",
              "        0.14636536, 0.24593495, 0.20187908, 0.01130724, 0.03186964],\n",
              "       [0.0460102 , 0.60197678, 0.25589713, 0.47711017, 0.10411534,\n",
              "        0.32707969, 0.47992543, 0.44537061, 0.12972914, 0.47029292,\n",
              "        0.3708638 , 0.40113434, 0.50194648, 0.62196561, 0.24122494,\n",
              "        0.34875443, 0.58600549, 0.48103067, 0.02694251, 0.0759379 ]])"
            ]
          },
          "metadata": {},
          "execution_count": 134
        }
      ],
      "source": [
        "A = np.random.uniform(0,1,20)\n",
        "B = np.random.uniform(0,1,20)\n",
        "\n",
        "np.einsum('i->', A)       # np.sum(A)\n",
        "np.einsum('i,i->i', A, B) # A * B\n",
        "np.einsum('i,i', A, B)    # np.inner(A, B)\n",
        "np.einsum('i,j->ij', A, B)    # np.outer(A, B)"
      ]
    },
    {
      "cell_type": "markdown",
      "metadata": {
        "id": "TSanG1b9XGTb"
      },
      "source": [
        "#### 98. Considering a path described by two vectors (X,Y), how to sample it using equidistant samples (★★★)? \n",
        "(**hint**: np.cumsum, np.interp)"
      ]
    },
    {
      "cell_type": "code",
      "execution_count": null,
      "metadata": {
        "collapsed": true,
        "id": "P3fS9xaeXGTb"
      },
      "outputs": [],
      "source": []
    },
    {
      "cell_type": "markdown",
      "metadata": {
        "id": "l1HM6ZkvXGTb"
      },
      "source": [
        "#### 99. Given an integer n and a 2D array X, select from X the rows which can be interpreted as draws from a multinomial distribution with n degrees, i.e., the rows which only contain integers and which sum to n. (★★★) \n",
        "(**hint**: np.logical\\_and.reduce, np.mod)"
      ]
    },
    {
      "cell_type": "code",
      "execution_count": 142,
      "metadata": {
        "id": "9nMAtNTDXGTb",
        "colab": {
          "base_uri": "https://localhost:8080/"
        },
        "outputId": "11bb61e1-f83b-40e4-ff61-53544492030b"
      },
      "outputs": [
        {
          "output_type": "stream",
          "name": "stdout",
          "text": [
            "[[2. 0. 1. 1.]]\n"
          ]
        }
      ],
      "source": [
        "X = np.asarray([[1.0, 0.0, 1.0, 8.0],\n",
        "                [2.0, 0.0, 1.0, 1.0],\n",
        "                [1.5, 2.5, 1.0, 0.0]])\n",
        "n = 4\n",
        "M = np.logical_and.reduce(np.mod(X, 1) == 0, axis=-1)\n",
        "M &= (X.sum(axis=-1) == n)\n",
        "print(X[M])"
      ]
    },
    {
      "cell_type": "markdown",
      "metadata": {
        "id": "jI4IdGIlXGTc"
      },
      "source": [
        "#### 100. Compute bootstrapped 95% confidence intervals for the mean of a 1D array X (i.e., resample the elements of an array with replacement N times, compute the mean of each sample, and then compute percentiles over the means). (★★★) \n",
        "(**hint**: np.percentile)"
      ]
    },
    {
      "cell_type": "code",
      "execution_count": 144,
      "metadata": {
        "id": "K39_CLwsXGTc",
        "colab": {
          "base_uri": "https://localhost:8080/"
        },
        "outputId": "008aacd6-824c-442f-f5ee-8fd6512a3910"
      },
      "outputs": [
        {
          "output_type": "stream",
          "name": "stdout",
          "text": [
            "[-0.04939087  0.53645528]\n"
          ]
        }
      ],
      "source": [
        "X = np.random.randn(50) \n",
        "N = 500 \n",
        "id = np.random.randint(0, X.size, (N, X.size))\n",
        "means = X[id].mean(axis=1)\n",
        "conf = np.percentile(means, [1.5, 96.5])\n",
        "print(conf)"
      ]
    }
  ],
  "metadata": {
    "kernelspec": {
      "display_name": "Python 3",
      "language": "python",
      "name": "python3"
    },
    "language_info": {
      "codemirror_mode": {
        "name": "ipython",
        "version": 3
      },
      "file_extension": ".py",
      "mimetype": "text/x-python",
      "name": "python",
      "nbconvert_exporter": "python",
      "pygments_lexer": "ipython3",
      "version": "3.8.3"
    },
    "colab": {
      "provenance": []
    }
  },
  "nbformat": 4,
  "nbformat_minor": 0
}